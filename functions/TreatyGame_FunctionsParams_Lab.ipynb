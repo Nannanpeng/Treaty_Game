{
 "cells": [
  {
   "cell_type": "markdown",
   "metadata": {},
   "source": [
    "# <center> Treaty Game: Functions and Parameters"
   ]
  },
  {
   "cell_type": "markdown",
   "metadata": {},
   "source": [
    "## 1. Income functions:"
   ]
  },
  {
   "cell_type": "markdown",
   "metadata": {},
   "source": [
    "$\\textbf{For natives}$:\n",
    "         $$\\large I_n = \\frac{A_1}{1+e^{(-B_1*(L_n - C_1))}} -  \\frac{A_1}{1+e^{(B_1*C_1)}}$$\n",
    "where $A_1, B_1,$ and $C_1$ are parameters. $L_n$ is the land owned by the native.\n",
    "\n",
    "$\\textbf{For settlers}$:\n",
    "         $$\\large I_s = \\frac{A_2}{1+e^{(-B_2*(L_s - C_2))}} -  \\frac{A_2}{1+e^{(B_2*C_2)}}$$\n",
    "where $A_2, B_2,$ and $C_2$ are parameters. $L_s$ is the land owned by the settler.\n",
    "\n",
    "$\\textbf{Note}:$ It always has $L_s + L_n = 100.$"
   ]
  },
  {
   "cell_type": "markdown",
   "metadata": {},
   "source": [
    "## 2. Expansion functions"
   ]
  },
  {
   "cell_type": "markdown",
   "metadata": {},
   "source": [
    "$\\textbf{For natives}$:\n",
    "         $$\\large E_n = \\frac{S_n^{(1-\\gamma)}}{L_n+D}*(H-L_n)$$\n",
    "where $\\gamma, D$ and $H$ are parameters. $L_n$ is the land owned by the native. $S_n$ is the native's spending on expansion. In another form,\n",
    "         $$\\large S_n = \\big( E_n * \\frac{L_n+D}{H-L_n} \\big)^{\\frac{1}{1-\\gamma}} $$\n",
    "\n",
    "\n",
    "$\\textbf{For settlers}$:\n",
    "         $$\\large E_s = \\frac{S_s^{(1-\\beta)}}{L_s+D+E}*(H-L_s)$$\n",
    "where $\\beta, D, E$ and $H$ are parameters. $L_s$ is the land owned by the settler. $S_s$ is the settler's spending on expansion. In aother form,\n",
    "         $$\\large S_s = \\big( E_s * \\frac{L_s+D+E}{H-L_s} \\big)^{\\frac{1}{1-\\beta}} $$\n",
    "\n",
    "$\\textbf{Note:}$ The land change for the native is $L_n + E_n - E_s$. For the settler, it is $L_s + E_s - E_n$."
   ]
  },
  {
   "cell_type": "markdown",
   "metadata": {},
   "source": [
    "## 3. Parameters and income plot\n",
    "Below are the currently used parameters."
   ]
  },
  {
   "cell_type": "code",
   "execution_count": 1,
   "metadata": {},
   "outputs": [],
   "source": [
    "A1 = 120; B1 = 0.045; C1=18  # native's income\n",
    "A2 = 180; B2 = 0.065; C2=40  # settler's income\n",
    "\n",
    "gamma = 0.5         # native's expansion\n",
    "beta = 0.5; E = 150  # settler's expansion. note: OLD E=100\n",
    "D = 20; H = 150      # common params for both. note: OLD D=0  \n",
    "\n",
    "# another two parameters\n",
    "prob = 1/12      # probability of ending the game in each period.\n",
    "n_default = 10  # default periods without uncertainty at the beginning of the game"
   ]
  },
  {
   "cell_type": "code",
   "execution_count": 2,
   "metadata": {},
   "outputs": [],
   "source": [
    "import numpy as np\n",
    "import matplotlib.pyplot as plt\n",
    "\n",
    "def Income(land, params):\n",
    "    A, B, C = params\n",
    "    left = A/(1+np.exp(-B*(land-C)))\n",
    "    right = A/(1+np.exp(B*C))\n",
    "    return left - right"
   ]
  },
  {
   "cell_type": "code",
   "execution_count": 3,
   "metadata": {},
   "outputs": [
    {
     "data": {
      "text/plain": [
       "77.55508433819757"
      ]
     },
     "execution_count": 3,
     "metadata": {},
     "output_type": "execute_result"
    }
   ],
   "source": [
    "Income(40, [A2, B2, C2]) # settler's income"
   ]
  },
  {
   "cell_type": "code",
   "execution_count": 4,
   "metadata": {},
   "outputs": [
    {
     "data": {
      "text/plain": [
       "67.30380418359178"
      ]
     },
     "execution_count": 4,
     "metadata": {},
     "output_type": "execute_result"
    }
   ],
   "source": [
    "Income(60, [A1, B1, C1]) # native's income"
   ]
  },
  {
   "cell_type": "code",
   "execution_count": 5,
   "metadata": {},
   "outputs": [],
   "source": [
    "def ExpansionCost(expansion, c_land, params, player='N'):\n",
    "    if player == 'N':\n",
    "        D, H, gamma = params\n",
    "        cost = (expansion * (c_land + D)/(H - c_land))**(1/(1-gamma))\n",
    "    if player == 'S':\n",
    "        D, E, H, beta = params\n",
    "        cost = (expansion * (c_land + D + E)/(H - c_land))**(1/(1-beta))\n",
    "    return cost"
   ]
  },
  {
   "cell_type": "code",
   "execution_count": 6,
   "metadata": {},
   "outputs": [
    {
     "data": {
      "text/plain": [
       "213.60946745562129"
      ]
     },
     "execution_count": 6,
     "metadata": {},
     "output_type": "execute_result"
    }
   ],
   "source": [
    "ExpansionCost(10, 20, [D, E, H, beta], 'S') # settler's expansion cost"
   ]
  },
  {
   "cell_type": "code",
   "execution_count": 15,
   "metadata": {},
   "outputs": [
    {
     "data": {
      "text/plain": [
       "16.0"
      ]
     },
     "execution_count": 15,
     "metadata": {},
     "output_type": "execute_result"
    }
   ],
   "source": [
    "ExpansionCost(30, 0, [D, H, gamma], 'N') # Native's expansion cost"
   ]
  },
  {
   "cell_type": "code",
   "execution_count": 16,
   "metadata": {},
   "outputs": [],
   "source": [
    "land = np.linspace(0, 100, 100)\n",
    "I_n = Income(land, [A1, B1, C1])\n",
    "I_s = Income(100 - land, [A2, B2, C2])\n",
    "Total_income = I_n + I_s\n",
    "\n",
    "Incomes = [I_n, I_s, Total_income]\n",
    "Labels = ['Native', 'Settler', 'Total']"
   ]
  },
  {
   "cell_type": "code",
   "execution_count": 19,
   "metadata": {},
   "outputs": [
    {
     "data": {
      "image/png": "[encoded data removed]",
      "text/plain": [
       "<Figure size 432x288 with 1 Axes>"
      ]
     },
     "metadata": {
      "needs_background": "light"
     },
     "output_type": "display_data"
    }
   ],
   "source": [
    "for income, label in zip(Incomes, Labels):\n",
    "    plt.plot(land, income, label = label)\n",
    "plt.legend()\n",
    "plt.grid()\n",
    "plt.xlabel('Land')\n",
    "plt.ylabel('Income')\n",
    "plt.title('The comparison between different incomes', pad=15, size=12)\n",
    "plt.axvline(60, c='r', linestyle='--');"
   ]
  },
  {
   "cell_type": "markdown",
   "metadata": {},
   "source": [
    "$\\textbf{Note}:$ With current parameters, the land split in the Nash equilibrium is: $L_n = 60$ and $L_s = 40$. For expansion, \n",
    "$S_s = 69$ and $N_s = 15$. "
   ]
  },
  {
   "cell_type": "markdown",
   "metadata": {},
   "source": [
    "## 4. Cost function"
   ]
  },
  {
   "cell_type": "code",
   "execution_count": 18,
   "metadata": {},
   "outputs": [
    {
     "data": {
      "image/png": "[encoded data removed]",
      "text/plain": [
       "<Figure size 432x288 with 1 Axes>"
      ]
     },
     "metadata": {
      "needs_background": "light"
     },
     "output_type": "display_data"
    }
   ],
   "source": [
    "current_land = np.arange(10, 95, 10)\n",
    "s_expansion_costs = [ExpansionCost(5, l, [D, E, H, beta], 'S') for l in current_land]\n",
    "n_expansion_costs = [ExpansionCost(5, l, [D, H, gamma], 'N') for l in current_land]\n",
    "\n",
    "plt.plot(current_land, s_expansion_costs, '.-', label='settler')\n",
    "plt.plot(current_land, n_expansion_costs, '.-', label='native')\n",
    "plt.legend()\n",
    "plt.xlabel('Currrent Land')\n",
    "plt.ylabel('Expansion cost for five units of land')\n",
    "plt.grid();"
   ]
  },
  {
   "cell_type": "markdown",
   "metadata": {},
   "source": [
    "### <center> Functions to simulate treaty length"
   ]
  },
  {
   "cell_type": "markdown",
   "metadata": {},
   "source": [
    "## 1. Propose a new treaty\n",
    "Gudiance: The purpose of treaty is to save from fighting and earn more benefits. For settlers, when the cost of fighting (land expansion) is higher or when the land split is far away from the global efficiency, it becomes more profitable to propose a treaty.\n",
    "The probability of proposing a new treaty could be some functions like,\n",
    "    $$ p = f(S_{land}, S_{spending}), $$\n",
    "where $p$ is descreasing with $S_{land}$ and increasing with $S_{spending}$.\n",
    "A candidate function could be \n",
    "    $$ p = \\frac{1}{1+e^{-a*S_{spending}} - b*|S_{land} - S_{efficiency-land}|}.$$\n",
    "where $a, b$ are postive constants.\n",
    "\n",
    "## 2. Content of a new treaty\n",
    "How to split the land? How much should the annuity or lump sum be?\n",
    "This might need some assumption about how should the two subjects shares the total benefits. This might be determined by one's sense of fairness and understanding of the experiment.\n",
    "\n",
    "## 3. End a treaty\n",
    "A treaty could be ending by both subjects. The motivation of ending a treaty more likely comes from an understaning that there are more profitable treaties. For settler, ending a treaty might be determined be the 'profit distance' between the current treaty and the 'best treaty'. For native, ...\n",
    "\n"
   ]
  },
  {
   "cell_type": "code",
   "execution_count": null,
   "metadata": {},
   "outputs": [],
   "source": []
  },
  {
   "cell_type": "markdown",
   "metadata": {},
   "source": [
    "## Probability calculation for experiment"
   ]
  },
  {
   "cell_type": "code",
   "execution_count": 1,
   "metadata": {},
   "outputs": [],
   "source": [
    "import numpy as np\n",
    "from scipy.stats import geom\n",
    "import pandas as pd\n",
    "import matplotlib.pyplot as plt"
   ]
  },
  {
   "cell_type": "code",
   "execution_count": 2,
   "metadata": {},
   "outputs": [],
   "source": [
    "p = 1/6"
   ]
  },
  {
   "cell_type": "code",
   "execution_count": 3,
   "metadata": {},
   "outputs": [
    {
     "data": {
      "text/plain": [
       "0.8878433452153849"
      ]
     },
     "execution_count": 3,
     "metadata": {},
     "output_type": "execute_result"
    }
   ],
   "source": [
    "WheelPort = geom.cdf(k=12, p=p) # probaility of running >= 13 periods\n",
    "WheelPort"
   ]
  },
  {
   "cell_type": "code",
   "execution_count": 4,
   "metadata": {},
   "outputs": [
    {
     "data": {
      "text/plain": [
       "array([19., 16., 13., 11.,  9.,  8.,  6.,  5.,  4.,  4.,  3.,  3.])"
      ]
     },
     "execution_count": 4,
     "metadata": {},
     "output_type": "execute_result"
    }
   ],
   "source": [
    "periods = np.arange(1, 13)\n",
    "np.round(geom.pmf(k=periods, p=p)/WheelPort * 100)"
   ]
  },
  {
   "cell_type": "markdown",
   "metadata": {},
   "source": [
    "## pdf for periods in each match"
   ]
  },
  {
   "cell_type": "code",
   "execution_count": 5,
   "metadata": {},
   "outputs": [],
   "source": [
    "periods = np.arange(1, 41)\n",
    "geom_pdf = geom.pmf(k = periods, p=p)"
   ]
  },
  {
   "cell_type": "code",
   "execution_count": 6,
   "metadata": {},
   "outputs": [
    {
     "data": {
      "image/png": "[encoded data removed]",
      "text/plain": [
       "<Figure size 720x432 with 1 Axes>"
      ]
     },
     "metadata": {
      "needs_background": "light"
     },
     "output_type": "display_data"
    }
   ],
   "source": [
    "plt.figure(figsize=(10, 6))\n",
    "plt.plot(periods, geom_pdf, 'o-r')\n",
    "plt.grid()\n",
    "plt.xlabel('Period')\n",
    "plt.ylabel('Probability');"
   ]
  },
  {
   "cell_type": "code",
   "execution_count": 19,
   "metadata": {},
   "outputs": [
    {
     "data": {
      "text/html": [
       "<div>\n",
       "<style scoped>\n",
       "    .dataframe tbody tr th:only-of-type {\n",
       "        vertical-align: middle;\n",
       "    }\n",
       "\n",
       "    .dataframe tbody tr th {\n",
       "        vertical-align: top;\n",
       "    }\n",
       "\n",
       "    .dataframe thead th {\n",
       "        text-align: right;\n",
       "    }\n",
       "</style>\n",
       "<table border=\"1\" class=\"dataframe\">\n",
       "  <thead>\n",
       "    <tr style=\"text-align: right;\">\n",
       "      <th></th>\n",
       "      <th>period</th>\n",
       "      <th>probability</th>\n",
       "    </tr>\n",
       "  </thead>\n",
       "  <tbody>\n",
       "    <tr>\n",
       "      <th>0</th>\n",
       "      <td>1</td>\n",
       "      <td>0.166667</td>\n",
       "    </tr>\n",
       "    <tr>\n",
       "      <th>1</th>\n",
       "      <td>2</td>\n",
       "      <td>0.138889</td>\n",
       "    </tr>\n",
       "    <tr>\n",
       "      <th>2</th>\n",
       "      <td>3</td>\n",
       "      <td>0.115741</td>\n",
       "    </tr>\n",
       "    <tr>\n",
       "      <th>3</th>\n",
       "      <td>4</td>\n",
       "      <td>0.096451</td>\n",
       "    </tr>\n",
       "    <tr>\n",
       "      <th>4</th>\n",
       "      <td>5</td>\n",
       "      <td>0.080376</td>\n",
       "    </tr>\n",
       "    <tr>\n",
       "      <th>5</th>\n",
       "      <td>6</td>\n",
       "      <td>0.066980</td>\n",
       "    </tr>\n",
       "    <tr>\n",
       "      <th>6</th>\n",
       "      <td>7</td>\n",
       "      <td>0.055816</td>\n",
       "    </tr>\n",
       "    <tr>\n",
       "      <th>7</th>\n",
       "      <td>8</td>\n",
       "      <td>0.046514</td>\n",
       "    </tr>\n",
       "    <tr>\n",
       "      <th>8</th>\n",
       "      <td>9</td>\n",
       "      <td>0.038761</td>\n",
       "    </tr>\n",
       "    <tr>\n",
       "      <th>9</th>\n",
       "      <td>10</td>\n",
       "      <td>0.032301</td>\n",
       "    </tr>\n",
       "    <tr>\n",
       "      <th>10</th>\n",
       "      <td>11</td>\n",
       "      <td>0.026918</td>\n",
       "    </tr>\n",
       "    <tr>\n",
       "      <th>11</th>\n",
       "      <td>12</td>\n",
       "      <td>0.022431</td>\n",
       "    </tr>\n",
       "    <tr>\n",
       "      <th>12</th>\n",
       "      <td>13</td>\n",
       "      <td>0.018693</td>\n",
       "    </tr>\n",
       "    <tr>\n",
       "      <th>13</th>\n",
       "      <td>14</td>\n",
       "      <td>0.015577</td>\n",
       "    </tr>\n",
       "    <tr>\n",
       "      <th>14</th>\n",
       "      <td>15</td>\n",
       "      <td>0.012981</td>\n",
       "    </tr>\n",
       "    <tr>\n",
       "      <th>15</th>\n",
       "      <td>16</td>\n",
       "      <td>0.010818</td>\n",
       "    </tr>\n",
       "    <tr>\n",
       "      <th>16</th>\n",
       "      <td>17</td>\n",
       "      <td>0.009015</td>\n",
       "    </tr>\n",
       "    <tr>\n",
       "      <th>17</th>\n",
       "      <td>18</td>\n",
       "      <td>0.007512</td>\n",
       "    </tr>\n",
       "    <tr>\n",
       "      <th>18</th>\n",
       "      <td>19</td>\n",
       "      <td>0.006260</td>\n",
       "    </tr>\n",
       "    <tr>\n",
       "      <th>19</th>\n",
       "      <td>20</td>\n",
       "      <td>0.005217</td>\n",
       "    </tr>\n",
       "    <tr>\n",
       "      <th>20</th>\n",
       "      <td>21</td>\n",
       "      <td>0.004347</td>\n",
       "    </tr>\n",
       "    <tr>\n",
       "      <th>21</th>\n",
       "      <td>22</td>\n",
       "      <td>0.003623</td>\n",
       "    </tr>\n",
       "    <tr>\n",
       "      <th>22</th>\n",
       "      <td>23</td>\n",
       "      <td>0.003019</td>\n",
       "    </tr>\n",
       "    <tr>\n",
       "      <th>23</th>\n",
       "      <td>24</td>\n",
       "      <td>0.002516</td>\n",
       "    </tr>\n",
       "    <tr>\n",
       "      <th>24</th>\n",
       "      <td>25</td>\n",
       "      <td>0.002097</td>\n",
       "    </tr>\n",
       "    <tr>\n",
       "      <th>25</th>\n",
       "      <td>26</td>\n",
       "      <td>0.001747</td>\n",
       "    </tr>\n",
       "    <tr>\n",
       "      <th>26</th>\n",
       "      <td>27</td>\n",
       "      <td>0.001456</td>\n",
       "    </tr>\n",
       "    <tr>\n",
       "      <th>27</th>\n",
       "      <td>28</td>\n",
       "      <td>0.001213</td>\n",
       "    </tr>\n",
       "    <tr>\n",
       "      <th>28</th>\n",
       "      <td>29</td>\n",
       "      <td>0.001011</td>\n",
       "    </tr>\n",
       "    <tr>\n",
       "      <th>29</th>\n",
       "      <td>30</td>\n",
       "      <td>0.000843</td>\n",
       "    </tr>\n",
       "    <tr>\n",
       "      <th>30</th>\n",
       "      <td>31</td>\n",
       "      <td>0.000702</td>\n",
       "    </tr>\n",
       "    <tr>\n",
       "      <th>31</th>\n",
       "      <td>32</td>\n",
       "      <td>0.000585</td>\n",
       "    </tr>\n",
       "    <tr>\n",
       "      <th>32</th>\n",
       "      <td>33</td>\n",
       "      <td>0.000488</td>\n",
       "    </tr>\n",
       "    <tr>\n",
       "      <th>33</th>\n",
       "      <td>34</td>\n",
       "      <td>0.000406</td>\n",
       "    </tr>\n",
       "    <tr>\n",
       "      <th>34</th>\n",
       "      <td>35</td>\n",
       "      <td>0.000339</td>\n",
       "    </tr>\n",
       "    <tr>\n",
       "      <th>35</th>\n",
       "      <td>36</td>\n",
       "      <td>0.000282</td>\n",
       "    </tr>\n",
       "    <tr>\n",
       "      <th>36</th>\n",
       "      <td>37</td>\n",
       "      <td>0.000235</td>\n",
       "    </tr>\n",
       "    <tr>\n",
       "      <th>37</th>\n",
       "      <td>38</td>\n",
       "      <td>0.000196</td>\n",
       "    </tr>\n",
       "    <tr>\n",
       "      <th>38</th>\n",
       "      <td>39</td>\n",
       "      <td>0.000163</td>\n",
       "    </tr>\n",
       "    <tr>\n",
       "      <th>39</th>\n",
       "      <td>40</td>\n",
       "      <td>0.000136</td>\n",
       "    </tr>\n",
       "  </tbody>\n",
       "</table>\n",
       "</div>"
      ],
      "text/plain": [
       "    period  probability\n",
       "0        1     0.166667\n",
       "1        2     0.138889\n",
       "2        3     0.115741\n",
       "3        4     0.096451\n",
       "4        5     0.080376\n",
       "5        6     0.066980\n",
       "6        7     0.055816\n",
       "7        8     0.046514\n",
       "8        9     0.038761\n",
       "9       10     0.032301\n",
       "10      11     0.026918\n",
       "11      12     0.022431\n",
       "12      13     0.018693\n",
       "13      14     0.015577\n",
       "14      15     0.012981\n",
       "15      16     0.010818\n",
       "16      17     0.009015\n",
       "17      18     0.007512\n",
       "18      19     0.006260\n",
       "19      20     0.005217\n",
       "20      21     0.004347\n",
       "21      22     0.003623\n",
       "22      23     0.003019\n",
       "23      24     0.002516\n",
       "24      25     0.002097\n",
       "25      26     0.001747\n",
       "26      27     0.001456\n",
       "27      28     0.001213\n",
       "28      29     0.001011\n",
       "29      30     0.000843\n",
       "30      31     0.000702\n",
       "31      32     0.000585\n",
       "32      33     0.000488\n",
       "33      34     0.000406\n",
       "34      35     0.000339\n",
       "35      36     0.000282\n",
       "36      37     0.000235\n",
       "37      38     0.000196\n",
       "38      39     0.000163\n",
       "39      40     0.000136"
      ]
     },
     "execution_count": 19,
     "metadata": {},
     "output_type": "execute_result"
    }
   ],
   "source": [
    "pd.DataFrame(zip(periods, geom_pdf), columns=['period', 'probability'])"
   ]
  },
  {
   "cell_type": "markdown",
   "metadata": {},
   "source": [
    "### Random draw simulations"
   ]
  },
  {
   "cell_type": "code",
   "execution_count": 43,
   "metadata": {},
   "outputs": [],
   "source": [
    "p = 1/12\n",
    "n_max = 24\n",
    "period = 6\n",
    "p_draws = geom.rvs(p, size=1000)\n",
    "\n",
    "possible_periods = np.arange(period, period+n_max, period)\n",
    "p_draws[p_draws >=n_max] = 24\n",
    "\n",
    "p_periods_match = p_draws.copy()\n",
    "for i in possible_periods:\n",
    "    p_periods_match[(p_periods_match<=i) & (p_periods_match>i-period)] = i"
   ]
  },
  {
   "cell_type": "code",
   "execution_count": 44,
   "metadata": {},
   "outputs": [
    {
     "data": {
      "text/plain": [
       "81.59250585480093"
      ]
     },
     "execution_count": 44,
     "metadata": {},
     "output_type": "execute_result"
    }
   ],
   "source": [
    "# effective payments periods\n",
    "eff_pay = p_draws.sum()/p_periods_match.sum() * 100\n",
    "eff_pay"
   ]
  },
  {
   "cell_type": "code",
   "execution_count": 45,
   "metadata": {},
   "outputs": [
    {
     "data": {
      "text/plain": [
       "12.81"
      ]
     },
     "execution_count": 45,
     "metadata": {},
     "output_type": "execute_result"
    }
   ],
   "source": [
    "# average periods in each match\n",
    "p_periods_match.mean()"
   ]
  },
  {
   "cell_type": "code",
   "execution_count": 78,
   "metadata": {},
   "outputs": [
    {
     "data": {
      "text/plain": [
       "array([28, 12,  7, 17,  1,  6,  3, 15,  4])"
      ]
     },
     "execution_count": 78,
     "metadata": {},
     "output_type": "execute_result"
    }
   ],
   "source": [
    "geom.rvs(p, size=9)"
   ]
  },
  {
   "cell_type": "markdown",
   "metadata": {},
   "source": [
    "### Time and match choice"
   ]
  },
  {
   "cell_type": "code",
   "execution_count": 20,
   "metadata": {},
   "outputs": [
    {
     "data": {
      "text/plain": [
       "135.0"
      ]
     },
     "execution_count": 20,
     "metadata": {},
     "output_type": "execute_result"
    }
   ],
   "source": [
    "T = 90  # 2h experiments (30 mins for instrcution and 90 mins for subjects)\n",
    "seconds_period = 40\n",
    "tot_period = T*60/40\n",
    "tot_period"
   ]
  },
  {
   "cell_type": "markdown",
   "metadata": {},
   "source": [
    "### Payments multiplier"
   ]
  },
  {
   "cell_type": "code",
   "execution_count": 107,
   "metadata": {},
   "outputs": [
    {
     "data": {
      "text/plain": [
       "(397.8, 191.88)"
      ]
     },
     "execution_count": 107,
     "metadata": {},
     "output_type": "execute_result"
    }
   ],
   "source": [
    "s_income = 41\n",
    "n_income = 85\n",
    "n_match = 9\n",
    "ave_periods = 13\n",
    "payment = 25\n",
    "\n",
    "tot_n_income = n_income * n_match * ave_periods\n",
    "tot_s_income = s_income * n_match * ave_periods\n",
    "n_exchange_rate = tot_n_income/payment\n",
    "s_exchange_rate =  tot_s_income/payment\n",
    "\n",
    "n_exchange_rate, s_exchange_rate"
   ]
  },
  {
   "cell_type": "markdown",
   "metadata": {},
   "source": [
    "# Questions\n",
    "\n",
    "1. Initialization: land split, endowments\n",
    "2. Design: total periods, blocks, matches\n",
    "3. Decision: decision time (treaty, expansion)"
   ]
  },
  {
   "cell_type": "code",
   "execution_count": null,
   "metadata": {},
   "outputs": [],
   "source": []
  }
 ],
 "metadata": {
  "kernelspec": {
   "display_name": "Python 3",
   "language": "python",
   "name": "python3"
  },
  "language_info": {
   "codemirror_mode": {
    "name": "ipython",
    "version": 3
   },
   "file_extension": ".py",
   "mimetype": "text/x-python",
   "name": "python",
   "nbconvert_exporter": "python",
   "pygments_lexer": "ipython3",
   "version": "3.8.5"
  }
 },
 "nbformat": 4,
 "nbformat_minor": 4
}
