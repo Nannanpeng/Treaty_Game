{
  "nbformat": 4,
  "nbformat_minor": 0,
  "metadata": {
    "colab": {
      "name": "Profits_simulation.ipynb",
      "provenance": [],
      "collapsed_sections": [],
      "authorship_tag": "ABX9TyPX5IwVQP48IybL8cXBgsiQ",
      "include_colab_link": true
    },
    "kernelspec": {
      "name": "python3",
      "display_name": "Python 3"
    }
  },
  "cells": [
    {
      "cell_type": "markdown",
      "metadata": {
        "id": "view-in-github",
        "colab_type": "text"
      },
      "source": [
        "<a href=\"https://colab.research.google.com/github/Nannanpeng/Treaty_Game/blob/master/Profits_simulation.ipynb\" target=\"_parent\"><img src=\"https://colab.research.google.com/assets/colab-badge.svg\" alt=\"Open In Colab\"/></a>"
      ]
    },
    {
      "cell_type": "markdown",
      "metadata": {
        "id": "BKKCRuu5C9hR",
        "colab_type": "text"
      },
      "source": [
        "# <center> Data simulation for treaty game\n",
        "## <center> ---- model for player profits\n",
        "## There are several conclusions from this simlutaion.\n",
        "* The data simulation shows that the profits have high variances. \n",
        "It indicates we might want to average the payoffs for the subjects\n",
        "in the lab. \n",
        "* The profits of each player (or the total profits) seems to follow\n",
        "some 'geometric' or 'exponential' distribution. That's not a surprise \n",
        "since the periods of the experiment are drawn from geometric distribution.\n",
        "* After scaling down the profits, I can fit the profits with a geometric\n",
        "or a exponential model. And the exponential model seems to be better if we focus on the mean.\n",
        "* Unfortunately, the simulation cannt add treaties, which is hard to do here. "
      ]
    },
    {
      "cell_type": "code",
      "metadata": {
        "id": "JZMTYr0t2226",
        "colab_type": "code",
        "colab": {
          "base_uri": "https://localhost:8080/",
          "height": 877
        },
        "outputId": "4ecd8889-9c11-4ffb-e8a8-95ab08fc76eb"
      },
      "source": [
        "!pip install --upgrade pymc3==3.8\n",
        "!pip install arviz"
      ],
      "execution_count": 1,
      "outputs": [
        {
          "output_type": "stream",
          "text": [
            "Collecting pymc3==3.8\n",
            "\u001b[?25l  Downloading https://files.pythonhosted.org/packages/32/19/6c94cbadb287745ac38ff1197b9fadd66500b6b9c468e79099b110c6a2e9/pymc3-3.8-py3-none-any.whl (908kB)\n",
            "\r\u001b[K     |▍                               | 10kB 17.2MB/s eta 0:00:01\r\u001b[K     |▊                               | 20kB 1.8MB/s eta 0:00:01\r\u001b[K     |█                               | 30kB 2.4MB/s eta 0:00:01\r\u001b[K     |█▍                              | 40kB 3.1MB/s eta 0:00:01\r\u001b[K     |█▉                              | 51kB 2.1MB/s eta 0:00:01\r\u001b[K     |██▏                             | 61kB 2.5MB/s eta 0:00:01\r\u001b[K     |██▌                             | 71kB 2.9MB/s eta 0:00:01\r\u001b[K     |██▉                             | 81kB 3.2MB/s eta 0:00:01\r\u001b[K     |███▎                            | 92kB 3.6MB/s eta 0:00:01\r\u001b[K     |███▋                            | 102kB 2.8MB/s eta 0:00:01\r\u001b[K     |████                            | 112kB 2.8MB/s eta 0:00:01\r\u001b[K     |████▎                           | 122kB 2.8MB/s eta 0:00:01\r\u001b[K     |████▊                           | 133kB 2.8MB/s eta 0:00:01\r\u001b[K     |█████                           | 143kB 2.8MB/s eta 0:00:01\r\u001b[K     |█████▍                          | 153kB 2.8MB/s eta 0:00:01\r\u001b[K     |█████▊                          | 163kB 2.8MB/s eta 0:00:01\r\u001b[K     |██████▏                         | 174kB 2.8MB/s eta 0:00:01\r\u001b[K     |██████▌                         | 184kB 2.8MB/s eta 0:00:01\r\u001b[K     |██████▉                         | 194kB 2.8MB/s eta 0:00:01\r\u001b[K     |███████▏                        | 204kB 2.8MB/s eta 0:00:01\r\u001b[K     |███████▋                        | 215kB 2.8MB/s eta 0:00:01\r\u001b[K     |████████                        | 225kB 2.8MB/s eta 0:00:01\r\u001b[K     |████████▎                       | 235kB 2.8MB/s eta 0:00:01\r\u001b[K     |████████▋                       | 245kB 2.8MB/s eta 0:00:01\r\u001b[K     |█████████                       | 256kB 2.8MB/s eta 0:00:01\r\u001b[K     |█████████▍                      | 266kB 2.8MB/s eta 0:00:01\r\u001b[K     |█████████▊                      | 276kB 2.8MB/s eta 0:00:01\r\u001b[K     |██████████                      | 286kB 2.8MB/s eta 0:00:01\r\u001b[K     |██████████▌                     | 296kB 2.8MB/s eta 0:00:01\r\u001b[K     |██████████▉                     | 307kB 2.8MB/s eta 0:00:01\r\u001b[K     |███████████▏                    | 317kB 2.8MB/s eta 0:00:01\r\u001b[K     |███████████▌                    | 327kB 2.8MB/s eta 0:00:01\r\u001b[K     |████████████                    | 337kB 2.8MB/s eta 0:00:01\r\u001b[K     |████████████▎                   | 348kB 2.8MB/s eta 0:00:01\r\u001b[K     |████████████▋                   | 358kB 2.8MB/s eta 0:00:01\r\u001b[K     |█████████████                   | 368kB 2.8MB/s eta 0:00:01\r\u001b[K     |█████████████▍                  | 378kB 2.8MB/s eta 0:00:01\r\u001b[K     |█████████████▊                  | 389kB 2.8MB/s eta 0:00:01\r\u001b[K     |██████████████                  | 399kB 2.8MB/s eta 0:00:01\r\u001b[K     |██████████████▍                 | 409kB 2.8MB/s eta 0:00:01\r\u001b[K     |██████████████▉                 | 419kB 2.8MB/s eta 0:00:01\r\u001b[K     |███████████████▏                | 430kB 2.8MB/s eta 0:00:01\r\u001b[K     |███████████████▌                | 440kB 2.8MB/s eta 0:00:01\r\u001b[K     |███████████████▉                | 450kB 2.8MB/s eta 0:00:01\r\u001b[K     |████████████████▎               | 460kB 2.8MB/s eta 0:00:01\r\u001b[K     |████████████████▋               | 471kB 2.8MB/s eta 0:00:01\r\u001b[K     |█████████████████               | 481kB 2.8MB/s eta 0:00:01\r\u001b[K     |█████████████████▎              | 491kB 2.8MB/s eta 0:00:01\r\u001b[K     |█████████████████▋              | 501kB 2.8MB/s eta 0:00:01\r\u001b[K     |██████████████████              | 512kB 2.8MB/s eta 0:00:01\r\u001b[K     |██████████████████▍             | 522kB 2.8MB/s eta 0:00:01\r\u001b[K     |██████████████████▊             | 532kB 2.8MB/s eta 0:00:01\r\u001b[K     |███████████████████             | 542kB 2.8MB/s eta 0:00:01\r\u001b[K     |███████████████████▌            | 552kB 2.8MB/s eta 0:00:01\r\u001b[K     |███████████████████▉            | 563kB 2.8MB/s eta 0:00:01\r\u001b[K     |████████████████████▏           | 573kB 2.8MB/s eta 0:00:01\r\u001b[K     |████████████████████▌           | 583kB 2.8MB/s eta 0:00:01\r\u001b[K     |█████████████████████           | 593kB 2.8MB/s eta 0:00:01\r\u001b[K     |█████████████████████▎          | 604kB 2.8MB/s eta 0:00:01\r\u001b[K     |█████████████████████▋          | 614kB 2.8MB/s eta 0:00:01\r\u001b[K     |██████████████████████          | 624kB 2.8MB/s eta 0:00:01\r\u001b[K     |██████████████████████▍         | 634kB 2.8MB/s eta 0:00:01\r\u001b[K     |██████████████████████▊         | 645kB 2.8MB/s eta 0:00:01\r\u001b[K     |███████████████████████         | 655kB 2.8MB/s eta 0:00:01\r\u001b[K     |███████████████████████▍        | 665kB 2.8MB/s eta 0:00:01\r\u001b[K     |███████████████████████▉        | 675kB 2.8MB/s eta 0:00:01\r\u001b[K     |████████████████████████▏       | 686kB 2.8MB/s eta 0:00:01\r\u001b[K     |████████████████████████▌       | 696kB 2.8MB/s eta 0:00:01\r\u001b[K     |████████████████████████▉       | 706kB 2.8MB/s eta 0:00:01\r\u001b[K     |█████████████████████████▎      | 716kB 2.8MB/s eta 0:00:01\r\u001b[K     |█████████████████████████▋      | 727kB 2.8MB/s eta 0:00:01\r\u001b[K     |██████████████████████████      | 737kB 2.8MB/s eta 0:00:01\r\u001b[K     |██████████████████████████▎     | 747kB 2.8MB/s eta 0:00:01\r\u001b[K     |██████████████████████████▊     | 757kB 2.8MB/s eta 0:00:01\r\u001b[K     |███████████████████████████     | 768kB 2.8MB/s eta 0:00:01\r\u001b[K     |███████████████████████████▍    | 778kB 2.8MB/s eta 0:00:01\r\u001b[K     |███████████████████████████▊    | 788kB 2.8MB/s eta 0:00:01\r\u001b[K     |████████████████████████████▏   | 798kB 2.8MB/s eta 0:00:01\r\u001b[K     |████████████████████████████▌   | 808kB 2.8MB/s eta 0:00:01\r\u001b[K     |████████████████████████████▉   | 819kB 2.8MB/s eta 0:00:01\r\u001b[K     |█████████████████████████████▏  | 829kB 2.8MB/s eta 0:00:01\r\u001b[K     |█████████████████████████████▋  | 839kB 2.8MB/s eta 0:00:01\r\u001b[K     |██████████████████████████████  | 849kB 2.8MB/s eta 0:00:01\r\u001b[K     |██████████████████████████████▎ | 860kB 2.8MB/s eta 0:00:01\r\u001b[K     |██████████████████████████████▋ | 870kB 2.8MB/s eta 0:00:01\r\u001b[K     |███████████████████████████████ | 880kB 2.8MB/s eta 0:00:01\r\u001b[K     |███████████████████████████████▍| 890kB 2.8MB/s eta 0:00:01\r\u001b[K     |███████████████████████████████▊| 901kB 2.8MB/s eta 0:00:01\r\u001b[K     |████████████████████████████████| 911kB 2.8MB/s \n",
            "\u001b[?25hCollecting arviz>=0.4.1\n",
            "\u001b[?25l  Downloading https://files.pythonhosted.org/packages/d2/ed/2f9d0217fac295b3dd158195060e5350c1c9a2abcba04030a426a15fd908/arviz-0.9.0-py3-none-any.whl (1.5MB)\n",
            "\u001b[K     |████████████████████████████████| 1.5MB 51.0MB/s \n",
            "\u001b[?25hRequirement already satisfied, skipping upgrade: pandas>=0.18.0 in /usr/local/lib/python3.6/dist-packages (from pymc3==3.8) (1.0.5)\n",
            "Requirement already satisfied, skipping upgrade: numpy>=1.13.0 in /usr/local/lib/python3.6/dist-packages (from pymc3==3.8) (1.18.5)\n",
            "Requirement already satisfied, skipping upgrade: tqdm>=4.8.4 in /usr/local/lib/python3.6/dist-packages (from pymc3==3.8) (4.41.1)\n",
            "Requirement already satisfied, skipping upgrade: patsy>=0.4.0 in /usr/local/lib/python3.6/dist-packages (from pymc3==3.8) (0.5.1)\n",
            "Requirement already satisfied, skipping upgrade: theano>=1.0.4 in /usr/local/lib/python3.6/dist-packages (from pymc3==3.8) (1.0.5)\n",
            "Requirement already satisfied, skipping upgrade: h5py>=2.7.0 in /usr/local/lib/python3.6/dist-packages (from pymc3==3.8) (2.10.0)\n",
            "Requirement already satisfied, skipping upgrade: scipy>=0.18.1 in /usr/local/lib/python3.6/dist-packages (from pymc3==3.8) (1.4.1)\n",
            "Collecting netcdf4\n",
            "\u001b[?25l  Downloading https://files.pythonhosted.org/packages/09/39/3687b2ba762a709cd97e48dfaf3ae36a78ae603ec3d1487f767ad58a7b2e/netCDF4-1.5.4-cp36-cp36m-manylinux1_x86_64.whl (4.3MB)\n",
            "\u001b[K     |████████████████████████████████| 4.3MB 49.8MB/s \n",
            "\u001b[?25hRequirement already satisfied, skipping upgrade: matplotlib>=3.0 in /usr/local/lib/python3.6/dist-packages (from arviz>=0.4.1->pymc3==3.8) (3.2.2)\n",
            "Requirement already satisfied, skipping upgrade: xarray>=0.11 in /usr/local/lib/python3.6/dist-packages (from arviz>=0.4.1->pymc3==3.8) (0.15.1)\n",
            "Requirement already satisfied, skipping upgrade: packaging in /usr/local/lib/python3.6/dist-packages (from arviz>=0.4.1->pymc3==3.8) (20.4)\n",
            "Requirement already satisfied, skipping upgrade: pytz>=2017.2 in /usr/local/lib/python3.6/dist-packages (from pandas>=0.18.0->pymc3==3.8) (2018.9)\n",
            "Requirement already satisfied, skipping upgrade: python-dateutil>=2.6.1 in /usr/local/lib/python3.6/dist-packages (from pandas>=0.18.0->pymc3==3.8) (2.8.1)\n",
            "Requirement already satisfied, skipping upgrade: six in /usr/local/lib/python3.6/dist-packages (from patsy>=0.4.0->pymc3==3.8) (1.15.0)\n",
            "Collecting cftime\n",
            "\u001b[?25l  Downloading https://files.pythonhosted.org/packages/81/f4/31cb9b65f462ea960bd334c5466313cb7b8af792f272546b68b7868fccd4/cftime-1.2.1-cp36-cp36m-manylinux1_x86_64.whl (287kB)\n",
            "\u001b[K     |████████████████████████████████| 296kB 53.0MB/s \n",
            "\u001b[?25hRequirement already satisfied, skipping upgrade: kiwisolver>=1.0.1 in /usr/local/lib/python3.6/dist-packages (from matplotlib>=3.0->arviz>=0.4.1->pymc3==3.8) (1.2.0)\n",
            "Requirement already satisfied, skipping upgrade: cycler>=0.10 in /usr/local/lib/python3.6/dist-packages (from matplotlib>=3.0->arviz>=0.4.1->pymc3==3.8) (0.10.0)\n",
            "Requirement already satisfied, skipping upgrade: pyparsing!=2.0.4,!=2.1.2,!=2.1.6,>=2.0.1 in /usr/local/lib/python3.6/dist-packages (from matplotlib>=3.0->arviz>=0.4.1->pymc3==3.8) (2.4.7)\n",
            "Requirement already satisfied, skipping upgrade: setuptools>=41.2 in /usr/local/lib/python3.6/dist-packages (from xarray>=0.11->arviz>=0.4.1->pymc3==3.8) (49.2.0)\n",
            "Installing collected packages: cftime, netcdf4, arviz, pymc3\n",
            "  Found existing installation: pymc3 3.7\n",
            "    Uninstalling pymc3-3.7:\n",
            "      Successfully uninstalled pymc3-3.7\n",
            "Successfully installed arviz-0.9.0 cftime-1.2.1 netcdf4-1.5.4 pymc3-3.8\n",
            "Requirement already satisfied: arviz in /usr/local/lib/python3.6/dist-packages (0.9.0)\n",
            "Requirement already satisfied: xarray>=0.11 in /usr/local/lib/python3.6/dist-packages (from arviz) (0.15.1)\n",
            "Requirement already satisfied: pandas>=0.23 in /usr/local/lib/python3.6/dist-packages (from arviz) (1.0.5)\n",
            "Requirement already satisfied: numpy>=1.12 in /usr/local/lib/python3.6/dist-packages (from arviz) (1.18.5)\n",
            "Requirement already satisfied: netcdf4 in /usr/local/lib/python3.6/dist-packages (from arviz) (1.5.4)\n",
            "Requirement already satisfied: packaging in /usr/local/lib/python3.6/dist-packages (from arviz) (20.4)\n",
            "Requirement already satisfied: scipy>=0.19 in /usr/local/lib/python3.6/dist-packages (from arviz) (1.4.1)\n",
            "Requirement already satisfied: matplotlib>=3.0 in /usr/local/lib/python3.6/dist-packages (from arviz) (3.2.2)\n",
            "Requirement already satisfied: setuptools>=41.2 in /usr/local/lib/python3.6/dist-packages (from xarray>=0.11->arviz) (49.2.0)\n",
            "Requirement already satisfied: pytz>=2017.2 in /usr/local/lib/python3.6/dist-packages (from pandas>=0.23->arviz) (2018.9)\n",
            "Requirement already satisfied: python-dateutil>=2.6.1 in /usr/local/lib/python3.6/dist-packages (from pandas>=0.23->arviz) (2.8.1)\n",
            "Requirement already satisfied: cftime in /usr/local/lib/python3.6/dist-packages (from netcdf4->arviz) (1.2.1)\n",
            "Requirement already satisfied: pyparsing>=2.0.2 in /usr/local/lib/python3.6/dist-packages (from packaging->arviz) (2.4.7)\n",
            "Requirement already satisfied: six in /usr/local/lib/python3.6/dist-packages (from packaging->arviz) (1.15.0)\n",
            "Requirement already satisfied: kiwisolver>=1.0.1 in /usr/local/lib/python3.6/dist-packages (from matplotlib>=3.0->arviz) (1.2.0)\n",
            "Requirement already satisfied: cycler>=0.10 in /usr/local/lib/python3.6/dist-packages (from matplotlib>=3.0->arviz) (0.10.0)\n"
          ],
          "name": "stdout"
        }
      ]
    },
    {
      "cell_type": "code",
      "metadata": {
        "id": "tiI-OgZI50zH",
        "colab_type": "code",
        "colab": {
          "base_uri": "https://localhost:8080/",
          "height": 34
        },
        "outputId": "f0370420-69c7-4cc3-e4b6-cce81688acb7"
      },
      "source": [
        "import numpy as np\n",
        "import pandas as pd\n",
        "from scipy.special import expit\n",
        "import certainty_and_uncertainty as model\n",
        "from scipy.stats import geom\n",
        "import matplotlib.pyplot as plt\n",
        "import pymc3 as pm\n",
        "import arviz as az\n",
        "import pymc3.distributions.transforms as tr\n",
        "\n",
        "print('Running on PyMC3 v{}'.format(pm.__version__))"
      ],
      "execution_count": 32,
      "outputs": [
        {
          "output_type": "stream",
          "text": [
            "Running on PyMC3 v3.8\n"
          ],
          "name": "stdout"
        }
      ]
    },
    {
      "cell_type": "markdown",
      "metadata": {
        "id": "AObZsFAx51qO",
        "colab_type": "text"
      },
      "source": [
        "# Data Generation\n",
        "Note: It will take some time to generate the simulated profits. \n",
        "You can skip it as I have generated some toy data you can \n",
        "play with. "
      ]
    },
    {
      "cell_type": "code",
      "metadata": {
        "id": "3lKMnjRY6XSZ",
        "colab_type": "code",
        "colab": {}
      },
      "source": [
        "n = 200\n",
        "prob = 1/6\n",
        "default_certainty_periods = 10\n",
        "n_initial_land = 65"
      ],
      "execution_count": 3,
      "outputs": []
    },
    {
      "cell_type": "code",
      "metadata": {
        "id": "dnP1PMwo7T9T",
        "colab_type": "code",
        "colab": {}
      },
      "source": [
        "ie = model.IncomeExpansion(120, 0.045, 18, 180, 0.065, 40, 8, 30, 100, 0.5, 0.5)\n",
        "pd_ = model.PlayerDecision(ie, prob, default_certainty_periods)\n",
        "dp = model.DP(ie, pd_)\n",
        "certainty_periods = geom.rvs(prob, size=200)"
      ],
      "execution_count": null,
      "outputs": []
    },
    {
      "cell_type": "code",
      "metadata": {
        "id": "3x-R-MvC8Wzv",
        "colab_type": "code",
        "colab": {
          "base_uri": "https://localhost:8080/",
          "height": 50
        },
        "outputId": "f3535aed-9423-4ead-cf08-bab3e7b4433b"
      },
      "source": [
        "%%time\n",
        "\n",
        "simulation_res = []\n",
        "for period in certainty_periods:\n",
        "  res = dp.Simulation(n_initial_land, period)\n",
        "  simulation_res.append(res)"
      ],
      "execution_count": null,
      "outputs": [
        {
          "output_type": "stream",
          "text": [
            "CPU times: user 41min 15s, sys: 35.3 s, total: 41min 50s\n",
            "Wall time: 40min 32s\n"
          ],
          "name": "stdout"
        }
      ]
    },
    {
      "cell_type": "code",
      "metadata": {
        "id": "tXVABGdq8oZ8",
        "colab_type": "code",
        "colab": {}
      },
      "source": [
        "simulation_data = pd.DataFrame(simulation_res, columns=['TotalPeriods', 'NativeProfit', 'SettlerProfit'])"
      ],
      "execution_count": null,
      "outputs": []
    },
    {
      "cell_type": "code",
      "metadata": {
        "id": "EdyE0CYdPcZo",
        "colab_type": "code",
        "colab": {}
      },
      "source": [
        "simulation_data.to_csv('simulation_profit.csv', index=False)"
      ],
      "execution_count": null,
      "outputs": []
    },
    {
      "cell_type": "markdown",
      "metadata": {
        "id": "jvQIwUiOPkYZ",
        "colab_type": "text"
      },
      "source": [
        "# Data Analysis"
      ]
    },
    {
      "cell_type": "markdown",
      "metadata": {
        "id": "8Qj_TcPdsQ4y",
        "colab_type": "text"
      },
      "source": [
        "##1. Descriptive statistics and visualization"
      ]
    },
    {
      "cell_type": "code",
      "metadata": {
        "id": "yAyM3IAUrLon",
        "colab_type": "code",
        "colab": {
          "base_uri": "https://localhost:8080/",
          "height": 284
        },
        "outputId": "35f56c88-5a97-41c7-ac5c-4dd938e487a0"
      },
      "source": [
        "profits = pd.read_csv('simulation_profit.csv')\n",
        "profits.describe()"
      ],
      "execution_count": 4,
      "outputs": [
        {
          "output_type": "execute_result",
          "data": {
            "text/html": [
              "<div>\n",
              "<style scoped>\n",
              "    .dataframe tbody tr th:only-of-type {\n",
              "        vertical-align: middle;\n",
              "    }\n",
              "\n",
              "    .dataframe tbody tr th {\n",
              "        vertical-align: top;\n",
              "    }\n",
              "\n",
              "    .dataframe thead th {\n",
              "        text-align: right;\n",
              "    }\n",
              "</style>\n",
              "<table border=\"1\" class=\"dataframe\">\n",
              "  <thead>\n",
              "    <tr style=\"text-align: right;\">\n",
              "      <th></th>\n",
              "      <th>TotalPeriods</th>\n",
              "      <th>NativeProfit</th>\n",
              "      <th>SettlerProfit</th>\n",
              "    </tr>\n",
              "  </thead>\n",
              "  <tbody>\n",
              "    <tr>\n",
              "      <th>count</th>\n",
              "      <td>200.000000</td>\n",
              "      <td>200.000000</td>\n",
              "      <td>200.000000</td>\n",
              "    </tr>\n",
              "    <tr>\n",
              "      <th>mean</th>\n",
              "      <td>16.385000</td>\n",
              "      <td>862.476350</td>\n",
              "      <td>1154.910350</td>\n",
              "    </tr>\n",
              "    <tr>\n",
              "      <th>std</th>\n",
              "      <td>6.252378</td>\n",
              "      <td>340.071984</td>\n",
              "      <td>619.801098</td>\n",
              "    </tr>\n",
              "    <tr>\n",
              "      <th>min</th>\n",
              "      <td>11.000000</td>\n",
              "      <td>562.080000</td>\n",
              "      <td>607.240000</td>\n",
              "    </tr>\n",
              "    <tr>\n",
              "      <th>25%</th>\n",
              "      <td>12.000000</td>\n",
              "      <td>624.127500</td>\n",
              "      <td>718.542500</td>\n",
              "    </tr>\n",
              "    <tr>\n",
              "      <th>50%</th>\n",
              "      <td>14.000000</td>\n",
              "      <td>735.505000</td>\n",
              "      <td>927.835000</td>\n",
              "    </tr>\n",
              "    <tr>\n",
              "      <th>75%</th>\n",
              "      <td>18.000000</td>\n",
              "      <td>955.530000</td>\n",
              "      <td>1335.842500</td>\n",
              "    </tr>\n",
              "    <tr>\n",
              "      <th>max</th>\n",
              "      <td>52.000000</td>\n",
              "      <td>2797.550000</td>\n",
              "      <td>4719.530000</td>\n",
              "    </tr>\n",
              "  </tbody>\n",
              "</table>\n",
              "</div>"
            ],
            "text/plain": [
              "       TotalPeriods  NativeProfit  SettlerProfit\n",
              "count    200.000000    200.000000     200.000000\n",
              "mean      16.385000    862.476350    1154.910350\n",
              "std        6.252378    340.071984     619.801098\n",
              "min       11.000000    562.080000     607.240000\n",
              "25%       12.000000    624.127500     718.542500\n",
              "50%       14.000000    735.505000     927.835000\n",
              "75%       18.000000    955.530000    1335.842500\n",
              "max       52.000000   2797.550000    4719.530000"
            ]
          },
          "metadata": {
            "tags": []
          },
          "execution_count": 4
        }
      ]
    },
    {
      "cell_type": "code",
      "metadata": {
        "id": "R67WHJFsrViZ",
        "colab_type": "code",
        "colab": {
          "base_uri": "https://localhost:8080/",
          "height": 314
        },
        "outputId": "22d1ead3-401f-49b4-83f8-7f3891cc57db"
      },
      "source": [
        "fig, axes = plt.subplots(1, 3, figsize=(16, 4))\n",
        "profits.hist(ax=axes, bins=50)\n",
        "fig.suptitle('The histogram of the simulated data', y=1.05, size=15);"
      ],
      "execution_count": 5,
      "outputs": [
        {
          "output_type": "display_data",
          "data": {
            "image/png": "[encoded data removed]",
            "text/plain": [
              "<Figure size 1152x288 with 3 Axes>"
            ]
          },
          "metadata": {
            "tags": [],
            "needs_background": "light"
          }
        }
      ]
    },
    {
      "cell_type": "code",
      "metadata": {
        "id": "6JbZMS5i1aMU",
        "colab_type": "code",
        "colab": {
          "base_uri": "https://localhost:8080/",
          "height": 281
        },
        "outputId": "deadfc21-c152-4405-fe48-d325a017afdb"
      },
      "source": [
        "plt.hist(profits.NativeProfit+profits.SettlerProfit, bins=50)\n",
        "plt.title(\"Histogram of the total profit (Native's + Settler's)\")\n",
        "plt.grid();"
      ],
      "execution_count": 6,
      "outputs": [
        {
          "output_type": "display_data",
          "data": {
            "image/png": "[encoded data removed]",
            "text/plain": [
              "<Figure size 432x288 with 1 Axes>"
            ]
          },
          "metadata": {
            "tags": [],
            "needs_background": "light"
          }
        }
      ]
    },
    {
      "cell_type": "markdown",
      "metadata": {
        "id": "WbJs18POs3Uh",
        "colab_type": "text"
      },
      "source": [
        "##2 Different models"
      ]
    },
    {
      "cell_type": "markdown",
      "metadata": {
        "id": "wrcwNmjY0zIV",
        "colab_type": "text"
      },
      "source": [
        "### 1). Geometric model"
      ]
    },
    {
      "cell_type": "code",
      "metadata": {
        "id": "qylyxg9Z0_p9",
        "colab_type": "code",
        "colab": {}
      },
      "source": [
        "def GeometricModel(data):\n",
        "  with pm.Model() as model:\n",
        "      betas = pm.Normal('betas', 0, 10, shape=2)\n",
        "      p = 1/(1 + np.exp(-(betas[0] + betas[1] * data['IfSettler'])))\n",
        "      obs = pm.Geometric('obs', p, observed=data['Profits'])\n",
        "      trace = pm.sample(2000, tune=1000, chains=2, cores=2)    \n",
        "  return trace, model"
      ],
      "execution_count": 36,
      "outputs": []
    },
    {
      "cell_type": "code",
      "metadata": {
        "id": "1-5onH2h5t-S",
        "colab_type": "code",
        "colab": {}
      },
      "source": [
        "data_sim = np.row_stack((profits.SettlerProfit, profits.NativeProfit)).flatten()/500\n",
        "data_sim = pd.DataFrame(data_sim, columns=['Profits'])\n",
        "data_sim['IfSettler'] = [1]*n + [0]*n"
      ],
      "execution_count": 37,
      "outputs": []
    },
    {
      "cell_type": "code",
      "metadata": {
        "id": "O4tRMRfq89vn",
        "colab_type": "code",
        "colab": {
          "base_uri": "https://localhost:8080/",
          "height": 118
        },
        "outputId": "58e4a329-7365-41db-9026-b8d9649c757a"
      },
      "source": [
        "trace_1, model_1 = GeometricModel(data_sim)"
      ],
      "execution_count": 38,
      "outputs": [
        {
          "output_type": "stream",
          "text": [
            "Auto-assigning NUTS sampler...\n",
            "Initializing NUTS using jitter+adapt_diag...\n",
            "Multiprocess sampling (2 chains in 2 jobs)\n",
            "NUTS: [betas]\n",
            "Sampling 2 chains, 0 divergences: 100%|██████████| 6000/6000 [00:07<00:00, 763.18draws/s]\n",
            "The number of effective samples is smaller than 25% for some parameters.\n"
          ],
          "name": "stderr"
        }
      ]
    },
    {
      "cell_type": "code",
      "metadata": {
        "id": "uQ7zueCp9p3y",
        "colab_type": "code",
        "colab": {
          "base_uri": "https://localhost:8080/",
          "height": 160
        },
        "outputId": "e528e1bd-822b-4125-dbe1-e56171640fc6"
      },
      "source": [
        "res1 = pm.summary(trace_1)\n",
        "res1"
      ],
      "execution_count": 39,
      "outputs": [
        {
          "output_type": "stream",
          "text": [
            "/usr/local/lib/python3.6/dist-packages/arviz/data/io_pymc3.py:89: FutureWarning: Using `from_pymc3` without the model will be deprecated in a future release. Not using the model will return less accurate and less useful results. Make sure you use the model argument or call from_pymc3 within a model context.\n",
            "  FutureWarning,\n"
          ],
          "name": "stderr"
        },
        {
          "output_type": "execute_result",
          "data": {
            "text/html": [
              "<div>\n",
              "<style scoped>\n",
              "    .dataframe tbody tr th:only-of-type {\n",
              "        vertical-align: middle;\n",
              "    }\n",
              "\n",
              "    .dataframe tbody tr th {\n",
              "        vertical-align: top;\n",
              "    }\n",
              "\n",
              "    .dataframe thead th {\n",
              "        text-align: right;\n",
              "    }\n",
              "</style>\n",
              "<table border=\"1\" class=\"dataframe\">\n",
              "  <thead>\n",
              "    <tr style=\"text-align: right;\">\n",
              "      <th></th>\n",
              "      <th>mean</th>\n",
              "      <th>sd</th>\n",
              "      <th>hdi_3%</th>\n",
              "      <th>hdi_97%</th>\n",
              "      <th>mcse_mean</th>\n",
              "      <th>mcse_sd</th>\n",
              "      <th>ess_mean</th>\n",
              "      <th>ess_sd</th>\n",
              "      <th>ess_bulk</th>\n",
              "      <th>ess_tail</th>\n",
              "      <th>r_hat</th>\n",
              "    </tr>\n",
              "  </thead>\n",
              "  <tbody>\n",
              "    <tr>\n",
              "      <th>betas[0]</th>\n",
              "      <td>1.142</td>\n",
              "      <td>0.151</td>\n",
              "      <td>0.859</td>\n",
              "      <td>1.419</td>\n",
              "      <td>0.005</td>\n",
              "      <td>0.003</td>\n",
              "      <td>940.0</td>\n",
              "      <td>940.0</td>\n",
              "      <td>938.0</td>\n",
              "      <td>1385.0</td>\n",
              "      <td>1.01</td>\n",
              "    </tr>\n",
              "    <tr>\n",
              "      <th>betas[1]</th>\n",
              "      <td>-0.957</td>\n",
              "      <td>0.185</td>\n",
              "      <td>-1.305</td>\n",
              "      <td>-0.612</td>\n",
              "      <td>0.006</td>\n",
              "      <td>0.005</td>\n",
              "      <td>826.0</td>\n",
              "      <td>826.0</td>\n",
              "      <td>824.0</td>\n",
              "      <td>1453.0</td>\n",
              "      <td>1.01</td>\n",
              "    </tr>\n",
              "  </tbody>\n",
              "</table>\n",
              "</div>"
            ],
            "text/plain": [
              "           mean     sd  hdi_3%  hdi_97%  ...  ess_sd  ess_bulk  ess_tail  r_hat\n",
              "betas[0]  1.142  0.151   0.859    1.419  ...   940.0     938.0    1385.0   1.01\n",
              "betas[1] -0.957  0.185  -1.305   -0.612  ...   826.0     824.0    1453.0   1.01\n",
              "\n",
              "[2 rows x 11 columns]"
            ]
          },
          "metadata": {
            "tags": []
          },
          "execution_count": 39
        }
      ]
    },
    {
      "cell_type": "code",
      "metadata": {
        "id": "YqaqgDoJ_3GL",
        "colab_type": "code",
        "colab": {
          "base_uri": "https://localhost:8080/",
          "height": 222
        },
        "outputId": "cd4c85a8-4c07-42a4-d34c-afdb56953c3e"
      },
      "source": [
        "pm.traceplot(trace_1);"
      ],
      "execution_count": 40,
      "outputs": [
        {
          "output_type": "stream",
          "text": [
            "/usr/local/lib/python3.6/dist-packages/arviz/data/io_pymc3.py:89: FutureWarning: Using `from_pymc3` without the model will be deprecated in a future release. Not using the model will return less accurate and less useful results. Make sure you use the model argument or call from_pymc3 within a model context.\n",
            "  FutureWarning,\n"
          ],
          "name": "stderr"
        },
        {
          "output_type": "display_data",
          "data": {
            "image/png": "[encoded data removed]",
            "text/plain": [
              "<Figure size 864x144 with 2 Axes>"
            ]
          },
          "metadata": {
            "tags": [],
            "needs_background": "light"
          }
        }
      ]
    },
    {
      "cell_type": "code",
      "metadata": {
        "id": "UgHbODQNFGPx",
        "colab_type": "code",
        "colab": {
          "base_uri": "https://localhost:8080/",
          "height": 50
        },
        "outputId": "6d323aea-4b53-4cbe-e40b-c10e42a29c7b"
      },
      "source": [
        "n_p = expit(res1.iloc[0,0])\n",
        "s_p = expit(res1.iloc[0,0] + res1.iloc[1,0]) \n",
        "print('The geometric mean for Native is: {:.3f}.'.format((1-n_p)/n_p))\n",
        "print('The geometric mean for Settler is: {:.3f}.'.format((1-s_p)/s_p))"
      ],
      "execution_count": 41,
      "outputs": [
        {
          "output_type": "stream",
          "text": [
            "The geometric mean for Native is: 0.319.\n",
            "The geometric mean for Settler is: 0.831.\n"
          ],
          "name": "stdout"
        }
      ]
    },
    {
      "cell_type": "markdown",
      "metadata": {
        "id": "PcBuaVUSCAUl",
        "colab_type": "text"
      },
      "source": [
        "### 2). Exponential model"
      ]
    },
    {
      "cell_type": "code",
      "metadata": {
        "id": "g3LWURtO-lGL",
        "colab_type": "code",
        "colab": {}
      },
      "source": [
        "def ExponentialModel(data):\n",
        "   with pm.Model() as model:\n",
        "      betas = pm.Uniform('betas', 0, 10, shape=2)\n",
        "      lam = betas[0] + betas[1] * data['IfSettler']\n",
        "      obs = pm.Exponential('obs', lam, observed=data['Profits'])\n",
        "      trace = pm.sample(2000, tune=1000, chains=2, cores=2)    \n",
        "   return trace, model"
      ],
      "execution_count": 43,
      "outputs": []
    },
    {
      "cell_type": "code",
      "metadata": {
        "id": "9DaZebBrCayM",
        "colab_type": "code",
        "colab": {
          "base_uri": "https://localhost:8080/",
          "height": 134
        },
        "outputId": "66f58f24-129a-4b0a-b132-684150e27639"
      },
      "source": [
        "trace_2, model_2 = ExponentialModel(data_sim)"
      ],
      "execution_count": 44,
      "outputs": [
        {
          "output_type": "stream",
          "text": [
            "Auto-assigning NUTS sampler...\n",
            "Initializing NUTS using jitter+adapt_diag...\n",
            "Multiprocess sampling (2 chains in 2 jobs)\n",
            "NUTS: [betas]\n",
            "Sampling 2 chains, 10 divergences: 100%|██████████| 6000/6000 [00:05<00:00, 1072.15draws/s]\n",
            "There were 5 divergences after tuning. Increase `target_accept` or reparameterize.\n",
            "There were 5 divergences after tuning. Increase `target_accept` or reparameterize.\n"
          ],
          "name": "stderr"
        }
      ]
    },
    {
      "cell_type": "code",
      "metadata": {
        "id": "kgdcLyfoChpi",
        "colab_type": "code",
        "colab": {
          "base_uri": "https://localhost:8080/",
          "height": 160
        },
        "outputId": "c7a8ce76-2e74-48f2-d793-aa045eb08c4d"
      },
      "source": [
        "res2 = pm.summary(trace_2)\n",
        "res2"
      ],
      "execution_count": 45,
      "outputs": [
        {
          "output_type": "stream",
          "text": [
            "/usr/local/lib/python3.6/dist-packages/arviz/data/io_pymc3.py:89: FutureWarning: Using `from_pymc3` without the model will be deprecated in a future release. Not using the model will return less accurate and less useful results. Make sure you use the model argument or call from_pymc3 within a model context.\n",
            "  FutureWarning,\n"
          ],
          "name": "stderr"
        },
        {
          "output_type": "execute_result",
          "data": {
            "text/html": [
              "<div>\n",
              "<style scoped>\n",
              "    .dataframe tbody tr th:only-of-type {\n",
              "        vertical-align: middle;\n",
              "    }\n",
              "\n",
              "    .dataframe tbody tr th {\n",
              "        vertical-align: top;\n",
              "    }\n",
              "\n",
              "    .dataframe thead th {\n",
              "        text-align: right;\n",
              "    }\n",
              "</style>\n",
              "<table border=\"1\" class=\"dataframe\">\n",
              "  <thead>\n",
              "    <tr style=\"text-align: right;\">\n",
              "      <th></th>\n",
              "      <th>mean</th>\n",
              "      <th>sd</th>\n",
              "      <th>hdi_3%</th>\n",
              "      <th>hdi_97%</th>\n",
              "      <th>mcse_mean</th>\n",
              "      <th>mcse_sd</th>\n",
              "      <th>ess_mean</th>\n",
              "      <th>ess_sd</th>\n",
              "      <th>ess_bulk</th>\n",
              "      <th>ess_tail</th>\n",
              "      <th>r_hat</th>\n",
              "    </tr>\n",
              "  </thead>\n",
              "  <tbody>\n",
              "    <tr>\n",
              "      <th>betas[0]</th>\n",
              "      <td>0.490</td>\n",
              "      <td>0.026</td>\n",
              "      <td>0.441</td>\n",
              "      <td>0.537</td>\n",
              "      <td>0.001</td>\n",
              "      <td>0.0</td>\n",
              "      <td>1945.0</td>\n",
              "      <td>1945.0</td>\n",
              "      <td>1925.0</td>\n",
              "      <td>1284.0</td>\n",
              "      <td>1.0</td>\n",
              "    </tr>\n",
              "    <tr>\n",
              "      <th>betas[1]</th>\n",
              "      <td>0.014</td>\n",
              "      <td>0.013</td>\n",
              "      <td>0.000</td>\n",
              "      <td>0.040</td>\n",
              "      <td>0.000</td>\n",
              "      <td>0.0</td>\n",
              "      <td>1970.0</td>\n",
              "      <td>1970.0</td>\n",
              "      <td>1508.0</td>\n",
              "      <td>1332.0</td>\n",
              "      <td>1.0</td>\n",
              "    </tr>\n",
              "  </tbody>\n",
              "</table>\n",
              "</div>"
            ],
            "text/plain": [
              "           mean     sd  hdi_3%  hdi_97%  ...  ess_sd  ess_bulk  ess_tail  r_hat\n",
              "betas[0]  0.490  0.026   0.441    0.537  ...  1945.0    1925.0    1284.0    1.0\n",
              "betas[1]  0.014  0.013   0.000    0.040  ...  1970.0    1508.0    1332.0    1.0\n",
              "\n",
              "[2 rows x 11 columns]"
            ]
          },
          "metadata": {
            "tags": []
          },
          "execution_count": 45
        }
      ]
    },
    {
      "cell_type": "code",
      "metadata": {
        "id": "u4HiQ1QGD85n",
        "colab_type": "code",
        "colab": {
          "base_uri": "https://localhost:8080/",
          "height": 222
        },
        "outputId": "097d1a38-9ee1-4c70-eb2c-0163ccae6746"
      },
      "source": [
        "pm.traceplot(trace_2);"
      ],
      "execution_count": 46,
      "outputs": [
        {
          "output_type": "stream",
          "text": [
            "/usr/local/lib/python3.6/dist-packages/arviz/data/io_pymc3.py:89: FutureWarning: Using `from_pymc3` without the model will be deprecated in a future release. Not using the model will return less accurate and less useful results. Make sure you use the model argument or call from_pymc3 within a model context.\n",
            "  FutureWarning,\n"
          ],
          "name": "stderr"
        },
        {
          "output_type": "display_data",
          "data": {
            "image/png": "[encoded data removed]",
            "text/plain": [
              "<Figure size 864x144 with 2 Axes>"
            ]
          },
          "metadata": {
            "tags": [],
            "needs_background": "light"
          }
        }
      ]
    },
    {
      "cell_type": "code",
      "metadata": {
        "id": "4QPV6ls6_9tb",
        "colab_type": "code",
        "colab": {
          "base_uri": "https://localhost:8080/",
          "height": 50
        },
        "outputId": "e4aa5855-6286-4d42-ea1c-5b5bb832c251"
      },
      "source": [
        "print('The exponential mean for Native is: {:.3f}.'.format(1/res2.iloc[0, 0]))\n",
        "print('The exponential mean for Settler is: {:.3f}.'.format(1/(res2.iloc[0, 0]+res2.iloc[1, 0])))"
      ],
      "execution_count": 47,
      "outputs": [
        {
          "output_type": "stream",
          "text": [
            "The exponential mean for Native is: 2.041.\n",
            "The exponential mean for Settler is: 1.984.\n"
          ],
          "name": "stdout"
        }
      ]
    },
    {
      "cell_type": "code",
      "metadata": {
        "id": "iM_oBZDyIFSb",
        "colab_type": "code",
        "colab": {}
      },
      "source": [
        ""
      ],
      "execution_count": 47,
      "outputs": []
    }
  ]
}