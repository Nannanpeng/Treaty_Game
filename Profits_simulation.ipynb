{
  "nbformat": 4,
  "nbformat_minor": 0,
  "metadata": {
    "colab": {
      "name": "Profits_simulation.ipynb",
      "provenance": [],
      "collapsed_sections": [],
      "toc_visible": true,
      "authorship_tag": "ABX9TyMX0sdpNuooL1xEkWMyTZIV",
      "include_colab_link": true
    },
    "kernelspec": {
      "name": "python3",
      "display_name": "Python 3"
    }
  },
  "cells": [
    {
      "cell_type": "markdown",
      "metadata": {
        "id": "view-in-github",
        "colab_type": "text"
      },
      "source": [
        "<a href=\"https://colab.research.google.com/github/Nannanpeng/Treaty_Game/blob/master/Profits_simulation.ipynb\" target=\"_parent\"><img src=\"https://colab.research.google.com/assets/colab-badge.svg\" alt=\"Open In Colab\"/></a>"
      ]
    },
    {
      "cell_type": "code",
      "metadata": {
        "id": "tiI-OgZI50zH",
        "colab_type": "code",
        "colab": {}
      },
      "source": [
        "import numpy as np\n",
        "import pandas as pd\n",
        "import certainty_and_uncertainty as model\n",
        "from scipy.stats import geom"
      ],
      "execution_count": null,
      "outputs": []
    },
    {
      "cell_type": "markdown",
      "metadata": {
        "id": "AObZsFAx51qO",
        "colab_type": "text"
      },
      "source": [
        "# Data Generation"
      ]
    },
    {
      "cell_type": "code",
      "metadata": {
        "id": "3lKMnjRY6XSZ",
        "colab_type": "code",
        "colab": {}
      },
      "source": [
        "n = 200\n",
        "prob = 1/6\n",
        "default_certainty_periods = 10\n",
        "n_initial_land = 65"
      ],
      "execution_count": null,
      "outputs": []
    },
    {
      "cell_type": "code",
      "metadata": {
        "id": "dnP1PMwo7T9T",
        "colab_type": "code",
        "colab": {}
      },
      "source": [
        "ie = model.IncomeExpansion(120, 0.045, 18, 180, 0.065, 40, 8, 30, 100, 0.5, 0.5)\n",
        "pd_ = model.PlayerDecision(ie, prob, default_certainty_periods)\n",
        "dp = model.DP(ie, pd_)\n",
        "certainty_periods = geom.rvs(prob, size=200)"
      ],
      "execution_count": null,
      "outputs": []
    },
    {
      "cell_type": "code",
      "metadata": {
        "id": "3x-R-MvC8Wzv",
        "colab_type": "code",
        "colab": {
          "base_uri": "https://localhost:8080/",
          "height": 50
        },
        "outputId": "f3535aed-9423-4ead-cf08-bab3e7b4433b"
      },
      "source": [
        "%%time\n",
        "\n",
        "simulation_res = []\n",
        "for period in certainty_periods:\n",
        "  res = dp.Simulation(n_initial_land, period)\n",
        "  simulation_res.append(res)"
      ],
      "execution_count": null,
      "outputs": [
        {
          "output_type": "stream",
          "text": [
            "CPU times: user 41min 15s, sys: 35.3 s, total: 41min 50s\n",
            "Wall time: 40min 32s\n"
          ],
          "name": "stdout"
        }
      ]
    },
    {
      "cell_type": "code",
      "metadata": {
        "id": "tXVABGdq8oZ8",
        "colab_type": "code",
        "colab": {}
      },
      "source": [
        "simulation_data = pd.DataFrame(simulation_res, columns=['TotalPeriods', 'NativeProfit', 'SettlerProfit'])"
      ],
      "execution_count": null,
      "outputs": []
    },
    {
      "cell_type": "code",
      "metadata": {
        "id": "EdyE0CYdPcZo",
        "colab_type": "code",
        "colab": {
          "base_uri": "https://localhost:8080/",
          "height": 162
        },
        "outputId": "74805f0b-2c8b-4b48-c080-00dbd3f8a6ad"
      },
      "source": [
        "simulation_data.to_csv('simulation_profit.csv', index=False)"
      ],
      "execution_count": null,
      "outputs": [
        {
          "output_type": "error",
          "ename": "NameError",
          "evalue": "ignored",
          "traceback": [
            "\u001b[0;31m---------------------------------------------------------------------------\u001b[0m",
            "\u001b[0;31mNameError\u001b[0m                                 Traceback (most recent call last)",
            "\u001b[0;32m<ipython-input-1-0d44a3da5f12>\u001b[0m in \u001b[0;36m<module>\u001b[0;34m()\u001b[0m\n\u001b[0;32m----> 1\u001b[0;31m \u001b[0msimulation_data\u001b[0m\u001b[0;34m.\u001b[0m\u001b[0mto_csv\u001b[0m\u001b[0;34m(\u001b[0m\u001b[0;34m'simulation_profit.csv'\u001b[0m\u001b[0;34m,\u001b[0m \u001b[0mindex\u001b[0m\u001b[0;34m=\u001b[0m\u001b[0;32mFalse\u001b[0m\u001b[0;34m)\u001b[0m\u001b[0;34m\u001b[0m\u001b[0;34m\u001b[0m\u001b[0m\n\u001b[0m",
            "\u001b[0;31mNameError\u001b[0m: name 'simulation_data' is not defined"
          ]
        }
      ]
    },
    {
      "cell_type": "code",
      "metadata": {
        "id": "jvQIwUiOPkYZ",
        "colab_type": "code",
        "colab": {}
      },
      "source": [
        ""
      ],
      "execution_count": null,
      "outputs": []
    }
  ]
}