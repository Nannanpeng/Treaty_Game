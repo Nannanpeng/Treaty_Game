{
  "nbformat": 4,
  "nbformat_minor": 0,
  "metadata": {
    "colab": {
      "name": "Treaty_length_simulation.ipynb",
      "provenance": [],
      "collapsed_sections": [],
      "include_colab_link": true
    },
    "kernelspec": {
      "display_name": "Python 3",
      "language": "python",
      "name": "python3"
    },
    "language_info": {
      "codemirror_mode": {
        "name": "ipython",
        "version": 3
      },
      "file_extension": ".py",
      "mimetype": "text/x-python",
      "name": "python",
      "nbconvert_exporter": "python",
      "pygments_lexer": "ipython3",
      "version": "3.8.5"
    }
  },
  "cells": [
    {
      "cell_type": "markdown",
      "metadata": {
        "id": "view-in-github",
        "colab_type": "text"
      },
      "source": [
        "<a href=\"https://colab.research.google.com/github/Nannanpeng/Treaty_Game/blob/master/Treaty_length_simulation.ipynb\" target=\"_parent\"><img src=\"https://colab.research.google.com/assets/colab-badge.svg\" alt=\"Open In Colab\"/></a>"
      ]
    },
    {
      "cell_type": "markdown",
      "metadata": {
        "id": "q_LkiZAQCIZi"
      },
      "source": [
        "# <center> Data simulation for treaty game\n",
        "## <center> ---- model for treaty length\n",
        "## There are several conclusions from this simlutaion.\n",
        "* Assuming that treaty lengh follows a geometric distribution. Both geometric and exponential model can help recover the ture parameter and detect the treatment effects.\n",
        "* If there are heterogeneities in a treatment, geometric and exponential model can still detect the treatment effects but not the true parameters.\n",
        "* A poisson model does not work well in both cases.\n",
        "* A mixture model is not a good choice for this simulated data for two reasons. There are just 200 simulated data points for each treatment. Also, the difference between the two treatments is not that big (just 0.05) or the data is very close to each other in the two treatments. If the two problems can be solved. A mixture model might work well. PS: I have played with different parameters and found this. There are also some hints in this post https://mc-stan.org/users/documentation/case-studies/identifying_mixture_models.html.\n",
        "* Based on what I did, I think we need at least 150-200 data points for each treatment if we want our analysis to work. "
      ]
    },
    {
      "cell_type": "code",
      "metadata": {
        "colab": {
          "base_uri": "https://localhost:8080/"
        },
        "id": "JwTHhZxnV_bb",
        "outputId": "008cf732-8b8e-4c52-88b0-889ea7d7b9ba"
      },
      "source": [
        "!pip install --upgrade https://github.com/pymc-devs/pymc3/archive/refs/tags/v3.11.2.zip\n",
        "!pip install --upgrade https://github.com/arviz-devs/arviz/archive/refs/tags/v0.11.2.zip"
      ],
      "execution_count": null,
      "outputs": [
        {
          "output_type": "stream",
          "text": [
            "Collecting https://github.com/pymc-devs/pymc3/archive/refs/tags/v3.11.2.zip\n",
            "\u001b[?25l  Downloading https://github.com/pymc-devs/pymc3/archive/refs/tags/v3.11.2.zip\n",
            "\u001b[K     | 2.8MB 4.1MB/s\n",
            "\u001b[?25h  Installing build dependencies ... \u001b[?25l\u001b[?25hdone\n",
            "  Getting requirements to build wheel ... \u001b[?25l\u001b[?25hdone\n",
            "    Preparing wheel metadata ... \u001b[?25l\u001b[?25hdone\n",
            "Requirement already satisfied, skipping upgrade: dill in /usr/local/lib/python3.7/dist-packages (from pymc3==3.11.2) (0.3.3)\n",
            "Requirement already satisfied, skipping upgrade: cachetools>=4.2.1 in /usr/local/lib/python3.7/dist-packages (from pymc3==3.11.2) (4.2.2)\n",
            "Requirement already satisfied, skipping upgrade: semver in /usr/local/lib/python3.7/dist-packages (from pymc3==3.11.2) (2.13.0)\n",
            "Requirement already satisfied, skipping upgrade: numpy>=1.15.0 in /usr/local/lib/python3.7/dist-packages (from pymc3==3.11.2) (1.19.5)\n",
            "Requirement already satisfied, skipping upgrade: patsy>=0.5.1 in /usr/local/lib/python3.7/dist-packages (from pymc3==3.11.2) (0.5.1)\n",
            "Requirement already satisfied, skipping upgrade: theano-pymc==1.1.2 in /usr/local/lib/python3.7/dist-packages (from pymc3==3.11.2) (1.1.2)\n",
            "Requirement already satisfied, skipping upgrade: arviz>=0.11.0 in /usr/local/lib/python3.7/dist-packages (from pymc3==3.11.2) (0.11.2)\n",
            "Requirement already satisfied, skipping upgrade: pandas>=0.24.0 in /usr/local/lib/python3.7/dist-packages (from pymc3==3.11.2) (1.1.5)\n",
            "Requirement already satisfied, skipping upgrade: scipy>=1.2.0 in /usr/local/lib/python3.7/dist-packages (from pymc3==3.11.2) (1.4.1)\n",
            "Requirement already satisfied, skipping upgrade: fastprogress>=0.2.0 in /usr/local/lib/python3.7/dist-packages (from pymc3==3.11.2) (1.0.0)\n",
            "Requirement already satisfied, skipping upgrade: typing-extensions>=3.7.4 in /usr/local/lib/python3.7/dist-packages (from pymc3==3.11.2) (3.7.4.3)\n",
            "Requirement already satisfied, skipping upgrade: six in /usr/local/lib/python3.7/dist-packages (from patsy>=0.5.1->pymc3==3.11.2) (1.15.0)\n",
            "Requirement already satisfied, skipping upgrade: filelock in /usr/local/lib/python3.7/dist-packages (from theano-pymc==1.1.2->pymc3==3.11.2) (3.0.12)\n",
            "Requirement already satisfied, skipping upgrade: packaging in /usr/local/lib/python3.7/dist-packages (from arviz>=0.11.0->pymc3==3.11.2) (20.9)\n",
            "Requirement already satisfied, skipping upgrade: netcdf4 in /usr/local/lib/python3.7/dist-packages (from arviz>=0.11.0->pymc3==3.11.2) (1.5.6)\n",
            "Requirement already satisfied, skipping upgrade: matplotlib>=3.0 in /usr/local/lib/python3.7/dist-packages (from arviz>=0.11.0->pymc3==3.11.2) (3.2.2)\n",
            "Requirement already satisfied, skipping upgrade: xarray>=0.16.1 in /usr/local/lib/python3.7/dist-packages (from arviz>=0.11.0->pymc3==3.11.2) (0.18.0)\n",
            "Requirement already satisfied, skipping upgrade: setuptools>=38.4 in /usr/local/lib/python3.7/dist-packages (from arviz>=0.11.0->pymc3==3.11.2) (56.1.0)\n",
            "Requirement already satisfied, skipping upgrade: python-dateutil>=2.7.3 in /usr/local/lib/python3.7/dist-packages (from pandas>=0.24.0->pymc3==3.11.2) (2.8.1)\n",
            "Requirement already satisfied, skipping upgrade: pytz>=2017.2 in /usr/local/lib/python3.7/dist-packages (from pandas>=0.24.0->pymc3==3.11.2) (2018.9)\n",
            "Requirement already satisfied, skipping upgrade: pyparsing>=2.0.2 in /usr/local/lib/python3.7/dist-packages (from packaging->arviz>=0.11.0->pymc3==3.11.2) (2.4.7)\n",
            "Requirement already satisfied, skipping upgrade: cftime in /usr/local/lib/python3.7/dist-packages (from netcdf4->arviz>=0.11.0->pymc3==3.11.2) (1.4.1)\n",
            "Requirement already satisfied, skipping upgrade: cycler>=0.10 in /usr/local/lib/python3.7/dist-packages (from matplotlib>=3.0->arviz>=0.11.0->pymc3==3.11.2) (0.10.0)\n",
            "Requirement already satisfied, skipping upgrade: kiwisolver>=1.0.1 in /usr/local/lib/python3.7/dist-packages (from matplotlib>=3.0->arviz>=0.11.0->pymc3==3.11.2) (1.3.1)\n",
            "Building wheels for collected packages: pymc3\n",
            "  Building wheel for pymc3 (PEP 517) ... \u001b[?25l\u001b[?25hdone\n",
            "  Created wheel for pymc3: filename=pymc3-3.11.2-cp37-none-any.whl size=869394 sha256=f51985386dbc440ed57476735c13ea1ad8b6c999c2302981f608ceeaf2e26566\n",
            "  Stored in directory: /tmp/pip-ephem-wheel-cache-q6u5k_um/wheels/6d/3c/75/5c9e4681eb3dee81809c6364790509515e5353c501a8936880\n",
            "Successfully built pymc3\n",
            "Installing collected packages: pymc3\n",
            "  Found existing installation: pymc3 3.11.2\n",
            "    Uninstalling pymc3-3.11.2:\n",
            "      Successfully uninstalled pymc3-3.11.2\n",
            "Successfully installed pymc3-3.11.2\n",
            "Collecting https://github.com/arviz-devs/arviz/archive/refs/tags/v0.11.2.zip\n",
            "\u001b[?25l  Downloading https://github.com/arviz-devs/arviz/archive/refs/tags/v0.11.2.zip\n",
            "\u001b[K     | 6.5MB 4.3MB/s\n",
            "\u001b[?25h  Installing build dependencies ... \u001b[?25l\u001b[?25hdone\n",
            "  Getting requirements to build wheel ... \u001b[?25l\u001b[?25hdone\n",
            "    Preparing wheel metadata ... \u001b[?25l\u001b[?25hdone\n",
            "Requirement already satisfied, skipping upgrade: netcdf4 in /usr/local/lib/python3.7/dist-packages (from arviz==0.11.2) (1.5.6)\n",
            "Requirement already satisfied, skipping upgrade: matplotlib>=3.0 in /usr/local/lib/python3.7/dist-packages (from arviz==0.11.2) (3.2.2)\n",
            "Requirement already satisfied, skipping upgrade: scipy>=0.19 in /usr/local/lib/python3.7/dist-packages (from arviz==0.11.2) (1.4.1)\n",
            "Requirement already satisfied, skipping upgrade: typing-extensions<4,>=3.7.4.3 in /usr/local/lib/python3.7/dist-packages (from arviz==0.11.2) (3.7.4.3)\n",
            "Requirement already satisfied, skipping upgrade: pandas>=0.23 in /usr/local/lib/python3.7/dist-packages (from arviz==0.11.2) (1.1.5)\n",
            "Requirement already satisfied, skipping upgrade: numpy>=1.12 in /usr/local/lib/python3.7/dist-packages (from arviz==0.11.2) (1.19.5)\n",
            "Requirement already satisfied, skipping upgrade: setuptools>=38.4 in /usr/local/lib/python3.7/dist-packages (from arviz==0.11.2) (56.1.0)\n",
            "Requirement already satisfied, skipping upgrade: packaging in /usr/local/lib/python3.7/dist-packages (from arviz==0.11.2) (20.9)\n",
            "Requirement already satisfied, skipping upgrade: xarray>=0.16.1 in /usr/local/lib/python3.7/dist-packages (from arviz==0.11.2) (0.18.0)\n",
            "Requirement already satisfied, skipping upgrade: cftime in /usr/local/lib/python3.7/dist-packages (from netcdf4->arviz==0.11.2) (1.4.1)\n",
            "Requirement already satisfied, skipping upgrade: cycler>=0.10 in /usr/local/lib/python3.7/dist-packages (from matplotlib>=3.0->arviz==0.11.2) (0.10.0)\n",
            "Requirement already satisfied, skipping upgrade: pyparsing!=2.0.4,!=2.1.2,!=2.1.6,>=2.0.1 in /usr/local/lib/python3.7/dist-packages (from matplotlib>=3.0->arviz==0.11.2) (2.4.7)\n",
            "Requirement already satisfied, skipping upgrade: kiwisolver>=1.0.1 in /usr/local/lib/python3.7/dist-packages (from matplotlib>=3.0->arviz==0.11.2) (1.3.1)\n",
            "Requirement already satisfied, skipping upgrade: python-dateutil>=2.1 in /usr/local/lib/python3.7/dist-packages (from matplotlib>=3.0->arviz==0.11.2) (2.8.1)\n",
            "Requirement already satisfied, skipping upgrade: pytz>=2017.2 in /usr/local/lib/python3.7/dist-packages (from pandas>=0.23->arviz==0.11.2) (2018.9)\n",
            "Requirement already satisfied, skipping upgrade: six in /usr/local/lib/python3.7/dist-packages (from cycler>=0.10->matplotlib>=3.0->arviz==0.11.2) (1.15.0)\n",
            "Building wheels for collected packages: arviz\n",
            "  Building wheel for arviz (PEP 517) ... \u001b[?25l\u001b[?25hdone\n",
            "  Created wheel for arviz: filename=arviz-0.11.2-cp37-none-any.whl size=1550841 sha256=6185f59a32c67e98ddcc57b5e6b5f8d51aa4d5abd7f9f5832c61a147ee6d9d36\n",
            "  Stored in directory: /tmp/pip-ephem-wheel-cache-6v7mm789/wheels/66/4f/09/41f2c5590114884286aee620e0fa7d42928bcca34a6e57742b\n",
            "Successfully built arviz\n",
            "Installing collected packages: arviz\n",
            "  Found existing installation: arviz 0.11.2\n",
            "    Uninstalling arviz-0.11.2:\n",
            "      Successfully uninstalled arviz-0.11.2\n",
            "Successfully installed arviz-0.11.2\n"
          ],
          "name": "stdout"
        }
      ]
    },
    {
      "cell_type": "code",
      "metadata": {
        "colab": {
          "base_uri": "https://localhost:8080/"
        },
        "id": "BOvXqpHNCOsf",
        "outputId": "eda7d398-7799-4348-a8f5-f664d68913cc"
      },
      "source": [
        "from scipy.stats import geom, norm\n",
        "from scipy.special import expit\n",
        "import pymc3 as pm\n",
        "import pandas as pd\n",
        "import numpy as np\n",
        "import arviz as az\n",
        "import matplotlib.pyplot as plt\n",
        "import pymc3.distributions.transforms as tr\n",
        "\n",
        "print('Running on PyMC3 v{}'.format(pm.__version__))"
      ],
      "execution_count": null,
      "outputs": [
        {
          "output_type": "stream",
          "text": [
            "Running on PyMC3 v3.11.2\n"
          ],
          "name": "stdout"
        }
      ]
    },
    {
      "cell_type": "code",
      "metadata": {
        "id": "vVWEOXb_JB5A"
      },
      "source": [
        "np.random.seed(12345) "
      ],
      "execution_count": null,
      "outputs": []
    },
    {
      "cell_type": "markdown",
      "metadata": {
        "id": "fFK-9bosJxT5"
      },
      "source": [
        "## Data generation\n",
        "1). Pure distribution"
      ]
    },
    {
      "cell_type": "code",
      "metadata": {
        "id": "ciQZS1oDD5HV"
      },
      "source": [
        "n = 200   # number of data points for each treatment\n",
        "prob_annuity_ending = 0.2\n",
        "prob_lumpsum_ending = 0.15\n",
        "noises = norm.rvs(0, 0.001, size=n)\n",
        "\n",
        "annuity_treaty_length = geom.rvs(prob_annuity_ending + noises)\n",
        "lumpsum_treaty_length = geom.rvs(prob_lumpsum_ending + noises)\n",
        "treaty_len = np.concatenate((annuity_treaty_length, lumpsum_treaty_length))\n",
        "institute = [1]*n + [0]*n\n",
        "\n",
        "pure_sim_data = pd.DataFrame(zip(treaty_len, institute), columns=['TreatyLength', 'Institute'])"
      ],
      "execution_count": null,
      "outputs": []
    },
    {
      "cell_type": "code",
      "metadata": {
        "colab": {
          "base_uri": "https://localhost:8080/",
          "height": 402
        },
        "id": "0S2X0maaUlgR",
        "outputId": "fde914ad-156d-4538-a330-c00eb3a0f2ea"
      },
      "source": [
        "pure_sim_data"
      ],
      "execution_count": null,
      "outputs": [
        {
          "output_type": "execute_result",
          "data": {
            "text/html": [
              "<div>\n",
              "<style scoped>\n",
              "    .dataframe tbody tr th:only-of-type {\n",
              "        vertical-align: middle;\n",
              "    }\n",
              "\n",
              "    .dataframe tbody tr th {\n",
              "        vertical-align: top;\n",
              "    }\n",
              "\n",
              "    .dataframe thead th {\n",
              "        text-align: right;\n",
              "    }\n",
              "</style>\n",
              "<table border=\"1\" class=\"dataframe\">\n",
              "  <thead>\n",
              "    <tr style=\"text-align: right;\">\n",
              "      <th></th>\n",
              "      <th>TreatyLength</th>\n",
              "      <th>Institute</th>\n",
              "    </tr>\n",
              "  </thead>\n",
              "  <tbody>\n",
              "    <tr>\n",
              "      <th>0</th>\n",
              "      <td>2</td>\n",
              "      <td>1</td>\n",
              "    </tr>\n",
              "    <tr>\n",
              "      <th>1</th>\n",
              "      <td>8</td>\n",
              "      <td>1</td>\n",
              "    </tr>\n",
              "    <tr>\n",
              "      <th>2</th>\n",
              "      <td>1</td>\n",
              "      <td>1</td>\n",
              "    </tr>\n",
              "    <tr>\n",
              "      <th>3</th>\n",
              "      <td>6</td>\n",
              "      <td>1</td>\n",
              "    </tr>\n",
              "    <tr>\n",
              "      <th>4</th>\n",
              "      <td>12</td>\n",
              "      <td>1</td>\n",
              "    </tr>\n",
              "    <tr>\n",
              "      <th>...</th>\n",
              "      <td>...</td>\n",
              "      <td>...</td>\n",
              "    </tr>\n",
              "    <tr>\n",
              "      <th>395</th>\n",
              "      <td>10</td>\n",
              "      <td>0</td>\n",
              "    </tr>\n",
              "    <tr>\n",
              "      <th>396</th>\n",
              "      <td>9</td>\n",
              "      <td>0</td>\n",
              "    </tr>\n",
              "    <tr>\n",
              "      <th>397</th>\n",
              "      <td>2</td>\n",
              "      <td>0</td>\n",
              "    </tr>\n",
              "    <tr>\n",
              "      <th>398</th>\n",
              "      <td>8</td>\n",
              "      <td>0</td>\n",
              "    </tr>\n",
              "    <tr>\n",
              "      <th>399</th>\n",
              "      <td>16</td>\n",
              "      <td>0</td>\n",
              "    </tr>\n",
              "  </tbody>\n",
              "</table>\n",
              "<p>400 rows × 2 columns</p>\n",
              "</div>"
            ],
            "text/plain": [
              "     TreatyLength  Institute\n",
              "0               2          1\n",
              "1               8          1\n",
              "2               1          1\n",
              "3               6          1\n",
              "4              12          1\n",
              "..            ...        ...\n",
              "395            10          0\n",
              "396             9          0\n",
              "397             2          0\n",
              "398             8          0\n",
              "399            16          0\n",
              "\n",
              "[400 rows x 2 columns]"
            ]
          },
          "metadata": {
            "tags": []
          },
          "execution_count": 5
        }
      ]
    },
    {
      "cell_type": "markdown",
      "metadata": {
        "id": "MUixdSW6Hart"
      },
      "source": [
        "2). Mixture distribution"
      ]
    },
    {
      "cell_type": "code",
      "metadata": {
        "id": "wwpCbZ96JCn3"
      },
      "source": [
        "n = 200   # number of data points for each treatment\n",
        "prob_annuity_ending_1, prob_annuity_ending_2 = 0.3, 0.1\n",
        "prob_lumpsum_ending_1, prob_lumpsum_ending_2 = 0.25, 0.05\n",
        "\n",
        "noises = norm.rvs(0, 0.001, size=n//2)\n",
        "annuity_prob = list(prob_annuity_ending_1 + noises) + list(prob_annuity_ending_2 + noises)\n",
        "annuity_treaty_length = geom.rvs(annuity_prob)\n",
        "\n",
        "lumpsum_prob = list(prob_lumpsum_ending_1 + noises) + list(prob_lumpsum_ending_2 + noises)\n",
        "lumpsum_treaty_length = geom.rvs(lumpsum_prob)\n",
        "\n",
        "treaty_len = np.concatenate((annuity_treaty_length, lumpsum_treaty_length))\n",
        "institute = [1]*n + [0]*n\n",
        "\n",
        "mix_sim_data = pd.DataFrame(zip(treaty_len, institute), columns=['TreatyLength', 'Institute'])"
      ],
      "execution_count": null,
      "outputs": []
    },
    {
      "cell_type": "code",
      "metadata": {
        "colab": {
          "base_uri": "https://localhost:8080/",
          "height": 402
        },
        "id": "cfwjA701JOL4",
        "outputId": "c70ceae1-de8a-426f-f0bd-6c496360967d"
      },
      "source": [
        "mix_sim_data"
      ],
      "execution_count": null,
      "outputs": [
        {
          "output_type": "execute_result",
          "data": {
            "text/html": [
              "<div>\n",
              "<style scoped>\n",
              "    .dataframe tbody tr th:only-of-type {\n",
              "        vertical-align: middle;\n",
              "    }\n",
              "\n",
              "    .dataframe tbody tr th {\n",
              "        vertical-align: top;\n",
              "    }\n",
              "\n",
              "    .dataframe thead th {\n",
              "        text-align: right;\n",
              "    }\n",
              "</style>\n",
              "<table border=\"1\" class=\"dataframe\">\n",
              "  <thead>\n",
              "    <tr style=\"text-align: right;\">\n",
              "      <th></th>\n",
              "      <th>TreatyLength</th>\n",
              "      <th>Institute</th>\n",
              "    </tr>\n",
              "  </thead>\n",
              "  <tbody>\n",
              "    <tr>\n",
              "      <th>0</th>\n",
              "      <td>2</td>\n",
              "      <td>1</td>\n",
              "    </tr>\n",
              "    <tr>\n",
              "      <th>1</th>\n",
              "      <td>7</td>\n",
              "      <td>1</td>\n",
              "    </tr>\n",
              "    <tr>\n",
              "      <th>2</th>\n",
              "      <td>7</td>\n",
              "      <td>1</td>\n",
              "    </tr>\n",
              "    <tr>\n",
              "      <th>3</th>\n",
              "      <td>4</td>\n",
              "      <td>1</td>\n",
              "    </tr>\n",
              "    <tr>\n",
              "      <th>4</th>\n",
              "      <td>1</td>\n",
              "      <td>1</td>\n",
              "    </tr>\n",
              "    <tr>\n",
              "      <th>...</th>\n",
              "      <td>...</td>\n",
              "      <td>...</td>\n",
              "    </tr>\n",
              "    <tr>\n",
              "      <th>395</th>\n",
              "      <td>40</td>\n",
              "      <td>0</td>\n",
              "    </tr>\n",
              "    <tr>\n",
              "      <th>396</th>\n",
              "      <td>33</td>\n",
              "      <td>0</td>\n",
              "    </tr>\n",
              "    <tr>\n",
              "      <th>397</th>\n",
              "      <td>42</td>\n",
              "      <td>0</td>\n",
              "    </tr>\n",
              "    <tr>\n",
              "      <th>398</th>\n",
              "      <td>31</td>\n",
              "      <td>0</td>\n",
              "    </tr>\n",
              "    <tr>\n",
              "      <th>399</th>\n",
              "      <td>9</td>\n",
              "      <td>0</td>\n",
              "    </tr>\n",
              "  </tbody>\n",
              "</table>\n",
              "<p>400 rows × 2 columns</p>\n",
              "</div>"
            ],
            "text/plain": [
              "     TreatyLength  Institute\n",
              "0               2          1\n",
              "1               7          1\n",
              "2               7          1\n",
              "3               4          1\n",
              "4               1          1\n",
              "..            ...        ...\n",
              "395            40          0\n",
              "396            33          0\n",
              "397            42          0\n",
              "398            31          0\n",
              "399             9          0\n",
              "\n",
              "[400 rows x 2 columns]"
            ]
          },
          "metadata": {
            "tags": []
          },
          "execution_count": 7
        }
      ]
    },
    {
      "cell_type": "code",
      "metadata": {
        "colab": {
          "base_uri": "https://localhost:8080/",
          "height": 393
        },
        "id": "IvKIyflC-30W",
        "outputId": "b18c25a0-c719-4597-cf9d-aa661eadba65"
      },
      "source": [
        "fig, (ax1, ax2) = plt.subplots(1, 2, figsize=(12, 6))\n",
        "\n",
        "pure = pure_sim_data['TreatyLength'].value_counts().sort_index()\n",
        "pure.plot(kind='bar', title='Histogram of TreatyLength in pure data', grid=True, ax=ax1, fontsize=10)\n",
        "\n",
        "mix = mix_sim_data['TreatyLength'].value_counts().sort_index()\n",
        "mix.plot(kind='bar', title='Histogram of TreatyLength in mixture data', grid=True, ax=ax2, fontsize=7);"
      ],
      "execution_count": null,
      "outputs": [
        {
          "output_type": "display_data",
          "data": {
            "image/png": "[encoded data removed]",
            "text/plain": [
              "<Figure size 864x432 with 2 Axes>"
            ]
          },
          "metadata": {
            "tags": [],
            "needs_background": "light"
          }
        }
      ]
    },
    {
      "cell_type": "markdown",
      "metadata": {
        "id": "ynpfdOmKJ1s4"
      },
      "source": [
        "## Simulation (Pymc 3)"
      ]
    },
    {
      "cell_type": "markdown",
      "metadata": {
        "id": "E_3X7CN1bpnv"
      },
      "source": [
        "## 1). Geometric model\n",
        "A. Pure data"
      ]
    },
    {
      "cell_type": "code",
      "metadata": {
        "id": "NWUFuntyEcmf"
      },
      "source": [
        "def GeometricModel(data):\n",
        "    with pm.Model() as model:\n",
        "        betas = pm.Normal('betas', 0, 20, shape=2)\n",
        "        p = 1/(1 + np.exp(-(betas[0] + betas[1] * data['Institute'])))\n",
        "        obs = pm.Geometric('obs', p, observed=data['TreatyLength'])\n",
        "        trace = pm.sample(2000, tune=1000, chains=2, cores=2)    \n",
        "    return trace, model"
      ],
      "execution_count": null,
      "outputs": []
    },
    {
      "cell_type": "code",
      "metadata": {
        "colab": {
          "base_uri": "https://localhost:8080/",
          "height": 174
        },
        "id": "4noPLHnW2Xh4",
        "outputId": "d6243b5b-4a71-4118-df6b-7fd177f670dc"
      },
      "source": [
        "trace_1, model_1 = GeometricModel(pure_sim_data)"
      ],
      "execution_count": null,
      "outputs": [
        {
          "output_type": "stream",
          "text": [
            "/usr/local/lib/python3.7/dist-packages/ipykernel_launcher.py:6: FutureWarning: In v4.0, pm.sample will return an `arviz.InferenceData` object instead of a `MultiTrace` by default. You can pass return_inferencedata=True or return_inferencedata=False to be safe and silence this warning.\n",
            "  \n",
            "Auto-assigning NUTS sampler...\n",
            "Initializing NUTS using jitter+adapt_diag...\n",
            "Multiprocess sampling (2 chains in 2 jobs)\n",
            "NUTS: [betas]\n"
          ],
          "name": "stderr"
        },
        {
          "output_type": "display_data",
          "data": {
            "text/html": [
              "\n",
              "    <div>\n",
              "        <style>\n",
              "            /* Turns off some styling */\n",
              "            progress {\n",
              "                /* gets rid of default border in Firefox and Opera. */\n",
              "                border: none;\n",
              "                /* Needs to be in here for Safari polyfill so background images work as expected. */\n",
              "                background-size: auto;\n",
              "            }\n",
              "            .progress-bar-interrupted, .progress-bar-interrupted::-webkit-progress-bar {\n",
              "                background: #F44336;\n",
              "            }\n",
              "        </style>\n",
              "      <progress value='6000' class='' max='6000' style='width:300px; height:20px; vertical-align: middle;'></progress>\n",
              "      100.00% [6000/6000 00:08<00:00 Sampling 2 chains, 0 divergences]\n",
              "    </div>\n",
              "    "
            ],
            "text/plain": [
              "<IPython.core.display.HTML object>"
            ]
          },
          "metadata": {
            "tags": []
          }
        },
        {
          "output_type": "stream",
          "text": [
            "Sampling 2 chains for 1_000 tune and 2_000 draw iterations (2_000 + 4_000 draws total) took 9 seconds.\n"
          ],
          "name": "stderr"
        }
      ]
    },
    {
      "cell_type": "code",
      "metadata": {
        "colab": {
          "base_uri": "https://localhost:8080/",
          "height": 160
        },
        "id": "3UiDb5bB2Xr2",
        "outputId": "ccdb20e3-c293-4c46-bef0-c4550f9ba434"
      },
      "source": [
        "res1 = pm.summary(trace_1)\n",
        "res1"
      ],
      "execution_count": null,
      "outputs": [
        {
          "output_type": "stream",
          "text": [
            "/usr/local/lib/python3.7/dist-packages/arviz/data/io_pymc3.py:100: FutureWarning: Using `from_pymc3` without the model will be deprecated in a future release. Not using the model will return less accurate and less useful results. Make sure you use the model argument or call from_pymc3 within a model context.\n",
            "  FutureWarning,\n"
          ],
          "name": "stderr"
        },
        {
          "output_type": "execute_result",
          "data": {
            "text/html": [
              "<div>\n",
              "<style scoped>\n",
              "    .dataframe tbody tr th:only-of-type {\n",
              "        vertical-align: middle;\n",
              "    }\n",
              "\n",
              "    .dataframe tbody tr th {\n",
              "        vertical-align: top;\n",
              "    }\n",
              "\n",
              "    .dataframe thead th {\n",
              "        text-align: right;\n",
              "    }\n",
              "</style>\n",
              "<table border=\"1\" class=\"dataframe\">\n",
              "  <thead>\n",
              "    <tr style=\"text-align: right;\">\n",
              "      <th></th>\n",
              "      <th>mean</th>\n",
              "      <th>sd</th>\n",
              "      <th>hdi_3%</th>\n",
              "      <th>hdi_97%</th>\n",
              "      <th>mcse_mean</th>\n",
              "      <th>mcse_sd</th>\n",
              "      <th>ess_bulk</th>\n",
              "      <th>ess_tail</th>\n",
              "      <th>r_hat</th>\n",
              "    </tr>\n",
              "  </thead>\n",
              "  <tbody>\n",
              "    <tr>\n",
              "      <th>betas[0]</th>\n",
              "      <td>-1.750</td>\n",
              "      <td>0.080</td>\n",
              "      <td>-1.897</td>\n",
              "      <td>-1.600</td>\n",
              "      <td>0.002</td>\n",
              "      <td>0.002</td>\n",
              "      <td>1246.0</td>\n",
              "      <td>1675.0</td>\n",
              "      <td>1.0</td>\n",
              "    </tr>\n",
              "    <tr>\n",
              "      <th>betas[1]</th>\n",
              "      <td>0.415</td>\n",
              "      <td>0.115</td>\n",
              "      <td>0.186</td>\n",
              "      <td>0.615</td>\n",
              "      <td>0.003</td>\n",
              "      <td>0.002</td>\n",
              "      <td>1380.0</td>\n",
              "      <td>1596.0</td>\n",
              "      <td>1.0</td>\n",
              "    </tr>\n",
              "  </tbody>\n",
              "</table>\n",
              "</div>"
            ],
            "text/plain": [
              "           mean     sd  hdi_3%  hdi_97%  ...  mcse_sd  ess_bulk  ess_tail  r_hat\n",
              "betas[0] -1.750  0.080  -1.897   -1.600  ...    0.002    1246.0    1675.0    1.0\n",
              "betas[1]  0.415  0.115   0.186    0.615  ...    0.002    1380.0    1596.0    1.0\n",
              "\n",
              "[2 rows x 9 columns]"
            ]
          },
          "metadata": {
            "tags": []
          },
          "execution_count": 11
        }
      ]
    },
    {
      "cell_type": "code",
      "metadata": {
        "colab": {
          "base_uri": "https://localhost:8080/"
        },
        "id": "hQyMBVljBAEU",
        "outputId": "2a012d11-a22b-4aad-b6ad-e5ab2568d2e1"
      },
      "source": [
        "print('The geometric probability for lump_sum is: {:.3f}.'.format(expit(res1.iloc[0,0])))\n",
        "print('The geometric probability for annuity is: {:.3f}.'.format(expit(res1.iloc[0,0] + res1.iloc[1,0])))"
      ],
      "execution_count": null,
      "outputs": [
        {
          "output_type": "stream",
          "text": [
            "The geometric probability for lump_sum is: 0.148.\n",
            "The geometric probability for annuity is: 0.208.\n"
          ],
          "name": "stdout"
        }
      ]
    },
    {
      "cell_type": "code",
      "metadata": {
        "colab": {
          "base_uri": "https://localhost:8080/",
          "height": 256
        },
        "id": "1ywdD6yH6ja3",
        "outputId": "fa03386a-ded5-4aab-fa2f-00de82f709a8"
      },
      "source": [
        "pm.traceplot(trace_1);"
      ],
      "execution_count": null,
      "outputs": [
        {
          "output_type": "stream",
          "text": [
            "/usr/local/lib/python3.7/dist-packages/ipykernel_launcher.py:1: DeprecationWarning: The function `traceplot` from PyMC3 is just an alias for `plot_trace` from ArviZ. Please switch to `pymc3.plot_trace` or `arviz.plot_trace`.\n",
            "  \"\"\"Entry point for launching an IPython kernel.\n",
            "/usr/local/lib/python3.7/dist-packages/arviz/data/io_pymc3.py:100: FutureWarning: Using `from_pymc3` without the model will be deprecated in a future release. Not using the model will return less accurate and less useful results. Make sure you use the model argument or call from_pymc3 within a model context.\n",
            "  FutureWarning,\n"
          ],
          "name": "stderr"
        },
        {
          "output_type": "display_data",
          "data": {
            "image/png": "[encoded data removed]",
            "text/plain": [
              "<Figure size 864x144 with 2 Axes>"
            ]
          },
          "metadata": {
            "tags": [],
            "needs_background": "light"
          }
        }
      ]
    },
    {
      "cell_type": "markdown",
      "metadata": {
        "id": "PW9NgkJGYhiY"
      },
      "source": [
        "The geometric model fits the data well. It can correctly recover the parameters."
      ]
    },
    {
      "cell_type": "markdown",
      "metadata": {
        "id": "_b2hBTQG8ut1"
      },
      "source": [
        "\n",
        "B. Mixture data"
      ]
    },
    {
      "cell_type": "code",
      "metadata": {
        "id": "IE7R1pdDXrSi"
      },
      "source": [
        "trace_1_mix, model_1_mix = GeometricModel(mix_sim_data)"
      ],
      "execution_count": null,
      "outputs": []
    },
    {
      "cell_type": "code",
      "metadata": {
        "colab": {
          "base_uri": "https://localhost:8080/",
          "height": 106
        },
        "id": "4fFNgkrmX5rz",
        "outputId": "0f2b3e28-8730-4fea-b280-4895618c6cd0"
      },
      "source": [
        "res1_mix = pm.summary(trace_1_mix)\n",
        "res1_mix"
      ],
      "execution_count": null,
      "outputs": [
        {
          "output_type": "execute_result",
          "data": {
            "text/html": [
              "<div>\n",
              "<style scoped>\n",
              "    .dataframe tbody tr th:only-of-type {\n",
              "        vertical-align: middle;\n",
              "    }\n",
              "\n",
              "    .dataframe tbody tr th {\n",
              "        vertical-align: top;\n",
              "    }\n",
              "\n",
              "    .dataframe thead th {\n",
              "        text-align: right;\n",
              "    }\n",
              "</style>\n",
              "<table border=\"1\" class=\"dataframe\">\n",
              "  <thead>\n",
              "    <tr style=\"text-align: right;\">\n",
              "      <th></th>\n",
              "      <th>mean</th>\n",
              "      <th>sd</th>\n",
              "      <th>hdi_3%</th>\n",
              "      <th>hdi_97%</th>\n",
              "      <th>mcse_mean</th>\n",
              "      <th>mcse_sd</th>\n",
              "      <th>ess_mean</th>\n",
              "      <th>ess_sd</th>\n",
              "      <th>ess_bulk</th>\n",
              "      <th>ess_tail</th>\n",
              "      <th>r_hat</th>\n",
              "    </tr>\n",
              "  </thead>\n",
              "  <tbody>\n",
              "    <tr>\n",
              "      <th>betas[0]</th>\n",
              "      <td>-2.440</td>\n",
              "      <td>0.074</td>\n",
              "      <td>-2.591</td>\n",
              "      <td>-2.311</td>\n",
              "      <td>0.002</td>\n",
              "      <td>0.002</td>\n",
              "      <td>1215.0</td>\n",
              "      <td>1212.0</td>\n",
              "      <td>1215.0</td>\n",
              "      <td>1809.0</td>\n",
              "      <td>1.0</td>\n",
              "    </tr>\n",
              "    <tr>\n",
              "      <th>betas[1]</th>\n",
              "      <td>0.652</td>\n",
              "      <td>0.108</td>\n",
              "      <td>0.460</td>\n",
              "      <td>0.861</td>\n",
              "      <td>0.003</td>\n",
              "      <td>0.002</td>\n",
              "      <td>1496.0</td>\n",
              "      <td>1469.0</td>\n",
              "      <td>1483.0</td>\n",
              "      <td>1804.0</td>\n",
              "      <td>1.0</td>\n",
              "    </tr>\n",
              "  </tbody>\n",
              "</table>\n",
              "</div>"
            ],
            "text/plain": [
              "           mean     sd  hdi_3%  hdi_97%  ...  ess_sd  ess_bulk  ess_tail  r_hat\n",
              "betas[0] -2.440  0.074  -2.591   -2.311  ...  1212.0    1215.0    1809.0    1.0\n",
              "betas[1]  0.652  0.108   0.460    0.861  ...  1469.0    1483.0    1804.0    1.0\n",
              "\n",
              "[2 rows x 11 columns]"
            ]
          },
          "metadata": {
            "tags": []
          },
          "execution_count": 243
        }
      ]
    },
    {
      "cell_type": "code",
      "metadata": {
        "colab": {
          "base_uri": "https://localhost:8080/",
          "height": 50
        },
        "id": "7hSfYg9gYGzs",
        "outputId": "6d00e656-3ae6-4dde-d71a-a0a0d1c15506"
      },
      "source": [
        "print('The geometric probability for lump_sum is: {:.3f}.'.format(expit(res1_mix.iloc[0,0])))\n",
        "print('The geometric probability for annuity is: {:.3f}.'.format(expit(res1_mix.iloc[0,0] + res1_mix.iloc[1,0])))"
      ],
      "execution_count": null,
      "outputs": [
        {
          "output_type": "stream",
          "text": [
            "The geometric probability for lump_sum is: 0.080.\n",
            "The geometric probability for annuity is: 0.143.\n"
          ],
          "name": "stdout"
        }
      ]
    },
    {
      "cell_type": "markdown",
      "metadata": {
        "id": "3_xmpYpCYyaS"
      },
      "source": [
        "For mixture data, the geometric model can still figure out the treatment effects."
      ]
    },
    {
      "cell_type": "markdown",
      "metadata": {
        "id": "6AqGRL-m7A1I"
      },
      "source": [
        "## 2). Exponential model\n",
        "A. Pure data"
      ]
    },
    {
      "cell_type": "code",
      "metadata": {
        "id": "ZOQZCoeX7Na8"
      },
      "source": [
        "def ExponentialModel(data):\n",
        "    with pm.Model() as model:\n",
        "        betas = pm.Uniform('betas', 0, 5, shape=2)\n",
        "        lam = betas[0] + betas[1] * data['Institute']\n",
        "        obs = pm.Exponential('obs', lam, observed=data['TreatyLength'])\n",
        "        trace = pm.sample(2000, tune=1000, chains=2, cores=2)    \n",
        "    return trace, model"
      ],
      "execution_count": null,
      "outputs": []
    },
    {
      "cell_type": "code",
      "metadata": {
        "colab": {
          "base_uri": "https://localhost:8080/",
          "height": 101
        },
        "id": "EsOwikzw8DsM",
        "outputId": "0ce5c5a1-4e59-4d7c-8164-1471880a7b9d"
      },
      "source": [
        "trace_2, model_2 = ExponentialModel(pure_sim_data)"
      ],
      "execution_count": null,
      "outputs": [
        {
          "output_type": "stream",
          "text": [
            "Auto-assigning NUTS sampler...\n",
            "Initializing NUTS using jitter+adapt_diag...\n",
            "Multiprocess sampling (2 chains in 2 jobs)\n",
            "NUTS: [betas]\n",
            "Sampling 2 chains, 0 divergences: 100%|██████████| 6000/6000 [00:05<00:00, 1027.45draws/s]\n"
          ],
          "name": "stderr"
        }
      ]
    },
    {
      "cell_type": "code",
      "metadata": {
        "colab": {
          "base_uri": "https://localhost:8080/",
          "height": 106
        },
        "id": "5T2CHZWu8NtS",
        "outputId": "d7207580-6e51-4f18-f28f-8e7f7adc0878"
      },
      "source": [
        "pm.summary(trace_2)"
      ],
      "execution_count": null,
      "outputs": [
        {
          "output_type": "execute_result",
          "data": {
            "text/html": [
              "<div>\n",
              "<style scoped>\n",
              "    .dataframe tbody tr th:only-of-type {\n",
              "        vertical-align: middle;\n",
              "    }\n",
              "\n",
              "    .dataframe tbody tr th {\n",
              "        vertical-align: top;\n",
              "    }\n",
              "\n",
              "    .dataframe thead th {\n",
              "        text-align: right;\n",
              "    }\n",
              "</style>\n",
              "<table border=\"1\" class=\"dataframe\">\n",
              "  <thead>\n",
              "    <tr style=\"text-align: right;\">\n",
              "      <th></th>\n",
              "      <th>mean</th>\n",
              "      <th>sd</th>\n",
              "      <th>hdi_3%</th>\n",
              "      <th>hdi_97%</th>\n",
              "      <th>mcse_mean</th>\n",
              "      <th>mcse_sd</th>\n",
              "      <th>ess_mean</th>\n",
              "      <th>ess_sd</th>\n",
              "      <th>ess_bulk</th>\n",
              "      <th>ess_tail</th>\n",
              "      <th>r_hat</th>\n",
              "    </tr>\n",
              "  </thead>\n",
              "  <tbody>\n",
              "    <tr>\n",
              "      <th>betas[0]</th>\n",
              "      <td>0.153</td>\n",
              "      <td>0.012</td>\n",
              "      <td>0.131</td>\n",
              "      <td>0.175</td>\n",
              "      <td>0.000</td>\n",
              "      <td>0.0</td>\n",
              "      <td>1226.0</td>\n",
              "      <td>1226.0</td>\n",
              "      <td>1220.0</td>\n",
              "      <td>1257.0</td>\n",
              "      <td>1.0</td>\n",
              "    </tr>\n",
              "    <tr>\n",
              "      <th>betas[1]</th>\n",
              "      <td>0.065</td>\n",
              "      <td>0.020</td>\n",
              "      <td>0.028</td>\n",
              "      <td>0.100</td>\n",
              "      <td>0.001</td>\n",
              "      <td>0.0</td>\n",
              "      <td>1363.0</td>\n",
              "      <td>1363.0</td>\n",
              "      <td>1352.0</td>\n",
              "      <td>1371.0</td>\n",
              "      <td>1.0</td>\n",
              "    </tr>\n",
              "  </tbody>\n",
              "</table>\n",
              "</div>"
            ],
            "text/plain": [
              "           mean     sd  hdi_3%  hdi_97%  ...  ess_sd  ess_bulk  ess_tail  r_hat\n",
              "betas[0]  0.153  0.012   0.131    0.175  ...  1226.0    1220.0    1257.0    1.0\n",
              "betas[1]  0.065  0.020   0.028    0.100  ...  1363.0    1352.0    1371.0    1.0\n",
              "\n",
              "[2 rows x 11 columns]"
            ]
          },
          "metadata": {
            "tags": []
          },
          "execution_count": 247
        }
      ]
    },
    {
      "cell_type": "code",
      "metadata": {
        "colab": {
          "base_uri": "https://localhost:8080/",
          "height": 169
        },
        "id": "v264jXUS8-US",
        "outputId": "eb925113-ee90-4399-d0b6-0354a22632d3"
      },
      "source": [
        "pm.traceplot(trace_2);"
      ],
      "execution_count": null,
      "outputs": [
        {
          "output_type": "display_data",
          "data": {
            "image/png": "[encoded data removed]",
            "text/plain": [
              "<Figure size 864x144 with 2 Axes>"
            ]
          },
          "metadata": {
            "tags": [],
            "needs_background": "light"
          }
        }
      ]
    },
    {
      "cell_type": "markdown",
      "metadata": {
        "id": "4S_HbQNkZhk9"
      },
      "source": [
        "The exponential model fits the pure data well, though the data is generated through a geometric process."
      ]
    },
    {
      "cell_type": "markdown",
      "metadata": {
        "id": "nkhxWQsiZ_EV"
      },
      "source": [
        "B. Mixture data"
      ]
    },
    {
      "cell_type": "code",
      "metadata": {
        "colab": {
          "base_uri": "https://localhost:8080/",
          "height": 101
        },
        "id": "-xudHRJTaJf4",
        "outputId": "b00819a2-d6c8-4d87-c10e-5cac3c1dd6d2"
      },
      "source": [
        "trace_2_mix, model_2_mix = ExponentialModel(mix_sim_data)"
      ],
      "execution_count": null,
      "outputs": [
        {
          "output_type": "stream",
          "text": [
            "Auto-assigning NUTS sampler...\n",
            "Initializing NUTS using jitter+adapt_diag...\n",
            "Multiprocess sampling (2 chains in 2 jobs)\n",
            "NUTS: [betas]\n",
            "Sampling 2 chains, 0 divergences: 100%|██████████| 6000/6000 [00:05<00:00, 1033.92draws/s]\n"
          ],
          "name": "stderr"
        }
      ]
    },
    {
      "cell_type": "code",
      "metadata": {
        "colab": {
          "base_uri": "https://localhost:8080/",
          "height": 106
        },
        "id": "H-LbZLALaRLy",
        "outputId": "b15e4f97-8b20-4fb7-a861-bc6cef315d42"
      },
      "source": [
        "pm.summary(trace_2_mix)"
      ],
      "execution_count": null,
      "outputs": [
        {
          "output_type": "execute_result",
          "data": {
            "text/html": [
              "<div>\n",
              "<style scoped>\n",
              "    .dataframe tbody tr th:only-of-type {\n",
              "        vertical-align: middle;\n",
              "    }\n",
              "\n",
              "    .dataframe tbody tr th {\n",
              "        vertical-align: top;\n",
              "    }\n",
              "\n",
              "    .dataframe thead th {\n",
              "        text-align: right;\n",
              "    }\n",
              "</style>\n",
              "<table border=\"1\" class=\"dataframe\">\n",
              "  <thead>\n",
              "    <tr style=\"text-align: right;\">\n",
              "      <th></th>\n",
              "      <th>mean</th>\n",
              "      <th>sd</th>\n",
              "      <th>hdi_3%</th>\n",
              "      <th>hdi_97%</th>\n",
              "      <th>mcse_mean</th>\n",
              "      <th>mcse_sd</th>\n",
              "      <th>ess_mean</th>\n",
              "      <th>ess_sd</th>\n",
              "      <th>ess_bulk</th>\n",
              "      <th>ess_tail</th>\n",
              "      <th>r_hat</th>\n",
              "    </tr>\n",
              "  </thead>\n",
              "  <tbody>\n",
              "    <tr>\n",
              "      <th>betas[0]</th>\n",
              "      <td>0.081</td>\n",
              "      <td>0.006</td>\n",
              "      <td>0.070</td>\n",
              "      <td>0.092</td>\n",
              "      <td>0.0</td>\n",
              "      <td>0.0</td>\n",
              "      <td>1907.0</td>\n",
              "      <td>1907.0</td>\n",
              "      <td>1898.0</td>\n",
              "      <td>1576.0</td>\n",
              "      <td>1.0</td>\n",
              "    </tr>\n",
              "    <tr>\n",
              "      <th>betas[1]</th>\n",
              "      <td>0.063</td>\n",
              "      <td>0.012</td>\n",
              "      <td>0.042</td>\n",
              "      <td>0.086</td>\n",
              "      <td>0.0</td>\n",
              "      <td>0.0</td>\n",
              "      <td>2193.0</td>\n",
              "      <td>2193.0</td>\n",
              "      <td>2186.0</td>\n",
              "      <td>2297.0</td>\n",
              "      <td>1.0</td>\n",
              "    </tr>\n",
              "  </tbody>\n",
              "</table>\n",
              "</div>"
            ],
            "text/plain": [
              "           mean     sd  hdi_3%  hdi_97%  ...  ess_sd  ess_bulk  ess_tail  r_hat\n",
              "betas[0]  0.081  0.006   0.070    0.092  ...  1907.0    1898.0    1576.0    1.0\n",
              "betas[1]  0.063  0.012   0.042    0.086  ...  2193.0    2186.0    2297.0    1.0\n",
              "\n",
              "[2 rows x 11 columns]"
            ]
          },
          "metadata": {
            "tags": []
          },
          "execution_count": 250
        }
      ]
    },
    {
      "cell_type": "code",
      "metadata": {
        "colab": {
          "base_uri": "https://localhost:8080/",
          "height": 169
        },
        "id": "QxgvAAleac1P",
        "outputId": "f3825534-9248-421b-c482-9248b1aa4a59"
      },
      "source": [
        "pm.traceplot(trace_2_mix);"
      ],
      "execution_count": null,
      "outputs": [
        {
          "output_type": "display_data",
          "data": {
            "image/png": "[encoded data removed]",
            "text/plain": [
              "<Figure size 864x144 with 2 Axes>"
            ]
          },
          "metadata": {
            "tags": [],
            "needs_background": "light"
          }
        }
      ]
    },
    {
      "cell_type": "markdown",
      "metadata": {
        "id": "Bisvm7D5ajsj"
      },
      "source": [
        "For mixture data, the exponential model can detect the treatment effects as well."
      ]
    },
    {
      "cell_type": "markdown",
      "metadata": {
        "id": "Cl2fwVXy9C_T"
      },
      "source": [
        "## 3). Poisson model\n",
        "A. Pure data"
      ]
    },
    {
      "cell_type": "code",
      "metadata": {
        "id": "sUHiieAR9L41"
      },
      "source": [
        "def PoissonModel(data):\n",
        "    with pm.Model() as model:\n",
        "        betas = pm.Normal('betas', 0, 10, shape=2)\n",
        "        lam = pm.math.exp(betas[0] + betas[1] * data['Institute'])\n",
        "        obs = pm.Poisson('obs', lam, observed=data['TreatyLength'])\n",
        "        trace = pm.sample(2000, tune=1000, chains=2, cores=2)    \n",
        "    return trace, model"
      ],
      "execution_count": null,
      "outputs": []
    },
    {
      "cell_type": "code",
      "metadata": {
        "colab": {
          "base_uri": "https://localhost:8080/",
          "height": 174
        },
        "id": "cdW6vMTZ9noN",
        "outputId": "93348e03-0ce4-4fc5-b6c4-2702dc0a6556"
      },
      "source": [
        "trace_3, model_3 = PoissonModel(pure_sim_data)"
      ],
      "execution_count": null,
      "outputs": [
        {
          "output_type": "stream",
          "text": [
            "/usr/local/lib/python3.7/dist-packages/ipykernel_launcher.py:6: FutureWarning: In v4.0, pm.sample will return an `arviz.InferenceData` object instead of a `MultiTrace` by default. You can pass return_inferencedata=True or return_inferencedata=False to be safe and silence this warning.\n",
            "  \n",
            "Auto-assigning NUTS sampler...\n",
            "Initializing NUTS using jitter+adapt_diag...\n",
            "Multiprocess sampling (2 chains in 2 jobs)\n",
            "NUTS: [betas]\n"
          ],
          "name": "stderr"
        },
        {
          "output_type": "display_data",
          "data": {
            "text/html": [
              "\n",
              "    <div>\n",
              "        <style>\n",
              "            /* Turns off some styling */\n",
              "            progress {\n",
              "                /* gets rid of default border in Firefox and Opera. */\n",
              "                border: none;\n",
              "                /* Needs to be in here for Safari polyfill so background images work as expected. */\n",
              "                background-size: auto;\n",
              "            }\n",
              "            .progress-bar-interrupted, .progress-bar-interrupted::-webkit-progress-bar {\n",
              "                background: #F44336;\n",
              "            }\n",
              "        </style>\n",
              "      <progress value='6000' class='' max='6000' style='width:300px; height:20px; vertical-align: middle;'></progress>\n",
              "      100.00% [6000/6000 00:06<00:00 Sampling 2 chains, 0 divergences]\n",
              "    </div>\n",
              "    "
            ],
            "text/plain": [
              "<IPython.core.display.HTML object>"
            ]
          },
          "metadata": {
            "tags": []
          }
        },
        {
          "output_type": "stream",
          "text": [
            "Sampling 2 chains for 1_000 tune and 2_000 draw iterations (2_000 + 4_000 draws total) took 7 seconds.\n"
          ],
          "name": "stderr"
        }
      ]
    },
    {
      "cell_type": "code",
      "metadata": {
        "colab": {
          "base_uri": "https://localhost:8080/",
          "height": 160
        },
        "id": "hrry8Tyg9z0G",
        "outputId": "fd87a2ec-4d88-4285-900b-00494efbef4c"
      },
      "source": [
        "pm.summary(trace_3)"
      ],
      "execution_count": null,
      "outputs": [
        {
          "output_type": "stream",
          "text": [
            "/usr/local/lib/python3.7/dist-packages/arviz/data/io_pymc3.py:100: FutureWarning: Using `from_pymc3` without the model will be deprecated in a future release. Not using the model will return less accurate and less useful results. Make sure you use the model argument or call from_pymc3 within a model context.\n",
            "  FutureWarning,\n"
          ],
          "name": "stderr"
        },
        {
          "output_type": "execute_result",
          "data": {
            "text/html": [
              "<div>\n",
              "<style scoped>\n",
              "    .dataframe tbody tr th:only-of-type {\n",
              "        vertical-align: middle;\n",
              "    }\n",
              "\n",
              "    .dataframe tbody tr th {\n",
              "        vertical-align: top;\n",
              "    }\n",
              "\n",
              "    .dataframe thead th {\n",
              "        text-align: right;\n",
              "    }\n",
              "</style>\n",
              "<table border=\"1\" class=\"dataframe\">\n",
              "  <thead>\n",
              "    <tr style=\"text-align: right;\">\n",
              "      <th></th>\n",
              "      <th>mean</th>\n",
              "      <th>sd</th>\n",
              "      <th>hdi_3%</th>\n",
              "      <th>hdi_97%</th>\n",
              "      <th>mcse_mean</th>\n",
              "      <th>mcse_sd</th>\n",
              "      <th>ess_bulk</th>\n",
              "      <th>ess_tail</th>\n",
              "      <th>r_hat</th>\n",
              "    </tr>\n",
              "  </thead>\n",
              "  <tbody>\n",
              "    <tr>\n",
              "      <th>betas[0]</th>\n",
              "      <td>1.912</td>\n",
              "      <td>0.028</td>\n",
              "      <td>1.858</td>\n",
              "      <td>1.963</td>\n",
              "      <td>0.001</td>\n",
              "      <td>0.000</td>\n",
              "      <td>1564.0</td>\n",
              "      <td>2117.0</td>\n",
              "      <td>1.0</td>\n",
              "    </tr>\n",
              "    <tr>\n",
              "      <th>betas[1]</th>\n",
              "      <td>-0.344</td>\n",
              "      <td>0.043</td>\n",
              "      <td>-0.427</td>\n",
              "      <td>-0.264</td>\n",
              "      <td>0.001</td>\n",
              "      <td>0.001</td>\n",
              "      <td>1489.0</td>\n",
              "      <td>2084.0</td>\n",
              "      <td>1.0</td>\n",
              "    </tr>\n",
              "  </tbody>\n",
              "</table>\n",
              "</div>"
            ],
            "text/plain": [
              "           mean     sd  hdi_3%  hdi_97%  ...  mcse_sd  ess_bulk  ess_tail  r_hat\n",
              "betas[0]  1.912  0.028   1.858    1.963  ...    0.000    1564.0    2117.0    1.0\n",
              "betas[1] -0.344  0.043  -0.427   -0.264  ...    0.001    1489.0    2084.0    1.0\n",
              "\n",
              "[2 rows x 9 columns]"
            ]
          },
          "metadata": {
            "tags": []
          },
          "execution_count": 25
        }
      ]
    },
    {
      "cell_type": "code",
      "metadata": {
        "colab": {
          "base_uri": "https://localhost:8080/",
          "height": 256
        },
        "id": "EA6_hoLC-AQf",
        "outputId": "a8e18072-2477-44cb-f76f-f8228386c1a3"
      },
      "source": [
        "pm.traceplot(trace_3);"
      ],
      "execution_count": null,
      "outputs": [
        {
          "output_type": "stream",
          "text": [
            "/usr/local/lib/python3.7/dist-packages/ipykernel_launcher.py:1: DeprecationWarning: The function `traceplot` from PyMC3 is just an alias for `plot_trace` from ArviZ. Please switch to `pymc3.plot_trace` or `arviz.plot_trace`.\n",
            "  \"\"\"Entry point for launching an IPython kernel.\n",
            "/usr/local/lib/python3.7/dist-packages/arviz/data/io_pymc3.py:100: FutureWarning: Using `from_pymc3` without the model will be deprecated in a future release. Not using the model will return less accurate and less useful results. Make sure you use the model argument or call from_pymc3 within a model context.\n",
            "  FutureWarning,\n"
          ],
          "name": "stderr"
        },
        {
          "output_type": "display_data",
          "data": {
            "image/png": "[encoded data removed]",
            "text/plain": [
              "<Figure size 864x144 with 2 Axes>"
            ]
          },
          "metadata": {
            "tags": [],
            "needs_background": "light"
          }
        }
      ]
    },
    {
      "cell_type": "markdown",
      "metadata": {
        "id": "REKAs_MVbndd"
      },
      "source": [
        "The model fit is not vert good and it is hard to see the treatment effects."
      ]
    },
    {
      "cell_type": "markdown",
      "metadata": {
        "id": "ZPRJz-nNPBPb"
      },
      "source": [
        "B. Mixture data"
      ]
    },
    {
      "cell_type": "code",
      "metadata": {
        "colab": {
          "base_uri": "https://localhost:8080/",
          "height": 118
        },
        "id": "54xBwdwHPIeh",
        "outputId": "5fc156b2-dc94-4df8-cb5c-640f9c33aa14"
      },
      "source": [
        "trace_3_mix, model_3_mix = PoissonModel(mix_sim_data)"
      ],
      "execution_count": null,
      "outputs": [
        {
          "output_type": "stream",
          "text": [
            "Auto-assigning NUTS sampler...\n",
            "Initializing NUTS using jitter+adapt_diag...\n",
            "Multiprocess sampling (2 chains in 2 jobs)\n",
            "NUTS: [betas]\n",
            "Sampling 2 chains, 2 divergences: 100%|██████████| 6000/6000 [00:05<00:00, 1081.16draws/s]\n",
            "There were 2 divergences after tuning. Increase `target_accept` or reparameterize.\n"
          ],
          "name": "stderr"
        }
      ]
    },
    {
      "cell_type": "code",
      "metadata": {
        "colab": {
          "base_uri": "https://localhost:8080/",
          "height": 106
        },
        "id": "hK03FjbDPvgT",
        "outputId": "c822e668-804d-4d4f-fa8c-47563e0e8c41"
      },
      "source": [
        "pm.summary(trace_3_mix)"
      ],
      "execution_count": null,
      "outputs": [
        {
          "output_type": "execute_result",
          "data": {
            "text/html": [
              "<div>\n",
              "<style scoped>\n",
              "    .dataframe tbody tr th:only-of-type {\n",
              "        vertical-align: middle;\n",
              "    }\n",
              "\n",
              "    .dataframe tbody tr th {\n",
              "        vertical-align: top;\n",
              "    }\n",
              "\n",
              "    .dataframe thead th {\n",
              "        text-align: right;\n",
              "    }\n",
              "</style>\n",
              "<table border=\"1\" class=\"dataframe\">\n",
              "  <thead>\n",
              "    <tr style=\"text-align: right;\">\n",
              "      <th></th>\n",
              "      <th>mean</th>\n",
              "      <th>sd</th>\n",
              "      <th>hdi_3%</th>\n",
              "      <th>hdi_97%</th>\n",
              "      <th>mcse_mean</th>\n",
              "      <th>mcse_sd</th>\n",
              "      <th>ess_mean</th>\n",
              "      <th>ess_sd</th>\n",
              "      <th>ess_bulk</th>\n",
              "      <th>ess_tail</th>\n",
              "      <th>r_hat</th>\n",
              "    </tr>\n",
              "  </thead>\n",
              "  <tbody>\n",
              "    <tr>\n",
              "      <th>betas[0]</th>\n",
              "      <td>4.997</td>\n",
              "      <td>0.004</td>\n",
              "      <td>4.990</td>\n",
              "      <td>5.000</td>\n",
              "      <td>0.000</td>\n",
              "      <td>0.000</td>\n",
              "      <td>3030.0</td>\n",
              "      <td>3029.0</td>\n",
              "      <td>2033.0</td>\n",
              "      <td>1681.0</td>\n",
              "      <td>1.0</td>\n",
              "    </tr>\n",
              "    <tr>\n",
              "      <th>betas[1]</th>\n",
              "      <td>1.996</td>\n",
              "      <td>0.186</td>\n",
              "      <td>1.637</td>\n",
              "      <td>2.336</td>\n",
              "      <td>0.004</td>\n",
              "      <td>0.002</td>\n",
              "      <td>2794.0</td>\n",
              "      <td>2788.0</td>\n",
              "      <td>2787.0</td>\n",
              "      <td>2365.0</td>\n",
              "      <td>1.0</td>\n",
              "    </tr>\n",
              "  </tbody>\n",
              "</table>\n",
              "</div>"
            ],
            "text/plain": [
              "           mean     sd  hdi_3%  hdi_97%  ...  ess_sd  ess_bulk  ess_tail  r_hat\n",
              "betas[0]  4.997  0.004   4.990    5.000  ...  3029.0    2033.0    1681.0    1.0\n",
              "betas[1]  1.996  0.186   1.637    2.336  ...  2788.0    2787.0    2365.0    1.0\n",
              "\n",
              "[2 rows x 11 columns]"
            ]
          },
          "metadata": {
            "tags": []
          },
          "execution_count": 258
        }
      ]
    },
    {
      "cell_type": "code",
      "metadata": {
        "colab": {
          "base_uri": "https://localhost:8080/",
          "height": 169
        },
        "id": "SonZzvhsP2Rd",
        "outputId": "f6acdf2c-735a-4473-d94a-07b863b97c47"
      },
      "source": [
        "pm.traceplot(trace_3_mix);"
      ],
      "execution_count": null,
      "outputs": [
        {
          "output_type": "display_data",
          "data": {
            "image/png": "[encoded data removed]",
            "text/plain": [
              "<Figure size 864x144 with 2 Axes>"
            ]
          },
          "metadata": {
            "tags": [],
            "needs_background": "light"
          }
        }
      ]
    },
    {
      "cell_type": "markdown",
      "metadata": {
        "id": "BnP6JtGHQAgc"
      },
      "source": [
        "For the mixture data, a poisson model can detect the treatment effects."
      ]
    },
    {
      "cell_type": "markdown",
      "metadata": {
        "id": "lrxmf_PobiM6"
      },
      "source": [
        "## 4). Mixture model"
      ]
    },
    {
      "cell_type": "code",
      "metadata": {
        "id": "W33cNDTHFMd1"
      },
      "source": [
        "def MixtureModel(data):\n",
        "    with pm.Model() as model:\n",
        "        betas = pm.Normal('betas', 0, 10, shape=2, transform=tr.ordered, testval=[0.1, 0.5])\n",
        "        prob_0 = 1/(1 + np.exp(-betas[0]))\n",
        "        prob_1 = 1/(1 + np.exp(-betas[1]))\n",
        "        geo_0 = pm.Geometric.dist(prob_0)\n",
        "        geo_1 = pm.Geometric.dist(prob_1)\n",
        "        w = pm.Dirichlet('weights', a=np.array([1, 1]))\n",
        "        like = pm.Mixture('like', w=w, comp_dists = [geo_0, geo_1], observed=data['TreatyLength'])\n",
        "        trace = pm.sample(4000, tune=1000, chains=2, cores=1)\n",
        "    return trace, model"
      ],
      "execution_count": null,
      "outputs": []
    },
    {
      "cell_type": "code",
      "metadata": {
        "colab": {
          "base_uri": "https://localhost:8080/",
          "height": 202
        },
        "id": "W2eoWj--r1JN",
        "outputId": "004ad34e-0fb5-4a15-f09e-2fc110db984c"
      },
      "source": [
        "trace_4, model_4 = MixtureModel(pure_sim_data)"
      ],
      "execution_count": null,
      "outputs": [
        {
          "output_type": "stream",
          "text": [
            "Auto-assigning NUTS sampler...\n",
            "Initializing NUTS using jitter+adapt_diag...\n",
            "Sequential sampling (2 chains in 1 job)\n",
            "NUTS: [weights, betas]\n",
            "Sampling chain 0, 24 divergences: 100%|██████████| 5000/5000 [00:24<00:00, 205.27it/s]\n",
            "Sampling chain 1, 39 divergences: 100%|██████████| 5000/5000 [00:22<00:00, 218.73it/s]\n",
            "There were 24 divergences after tuning. Increase `target_accept` or reparameterize.\n",
            "The acceptance probability does not match the target. It is 0.7106120620857695, but should be close to 0.8. Try to increase the number of tuning steps.\n",
            "There were 63 divergences after tuning. Increase `target_accept` or reparameterize.\n",
            "The acceptance probability does not match the target. It is 0.6954145003977417, but should be close to 0.8. Try to increase the number of tuning steps.\n",
            "The number of effective samples is smaller than 10% for some parameters.\n"
          ],
          "name": "stderr"
        }
      ]
    },
    {
      "cell_type": "code",
      "metadata": {
        "colab": {
          "base_uri": "https://localhost:8080/",
          "height": 166
        },
        "id": "YVxsR3OAKuOg",
        "outputId": "99ea58d6-3aa6-45e6-d2e3-18cedbc82abd"
      },
      "source": [
        "res_2 = pm.summary(trace_4)\n",
        "res_2"
      ],
      "execution_count": null,
      "outputs": [
        {
          "output_type": "execute_result",
          "data": {
            "text/html": [
              "<div>\n",
              "<style scoped>\n",
              "    .dataframe tbody tr th:only-of-type {\n",
              "        vertical-align: middle;\n",
              "    }\n",
              "\n",
              "    .dataframe tbody tr th {\n",
              "        vertical-align: top;\n",
              "    }\n",
              "\n",
              "    .dataframe thead th {\n",
              "        text-align: right;\n",
              "    }\n",
              "</style>\n",
              "<table border=\"1\" class=\"dataframe\">\n",
              "  <thead>\n",
              "    <tr style=\"text-align: right;\">\n",
              "      <th></th>\n",
              "      <th>mean</th>\n",
              "      <th>sd</th>\n",
              "      <th>hdi_3%</th>\n",
              "      <th>hdi_97%</th>\n",
              "      <th>mcse_mean</th>\n",
              "      <th>mcse_sd</th>\n",
              "      <th>ess_mean</th>\n",
              "      <th>ess_sd</th>\n",
              "      <th>ess_bulk</th>\n",
              "      <th>ess_tail</th>\n",
              "      <th>r_hat</th>\n",
              "    </tr>\n",
              "  </thead>\n",
              "  <tbody>\n",
              "    <tr>\n",
              "      <th>betas[0]</th>\n",
              "      <td>-1.659</td>\n",
              "      <td>0.129</td>\n",
              "      <td>-1.913</td>\n",
              "      <td>-1.456</td>\n",
              "      <td>0.009</td>\n",
              "      <td>0.006</td>\n",
              "      <td>229.0</td>\n",
              "      <td>215.0</td>\n",
              "      <td>283.0</td>\n",
              "      <td>158.0</td>\n",
              "      <td>1.0</td>\n",
              "    </tr>\n",
              "    <tr>\n",
              "      <th>betas[1]</th>\n",
              "      <td>1.892</td>\n",
              "      <td>5.232</td>\n",
              "      <td>-1.625</td>\n",
              "      <td>13.068</td>\n",
              "      <td>0.164</td>\n",
              "      <td>0.116</td>\n",
              "      <td>1018.0</td>\n",
              "      <td>1018.0</td>\n",
              "      <td>760.0</td>\n",
              "      <td>1915.0</td>\n",
              "      <td>1.0</td>\n",
              "    </tr>\n",
              "    <tr>\n",
              "      <th>weights[0]</th>\n",
              "      <td>0.747</td>\n",
              "      <td>0.235</td>\n",
              "      <td>0.307</td>\n",
              "      <td>1.000</td>\n",
              "      <td>0.011</td>\n",
              "      <td>0.008</td>\n",
              "      <td>481.0</td>\n",
              "      <td>430.0</td>\n",
              "      <td>582.0</td>\n",
              "      <td>1357.0</td>\n",
              "      <td>1.0</td>\n",
              "    </tr>\n",
              "    <tr>\n",
              "      <th>weights[1]</th>\n",
              "      <td>0.253</td>\n",
              "      <td>0.235</td>\n",
              "      <td>0.000</td>\n",
              "      <td>0.693</td>\n",
              "      <td>0.011</td>\n",
              "      <td>0.008</td>\n",
              "      <td>481.0</td>\n",
              "      <td>481.0</td>\n",
              "      <td>582.0</td>\n",
              "      <td>1357.0</td>\n",
              "      <td>1.0</td>\n",
              "    </tr>\n",
              "  </tbody>\n",
              "</table>\n",
              "</div>"
            ],
            "text/plain": [
              "             mean     sd  hdi_3%  hdi_97%  ...  ess_sd  ess_bulk  ess_tail  r_hat\n",
              "betas[0]   -1.659  0.129  -1.913   -1.456  ...   215.0     283.0     158.0    1.0\n",
              "betas[1]    1.892  5.232  -1.625   13.068  ...  1018.0     760.0    1915.0    1.0\n",
              "weights[0]  0.747  0.235   0.307    1.000  ...   430.0     582.0    1357.0    1.0\n",
              "weights[1]  0.253  0.235   0.000    0.693  ...   481.0     582.0    1357.0    1.0\n",
              "\n",
              "[4 rows x 11 columns]"
            ]
          },
          "metadata": {
            "tags": []
          },
          "execution_count": 263
        }
      ]
    },
    {
      "cell_type": "code",
      "metadata": {
        "colab": {
          "base_uri": "https://localhost:8080/",
          "height": 50
        },
        "id": "Irfag4uUOt9h",
        "outputId": "8c461c46-3acc-4308-a1b0-1c9aac2a5348"
      },
      "source": [
        "print('The probability in the first geometric distribution is: {:.3f}.'.format(1/(1 + np.exp(-res_2.iloc[0,0]))))\n",
        "print('The probability in the second geometric distribution is: {:.3f}.'.format(1/(1 + np.exp(-res_2.iloc[0,1]))))"
      ],
      "execution_count": null,
      "outputs": [
        {
          "output_type": "stream",
          "text": [
            "The probability in the first geometric distribution is: 0.160.\n",
            "The probability in the second geometric distribution is: 0.532.\n"
          ],
          "name": "stdout"
        }
      ]
    },
    {
      "cell_type": "code",
      "metadata": {
        "colab": {
          "base_uri": "https://localhost:8080/",
          "height": 267
        },
        "id": "fe8rWsHfnBVi",
        "outputId": "fd72c5d5-9223-4c16-cdbe-d60a077e1b90"
      },
      "source": [
        "x = trace_4['betas']  # see the constraint from the samples\n",
        "plt.scatter(x[:,0], x[:,1])\n",
        "plt.plot([-2,3],[-2,3], '--');"
      ],
      "execution_count": null,
      "outputs": [
        {
          "output_type": "display_data",
          "data": {
            "image/png": "[encoded data removed]",
            "text/plain": [
              "<Figure size 432x288 with 1 Axes>"
            ]
          },
          "metadata": {
            "tags": [],
            "needs_background": "light"
          }
        }
      ]
    },
    {
      "cell_type": "code",
      "metadata": {
        "colab": {
          "base_uri": "https://localhost:8080/",
          "height": 313
        },
        "id": "R2LxKIr4QowD",
        "outputId": "2476abbe-4e34-4cc4-a774-e585b96eadc1"
      },
      "source": [
        "pm.traceplot(trace_4);"
      ],
      "execution_count": null,
      "outputs": [
        {
          "output_type": "display_data",
          "data": {
            "image/png": "[encoded data removed]",
            "text/plain": [
              "<Figure size 864x288 with 4 Axes>"
            ]
          },
          "metadata": {
            "tags": [],
            "needs_background": "light"
          }
        }
      ]
    },
    {
      "cell_type": "markdown",
      "metadata": {
        "id": "2gIXWoyi9kIn"
      },
      "source": [
        "This mixture model does not fit the model well."
      ]
    },
    {
      "cell_type": "markdown",
      "metadata": {
        "id": "78jrdrpqmnpT"
      },
      "source": [
        "\n",
        "## 5) Negative-binomial model (added)\n",
        "Check if a negative-binomial model can fit the gemotric-simulated data"
      ]
    },
    {
      "cell_type": "code",
      "metadata": {
        "id": "oI2b8vHZmnpT"
      },
      "source": [
        "def logistic(beta):\n",
        "    return 1.0 / (1. + np.exp(beta))\n",
        "\n",
        "def NegativeBinomialModel(data):\n",
        "    with pm.Model() as model:\n",
        "        betas = pm.Normal('betas', 0, 10, shape=2)\n",
        "        #n = pm.Poisson(1, shape=2)\n",
        "        #betas = pm.HalfCauchy('betas', 0, 10, shape=4)\n",
        "        p = pm.Deterministic('logistic transform', 1/(1+pm.math.exp(betas[0] + betas[1] * data['Institute'])))\n",
        "        #p = 1/(1+pm.math.exp(betas[0] + betas[1] * data['Institute']))\n",
        "        obs = pm.NegativeBinomial('obs', p=p, n=1, observed=data['TreatyLength'])\n",
        "        trace = pm.sample(2000, tune=1000, chains=2, cores=2)    \n",
        "    return trace, model"
      ],
      "execution_count": null,
      "outputs": []
    },
    {
      "cell_type": "code",
      "metadata": {
        "colab": {
          "base_uri": "https://localhost:8080/",
          "height": 174
        },
        "id": "SKKDuNkgmnpU",
        "outputId": "ac4ab55b-6534-466d-d32b-8547fb1506a8"
      },
      "source": [
        "trace_5, model_5 = NegativeBinomialModel(pure_sim_data)"
      ],
      "execution_count": null,
      "outputs": [
        {
          "output_type": "stream",
          "text": [
            "/usr/local/lib/python3.7/dist-packages/ipykernel_launcher.py:12: FutureWarning: In v4.0, pm.sample will return an `arviz.InferenceData` object instead of a `MultiTrace` by default. You can pass return_inferencedata=True or return_inferencedata=False to be safe and silence this warning.\n",
            "  if sys.path[0] == '':\n",
            "Auto-assigning NUTS sampler...\n",
            "Initializing NUTS using jitter+adapt_diag...\n",
            "Multiprocess sampling (2 chains in 2 jobs)\n",
            "NUTS: [betas]\n"
          ],
          "name": "stderr"
        },
        {
          "output_type": "display_data",
          "data": {
            "text/html": [
              "\n",
              "    <div>\n",
              "        <style>\n",
              "            /* Turns off some styling */\n",
              "            progress {\n",
              "                /* gets rid of default border in Firefox and Opera. */\n",
              "                border: none;\n",
              "                /* Needs to be in here for Safari polyfill so background images work as expected. */\n",
              "                background-size: auto;\n",
              "            }\n",
              "            .progress-bar-interrupted, .progress-bar-interrupted::-webkit-progress-bar {\n",
              "                background: #F44336;\n",
              "            }\n",
              "        </style>\n",
              "      <progress value='6000' class='' max='6000' style='width:300px; height:20px; vertical-align: middle;'></progress>\n",
              "      100.00% [6000/6000 00:08<00:00 Sampling 2 chains, 0 divergences]\n",
              "    </div>\n",
              "    "
            ],
            "text/plain": [
              "<IPython.core.display.HTML object>"
            ]
          },
          "metadata": {
            "tags": []
          }
        },
        {
          "output_type": "stream",
          "text": [
            "Sampling 2 chains for 1_000 tune and 2_000 draw iterations (2_000 + 4_000 draws total) took 9 seconds.\n"
          ],
          "name": "stderr"
        }
      ]
    },
    {
      "cell_type": "code",
      "metadata": {
        "colab": {
          "base_uri": "https://localhost:8080/",
          "height": 455
        },
        "id": "pAsTYGasmnpV",
        "outputId": "89dc4986-7044-482d-a3ed-5037d78748ca"
      },
      "source": [
        "res_5 = pm.summary(trace_5)\n",
        "res_5"
      ],
      "execution_count": null,
      "outputs": [
        {
          "output_type": "stream",
          "text": [
            "/usr/local/lib/python3.7/dist-packages/arviz/data/io_pymc3.py:100: FutureWarning: Using `from_pymc3` without the model will be deprecated in a future release. Not using the model will return less accurate and less useful results. Make sure you use the model argument or call from_pymc3 within a model context.\n",
            "  FutureWarning,\n"
          ],
          "name": "stderr"
        },
        {
          "output_type": "execute_result",
          "data": {
            "text/html": [
              "<div>\n",
              "<style scoped>\n",
              "    .dataframe tbody tr th:only-of-type {\n",
              "        vertical-align: middle;\n",
              "    }\n",
              "\n",
              "    .dataframe tbody tr th {\n",
              "        vertical-align: top;\n",
              "    }\n",
              "\n",
              "    .dataframe thead th {\n",
              "        text-align: right;\n",
              "    }\n",
              "</style>\n",
              "<table border=\"1\" class=\"dataframe\">\n",
              "  <thead>\n",
              "    <tr style=\"text-align: right;\">\n",
              "      <th></th>\n",
              "      <th>mean</th>\n",
              "      <th>sd</th>\n",
              "      <th>hdi_3%</th>\n",
              "      <th>hdi_97%</th>\n",
              "      <th>mcse_mean</th>\n",
              "      <th>mcse_sd</th>\n",
              "      <th>ess_bulk</th>\n",
              "      <th>ess_tail</th>\n",
              "      <th>r_hat</th>\n",
              "    </tr>\n",
              "  </thead>\n",
              "  <tbody>\n",
              "    <tr>\n",
              "      <th>betas[0]</th>\n",
              "      <td>1.913</td>\n",
              "      <td>0.075</td>\n",
              "      <td>1.773</td>\n",
              "      <td>2.055</td>\n",
              "      <td>0.002</td>\n",
              "      <td>0.002</td>\n",
              "      <td>1269.0</td>\n",
              "      <td>1893.0</td>\n",
              "      <td>1.0</td>\n",
              "    </tr>\n",
              "    <tr>\n",
              "      <th>betas[1]</th>\n",
              "      <td>-0.342</td>\n",
              "      <td>0.111</td>\n",
              "      <td>-0.549</td>\n",
              "      <td>-0.127</td>\n",
              "      <td>0.003</td>\n",
              "      <td>0.002</td>\n",
              "      <td>1405.0</td>\n",
              "      <td>2033.0</td>\n",
              "      <td>1.0</td>\n",
              "    </tr>\n",
              "    <tr>\n",
              "      <th>logistic transform[0]</th>\n",
              "      <td>0.172</td>\n",
              "      <td>0.011</td>\n",
              "      <td>0.152</td>\n",
              "      <td>0.194</td>\n",
              "      <td>0.000</td>\n",
              "      <td>0.000</td>\n",
              "      <td>2536.0</td>\n",
              "      <td>2868.0</td>\n",
              "      <td>1.0</td>\n",
              "    </tr>\n",
              "    <tr>\n",
              "      <th>logistic transform[1]</th>\n",
              "      <td>0.172</td>\n",
              "      <td>0.011</td>\n",
              "      <td>0.152</td>\n",
              "      <td>0.194</td>\n",
              "      <td>0.000</td>\n",
              "      <td>0.000</td>\n",
              "      <td>2536.0</td>\n",
              "      <td>2868.0</td>\n",
              "      <td>1.0</td>\n",
              "    </tr>\n",
              "    <tr>\n",
              "      <th>logistic transform[2]</th>\n",
              "      <td>0.172</td>\n",
              "      <td>0.011</td>\n",
              "      <td>0.152</td>\n",
              "      <td>0.194</td>\n",
              "      <td>0.000</td>\n",
              "      <td>0.000</td>\n",
              "      <td>2536.0</td>\n",
              "      <td>2868.0</td>\n",
              "      <td>1.0</td>\n",
              "    </tr>\n",
              "    <tr>\n",
              "      <th>...</th>\n",
              "      <td>...</td>\n",
              "      <td>...</td>\n",
              "      <td>...</td>\n",
              "      <td>...</td>\n",
              "      <td>...</td>\n",
              "      <td>...</td>\n",
              "      <td>...</td>\n",
              "      <td>...</td>\n",
              "      <td>...</td>\n",
              "    </tr>\n",
              "    <tr>\n",
              "      <th>logistic transform[395]</th>\n",
              "      <td>0.129</td>\n",
              "      <td>0.008</td>\n",
              "      <td>0.114</td>\n",
              "      <td>0.145</td>\n",
              "      <td>0.000</td>\n",
              "      <td>0.000</td>\n",
              "      <td>1269.0</td>\n",
              "      <td>1893.0</td>\n",
              "      <td>1.0</td>\n",
              "    </tr>\n",
              "    <tr>\n",
              "      <th>logistic transform[396]</th>\n",
              "      <td>0.129</td>\n",
              "      <td>0.008</td>\n",
              "      <td>0.114</td>\n",
              "      <td>0.145</td>\n",
              "      <td>0.000</td>\n",
              "      <td>0.000</td>\n",
              "      <td>1269.0</td>\n",
              "      <td>1893.0</td>\n",
              "      <td>1.0</td>\n",
              "    </tr>\n",
              "    <tr>\n",
              "      <th>logistic transform[397]</th>\n",
              "      <td>0.129</td>\n",
              "      <td>0.008</td>\n",
              "      <td>0.114</td>\n",
              "      <td>0.145</td>\n",
              "      <td>0.000</td>\n",
              "      <td>0.000</td>\n",
              "      <td>1269.0</td>\n",
              "      <td>1893.0</td>\n",
              "      <td>1.0</td>\n",
              "    </tr>\n",
              "    <tr>\n",
              "      <th>logistic transform[398]</th>\n",
              "      <td>0.129</td>\n",
              "      <td>0.008</td>\n",
              "      <td>0.114</td>\n",
              "      <td>0.145</td>\n",
              "      <td>0.000</td>\n",
              "      <td>0.000</td>\n",
              "      <td>1269.0</td>\n",
              "      <td>1893.0</td>\n",
              "      <td>1.0</td>\n",
              "    </tr>\n",
              "    <tr>\n",
              "      <th>logistic transform[399]</th>\n",
              "      <td>0.129</td>\n",
              "      <td>0.008</td>\n",
              "      <td>0.114</td>\n",
              "      <td>0.145</td>\n",
              "      <td>0.000</td>\n",
              "      <td>0.000</td>\n",
              "      <td>1269.0</td>\n",
              "      <td>1893.0</td>\n",
              "      <td>1.0</td>\n",
              "    </tr>\n",
              "  </tbody>\n",
              "</table>\n",
              "<p>402 rows × 9 columns</p>\n",
              "</div>"
            ],
            "text/plain": [
              "                          mean     sd  hdi_3%  ...  ess_bulk  ess_tail  r_hat\n",
              "betas[0]                 1.913  0.075   1.773  ...    1269.0    1893.0    1.0\n",
              "betas[1]                -0.342  0.111  -0.549  ...    1405.0    2033.0    1.0\n",
              "logistic transform[0]    0.172  0.011   0.152  ...    2536.0    2868.0    1.0\n",
              "logistic transform[1]    0.172  0.011   0.152  ...    2536.0    2868.0    1.0\n",
              "logistic transform[2]    0.172  0.011   0.152  ...    2536.0    2868.0    1.0\n",
              "...                        ...    ...     ...  ...       ...       ...    ...\n",
              "logistic transform[395]  0.129  0.008   0.114  ...    1269.0    1893.0    1.0\n",
              "logistic transform[396]  0.129  0.008   0.114  ...    1269.0    1893.0    1.0\n",
              "logistic transform[397]  0.129  0.008   0.114  ...    1269.0    1893.0    1.0\n",
              "logistic transform[398]  0.129  0.008   0.114  ...    1269.0    1893.0    1.0\n",
              "logistic transform[399]  0.129  0.008   0.114  ...    1269.0    1893.0    1.0\n",
              "\n",
              "[402 rows x 9 columns]"
            ]
          },
          "metadata": {
            "tags": []
          },
          "execution_count": 51
        }
      ]
    },
    {
      "cell_type": "code",
      "metadata": {
        "colab": {
          "base_uri": "https://localhost:8080/"
        },
        "id": "inV7PJpsmnpV",
        "outputId": "b71d86cf-f4d7-4d23-f55b-628815d25f7f"
      },
      "source": [
        "1/(1+np.exp(res_5['mean'][0])), 1/(1+np.exp(res_5['mean'][0] + res_5['mean'][1]  ))"
      ],
      "execution_count": null,
      "outputs": [
        {
          "output_type": "execute_result",
          "data": {
            "text/plain": [
              "(0.12864419274420597, 0.17207388055243097)"
            ]
          },
          "metadata": {
            "tags": []
          },
          "execution_count": 60
        }
      ]
    },
    {
      "cell_type": "markdown",
      "metadata": {
        "id": "KCAYF-1UmnpW"
      },
      "source": [
        "# <center> Data from the lab (discussion)---Treaty length simulation"
      ]
    },
    {
      "cell_type": "markdown",
      "metadata": {
        "id": "Qtn9p6aaCpN1"
      },
      "source": [
        "### 1. What infomation do we have or what does the lab data look like?\n",
        "#### Consider a single environment, say lump-sum treaty sysytem"
      ]
    },
    {
      "cell_type": "code",
      "metadata": {
        "id": "uQML03xfDlts"
      },
      "source": [
        "np.random.seed(1234)\n",
        "pd.set_option('precision', 0)\n",
        "pd.set_option('display.float_format', lambda x: '%.0f' % x)"
      ],
      "execution_count": null,
      "outputs": []
    },
    {
      "cell_type": "code",
      "metadata": {
        "id": "MSQS6R0zD8Al"
      },
      "source": [
        "colnames = ['SubID', 'Role', 'Match', 'TreatyLength', 'TreatyEndingReason', 'LandSplit', 'Payment']\n",
        "n_matchs = 2; n_treaty = 4; n_sub = 2\n",
        "n_obs = n_matchs * n_treaty \n",
        "tot_obs = n_obs * n_obs\n",
        "\n",
        "SubID = np.repeat([101, 102], n_obs)\n",
        "Role = np.repeat(['Settler', 'Native'], n_obs)\n",
        "Match = np.tile(np.repeat(['Match'+str(i+1) for i in range(n_matchs)], n_treaty), n_sub)\n",
        "\n",
        "TreatyLength = np.random.randint(1, 7, tot_obs)\n",
        "EndingReason = np.random.choice(['SettlerEnding', 'NativeEnding'], tot_obs)\n",
        "\n",
        "LandSplit = np.concatenate((np.random.randint(55, 80, n_obs),\n",
        "                            np.random.randint(30, 50, n_obs)))\n",
        "Payment = np.random.randint(200, 300, tot_obs)"
      ],
      "execution_count": null,
      "outputs": []
    },
    {
      "cell_type": "code",
      "metadata": {
        "id": "qLWWyAgd620r"
      },
      "source": [
        "data = zip(SubID, \n",
        "           Role, \n",
        "           Match, \n",
        "           TreatyLength,\n",
        "           EndingReason,\n",
        "           LandSplit,\n",
        "           Payment)\n",
        "sample = pd.DataFrame(data=data, columns=colnames)\n",
        "for i in range(n_matchs*n_sub-1):\n",
        "    n = np.random.randint(1, 4)\n",
        "    sample.loc[(i*4+n):((i+1)*4-1), 'TreatyLength'] = np.nan\n",
        "for i in range(n_treaty):\n",
        "    sample.iloc[i, 3:] = sample.iloc[8+i, 3:]\n",
        "\n",
        "sample.loc[sample.TreatyLength.isnull(), ['TreatyEndingReason', 'LandSplit', 'Payment']] = np.nan"
      ],
      "execution_count": null,
      "outputs": []
    },
    {
      "cell_type": "code",
      "metadata": {
        "colab": {
          "base_uri": "https://localhost:8080/",
          "height": 521
        },
        "id": "DENd2nLV_86p",
        "outputId": "321ae473-d046-41c8-c6fb-d9102bfe449a"
      },
      "source": [
        "sample"
      ],
      "execution_count": null,
      "outputs": [
        {
          "output_type": "execute_result",
          "data": {
            "text/html": [
              "<div>\n",
              "<style scoped>\n",
              "    .dataframe tbody tr th:only-of-type {\n",
              "        vertical-align: middle;\n",
              "    }\n",
              "\n",
              "    .dataframe tbody tr th {\n",
              "        vertical-align: top;\n",
              "    }\n",
              "\n",
              "    .dataframe thead th {\n",
              "        text-align: right;\n",
              "    }\n",
              "</style>\n",
              "<table border=\"1\" class=\"dataframe\">\n",
              "  <thead>\n",
              "    <tr style=\"text-align: right;\">\n",
              "      <th></th>\n",
              "      <th>SubID</th>\n",
              "      <th>Role</th>\n",
              "      <th>Match</th>\n",
              "      <th>TreatyLength</th>\n",
              "      <th>TreatyEndingReason</th>\n",
              "      <th>LandSplit</th>\n",
              "      <th>Payment</th>\n",
              "    </tr>\n",
              "  </thead>\n",
              "  <tbody>\n",
              "    <tr>\n",
              "      <th>0</th>\n",
              "      <td>101</td>\n",
              "      <td>Settler</td>\n",
              "      <td>Match1</td>\n",
              "      <td>3</td>\n",
              "      <td>NativeEnding</td>\n",
              "      <td>42</td>\n",
              "      <td>272</td>\n",
              "    </tr>\n",
              "    <tr>\n",
              "      <th>1</th>\n",
              "      <td>101</td>\n",
              "      <td>Settler</td>\n",
              "      <td>Match1</td>\n",
              "      <td>4</td>\n",
              "      <td>NativeEnding</td>\n",
              "      <td>39</td>\n",
              "      <td>202</td>\n",
              "    </tr>\n",
              "    <tr>\n",
              "      <th>2</th>\n",
              "      <td>101</td>\n",
              "      <td>Settler</td>\n",
              "      <td>Match1</td>\n",
              "      <td>5</td>\n",
              "      <td>NativeEnding</td>\n",
              "      <td>43</td>\n",
              "      <td>216</td>\n",
              "    </tr>\n",
              "    <tr>\n",
              "      <th>3</th>\n",
              "      <td>101</td>\n",
              "      <td>Settler</td>\n",
              "      <td>Match1</td>\n",
              "      <td>nan</td>\n",
              "      <td>NaN</td>\n",
              "      <td>nan</td>\n",
              "      <td>nan</td>\n",
              "    </tr>\n",
              "    <tr>\n",
              "      <th>4</th>\n",
              "      <td>101</td>\n",
              "      <td>Settler</td>\n",
              "      <td>Match2</td>\n",
              "      <td>1</td>\n",
              "      <td>SettlerEnding</td>\n",
              "      <td>64</td>\n",
              "      <td>244</td>\n",
              "    </tr>\n",
              "    <tr>\n",
              "      <th>5</th>\n",
              "      <td>101</td>\n",
              "      <td>Settler</td>\n",
              "      <td>Match2</td>\n",
              "      <td>2</td>\n",
              "      <td>SettlerEnding</td>\n",
              "      <td>56</td>\n",
              "      <td>224</td>\n",
              "    </tr>\n",
              "    <tr>\n",
              "      <th>6</th>\n",
              "      <td>101</td>\n",
              "      <td>Settler</td>\n",
              "      <td>Match2</td>\n",
              "      <td>nan</td>\n",
              "      <td>NaN</td>\n",
              "      <td>nan</td>\n",
              "      <td>nan</td>\n",
              "    </tr>\n",
              "    <tr>\n",
              "      <th>7</th>\n",
              "      <td>101</td>\n",
              "      <td>Settler</td>\n",
              "      <td>Match2</td>\n",
              "      <td>nan</td>\n",
              "      <td>NaN</td>\n",
              "      <td>nan</td>\n",
              "      <td>nan</td>\n",
              "    </tr>\n",
              "    <tr>\n",
              "      <th>8</th>\n",
              "      <td>102</td>\n",
              "      <td>Native</td>\n",
              "      <td>Match1</td>\n",
              "      <td>3</td>\n",
              "      <td>NativeEnding</td>\n",
              "      <td>42</td>\n",
              "      <td>272</td>\n",
              "    </tr>\n",
              "    <tr>\n",
              "      <th>9</th>\n",
              "      <td>102</td>\n",
              "      <td>Native</td>\n",
              "      <td>Match1</td>\n",
              "      <td>4</td>\n",
              "      <td>NativeEnding</td>\n",
              "      <td>39</td>\n",
              "      <td>202</td>\n",
              "    </tr>\n",
              "    <tr>\n",
              "      <th>10</th>\n",
              "      <td>102</td>\n",
              "      <td>Native</td>\n",
              "      <td>Match1</td>\n",
              "      <td>5</td>\n",
              "      <td>NativeEnding</td>\n",
              "      <td>43</td>\n",
              "      <td>216</td>\n",
              "    </tr>\n",
              "    <tr>\n",
              "      <th>11</th>\n",
              "      <td>102</td>\n",
              "      <td>Native</td>\n",
              "      <td>Match1</td>\n",
              "      <td>nan</td>\n",
              "      <td>NaN</td>\n",
              "      <td>nan</td>\n",
              "      <td>nan</td>\n",
              "    </tr>\n",
              "    <tr>\n",
              "      <th>12</th>\n",
              "      <td>102</td>\n",
              "      <td>Native</td>\n",
              "      <td>Match2</td>\n",
              "      <td>3</td>\n",
              "      <td>NativeEnding</td>\n",
              "      <td>30</td>\n",
              "      <td>279</td>\n",
              "    </tr>\n",
              "    <tr>\n",
              "      <th>13</th>\n",
              "      <td>102</td>\n",
              "      <td>Native</td>\n",
              "      <td>Match2</td>\n",
              "      <td>3</td>\n",
              "      <td>SettlerEnding</td>\n",
              "      <td>34</td>\n",
              "      <td>267</td>\n",
              "    </tr>\n",
              "    <tr>\n",
              "      <th>14</th>\n",
              "      <td>102</td>\n",
              "      <td>Native</td>\n",
              "      <td>Match2</td>\n",
              "      <td>1</td>\n",
              "      <td>SettlerEnding</td>\n",
              "      <td>34</td>\n",
              "      <td>246</td>\n",
              "    </tr>\n",
              "    <tr>\n",
              "      <th>15</th>\n",
              "      <td>102</td>\n",
              "      <td>Native</td>\n",
              "      <td>Match2</td>\n",
              "      <td>1</td>\n",
              "      <td>NativeEnding</td>\n",
              "      <td>30</td>\n",
              "      <td>298</td>\n",
              "    </tr>\n",
              "  </tbody>\n",
              "</table>\n",
              "</div>"
            ],
            "text/plain": [
              "    SubID     Role   Match  TreatyLength TreatyEndingReason  LandSplit  Payment\n",
              "0     101  Settler  Match1             3       NativeEnding         42      272\n",
              "1     101  Settler  Match1             4       NativeEnding         39      202\n",
              "2     101  Settler  Match1             5       NativeEnding         43      216\n",
              "3     101  Settler  Match1           nan                NaN        nan      nan\n",
              "4     101  Settler  Match2             1      SettlerEnding         64      244\n",
              "5     101  Settler  Match2             2      SettlerEnding         56      224\n",
              "6     101  Settler  Match2           nan                NaN        nan      nan\n",
              "7     101  Settler  Match2           nan                NaN        nan      nan\n",
              "8     102   Native  Match1             3       NativeEnding         42      272\n",
              "9     102   Native  Match1             4       NativeEnding         39      202\n",
              "10    102   Native  Match1             5       NativeEnding         43      216\n",
              "11    102   Native  Match1           nan                NaN        nan      nan\n",
              "12    102   Native  Match2             3       NativeEnding         30      279\n",
              "13    102   Native  Match2             3      SettlerEnding         34      267\n",
              "14    102   Native  Match2             1      SettlerEnding         34      246\n",
              "15    102   Native  Match2             1       NativeEnding         30      298"
            ]
          },
          "metadata": {
            "tags": []
          },
          "execution_count": 76
        }
      ]
    },
    {
      "cell_type": "code",
      "metadata": {
        "colab": {
          "base_uri": "https://localhost:8080/",
          "height": 402
        },
        "id": "_Oihj7qwAX7X",
        "outputId": "c1966838-4dd3-4693-e728-1bf8def69ce0"
      },
      "source": [
        "sample = sample.dropna().reset_index(drop=True)\n",
        "sample"
      ],
      "execution_count": null,
      "outputs": [
        {
          "output_type": "execute_result",
          "data": {
            "text/html": [
              "<div>\n",
              "<style scoped>\n",
              "    .dataframe tbody tr th:only-of-type {\n",
              "        vertical-align: middle;\n",
              "    }\n",
              "\n",
              "    .dataframe tbody tr th {\n",
              "        vertical-align: top;\n",
              "    }\n",
              "\n",
              "    .dataframe thead th {\n",
              "        text-align: right;\n",
              "    }\n",
              "</style>\n",
              "<table border=\"1\" class=\"dataframe\">\n",
              "  <thead>\n",
              "    <tr style=\"text-align: right;\">\n",
              "      <th></th>\n",
              "      <th>SubID</th>\n",
              "      <th>Role</th>\n",
              "      <th>Match</th>\n",
              "      <th>TreatyLength</th>\n",
              "      <th>TreatyEndingReason</th>\n",
              "      <th>LandSplit</th>\n",
              "      <th>Payment</th>\n",
              "    </tr>\n",
              "  </thead>\n",
              "  <tbody>\n",
              "    <tr>\n",
              "      <th>0</th>\n",
              "      <td>101</td>\n",
              "      <td>Settler</td>\n",
              "      <td>Match1</td>\n",
              "      <td>3</td>\n",
              "      <td>NativeEnding</td>\n",
              "      <td>42</td>\n",
              "      <td>272</td>\n",
              "    </tr>\n",
              "    <tr>\n",
              "      <th>1</th>\n",
              "      <td>101</td>\n",
              "      <td>Settler</td>\n",
              "      <td>Match1</td>\n",
              "      <td>4</td>\n",
              "      <td>NativeEnding</td>\n",
              "      <td>39</td>\n",
              "      <td>202</td>\n",
              "    </tr>\n",
              "    <tr>\n",
              "      <th>2</th>\n",
              "      <td>101</td>\n",
              "      <td>Settler</td>\n",
              "      <td>Match1</td>\n",
              "      <td>5</td>\n",
              "      <td>NativeEnding</td>\n",
              "      <td>43</td>\n",
              "      <td>216</td>\n",
              "    </tr>\n",
              "    <tr>\n",
              "      <th>3</th>\n",
              "      <td>101</td>\n",
              "      <td>Settler</td>\n",
              "      <td>Match2</td>\n",
              "      <td>1</td>\n",
              "      <td>SettlerEnding</td>\n",
              "      <td>64</td>\n",
              "      <td>244</td>\n",
              "    </tr>\n",
              "    <tr>\n",
              "      <th>4</th>\n",
              "      <td>101</td>\n",
              "      <td>Settler</td>\n",
              "      <td>Match2</td>\n",
              "      <td>2</td>\n",
              "      <td>SettlerEnding</td>\n",
              "      <td>56</td>\n",
              "      <td>224</td>\n",
              "    </tr>\n",
              "    <tr>\n",
              "      <th>5</th>\n",
              "      <td>102</td>\n",
              "      <td>Native</td>\n",
              "      <td>Match1</td>\n",
              "      <td>3</td>\n",
              "      <td>NativeEnding</td>\n",
              "      <td>42</td>\n",
              "      <td>272</td>\n",
              "    </tr>\n",
              "    <tr>\n",
              "      <th>6</th>\n",
              "      <td>102</td>\n",
              "      <td>Native</td>\n",
              "      <td>Match1</td>\n",
              "      <td>4</td>\n",
              "      <td>NativeEnding</td>\n",
              "      <td>39</td>\n",
              "      <td>202</td>\n",
              "    </tr>\n",
              "    <tr>\n",
              "      <th>7</th>\n",
              "      <td>102</td>\n",
              "      <td>Native</td>\n",
              "      <td>Match1</td>\n",
              "      <td>5</td>\n",
              "      <td>NativeEnding</td>\n",
              "      <td>43</td>\n",
              "      <td>216</td>\n",
              "    </tr>\n",
              "    <tr>\n",
              "      <th>8</th>\n",
              "      <td>102</td>\n",
              "      <td>Native</td>\n",
              "      <td>Match2</td>\n",
              "      <td>3</td>\n",
              "      <td>NativeEnding</td>\n",
              "      <td>30</td>\n",
              "      <td>279</td>\n",
              "    </tr>\n",
              "    <tr>\n",
              "      <th>9</th>\n",
              "      <td>102</td>\n",
              "      <td>Native</td>\n",
              "      <td>Match2</td>\n",
              "      <td>3</td>\n",
              "      <td>SettlerEnding</td>\n",
              "      <td>34</td>\n",
              "      <td>267</td>\n",
              "    </tr>\n",
              "    <tr>\n",
              "      <th>10</th>\n",
              "      <td>102</td>\n",
              "      <td>Native</td>\n",
              "      <td>Match2</td>\n",
              "      <td>1</td>\n",
              "      <td>SettlerEnding</td>\n",
              "      <td>34</td>\n",
              "      <td>246</td>\n",
              "    </tr>\n",
              "    <tr>\n",
              "      <th>11</th>\n",
              "      <td>102</td>\n",
              "      <td>Native</td>\n",
              "      <td>Match2</td>\n",
              "      <td>1</td>\n",
              "      <td>NativeEnding</td>\n",
              "      <td>30</td>\n",
              "      <td>298</td>\n",
              "    </tr>\n",
              "  </tbody>\n",
              "</table>\n",
              "</div>"
            ],
            "text/plain": [
              "    SubID     Role   Match  TreatyLength TreatyEndingReason  LandSplit  Payment\n",
              "0     101  Settler  Match1             3       NativeEnding         42      272\n",
              "1     101  Settler  Match1             4       NativeEnding         39      202\n",
              "2     101  Settler  Match1             5       NativeEnding         43      216\n",
              "3     101  Settler  Match2             1      SettlerEnding         64      244\n",
              "4     101  Settler  Match2             2      SettlerEnding         56      224\n",
              "5     102   Native  Match1             3       NativeEnding         42      272\n",
              "6     102   Native  Match1             4       NativeEnding         39      202\n",
              "7     102   Native  Match1             5       NativeEnding         43      216\n",
              "8     102   Native  Match2             3       NativeEnding         30      279\n",
              "9     102   Native  Match2             3      SettlerEnding         34      267\n",
              "10    102   Native  Match2             1      SettlerEnding         34      246\n",
              "11    102   Native  Match2             1       NativeEnding         30      298"
            ]
          },
          "metadata": {
            "tags": []
          },
          "execution_count": 77
        }
      ]
    },
    {
      "cell_type": "markdown",
      "metadata": {
        "id": "fsvjPJ225GkU"
      },
      "source": [
        "#### Notice there is replicated data in some sense. A treaty will show up in the observation of both players. $\\textbf{What should we do when analyzing treaty lengh?}$ \n",
        "\n",
        "Maybe we can drop the treaty length data beloning to these who didn't break the treaty. This is becase the treaty length is determined by subjects who break it, not by these who choose to stay put."
      ]
    },
    {
      "cell_type": "code",
      "metadata": {
        "colab": {
          "base_uri": "https://localhost:8080/",
          "height": 278
        },
        "id": "ODilq5CYI4Wi",
        "outputId": "792e7f98-5947-4f26-a329-84bef02b0fac"
      },
      "source": [
        "def highlight_match1(d):\n",
        "    if d.Match == 'Match1':\n",
        "        return ['background-color: yellow']*d.shape[0]\n",
        "    else:\n",
        "        return ['background-color: white']*d.shape[0]\n",
        "\n",
        "sample.style.apply(highlight_match1, axis=1)"
      ],
      "execution_count": null,
      "outputs": [
        {
          "output_type": "execute_result",
          "data": {
            "text/html": [
              "<style  type=\"text/css\" >\n",
              "#T_58072076_bc0b_11eb_ba75_0242ac1c0002row0_col0,#T_58072076_bc0b_11eb_ba75_0242ac1c0002row0_col1,#T_58072076_bc0b_11eb_ba75_0242ac1c0002row0_col2,#T_58072076_bc0b_11eb_ba75_0242ac1c0002row0_col3,#T_58072076_bc0b_11eb_ba75_0242ac1c0002row0_col4,#T_58072076_bc0b_11eb_ba75_0242ac1c0002row0_col5,#T_58072076_bc0b_11eb_ba75_0242ac1c0002row0_col6,#T_58072076_bc0b_11eb_ba75_0242ac1c0002row1_col0,#T_58072076_bc0b_11eb_ba75_0242ac1c0002row1_col1,#T_58072076_bc0b_11eb_ba75_0242ac1c0002row1_col2,#T_58072076_bc0b_11eb_ba75_0242ac1c0002row1_col3,#T_58072076_bc0b_11eb_ba75_0242ac1c0002row1_col4,#T_58072076_bc0b_11eb_ba75_0242ac1c0002row1_col5,#T_58072076_bc0b_11eb_ba75_0242ac1c0002row1_col6,#T_58072076_bc0b_11eb_ba75_0242ac1c0002row2_col0,#T_58072076_bc0b_11eb_ba75_0242ac1c0002row2_col1,#T_58072076_bc0b_11eb_ba75_0242ac1c0002row2_col2,#T_58072076_bc0b_11eb_ba75_0242ac1c0002row2_col3,#T_58072076_bc0b_11eb_ba75_0242ac1c0002row2_col4,#T_58072076_bc0b_11eb_ba75_0242ac1c0002row2_col5,#T_58072076_bc0b_11eb_ba75_0242ac1c0002row2_col6,#T_58072076_bc0b_11eb_ba75_0242ac1c0002row5_col0,#T_58072076_bc0b_11eb_ba75_0242ac1c0002row5_col1,#T_58072076_bc0b_11eb_ba75_0242ac1c0002row5_col2,#T_58072076_bc0b_11eb_ba75_0242ac1c0002row5_col3,#T_58072076_bc0b_11eb_ba75_0242ac1c0002row5_col4,#T_58072076_bc0b_11eb_ba75_0242ac1c0002row5_col5,#T_58072076_bc0b_11eb_ba75_0242ac1c0002row5_col6,#T_58072076_bc0b_11eb_ba75_0242ac1c0002row6_col0,#T_58072076_bc0b_11eb_ba75_0242ac1c0002row6_col1,#T_58072076_bc0b_11eb_ba75_0242ac1c0002row6_col2,#T_58072076_bc0b_11eb_ba75_0242ac1c0002row6_col3,#T_58072076_bc0b_11eb_ba75_0242ac1c0002row6_col4,#T_58072076_bc0b_11eb_ba75_0242ac1c0002row6_col5,#T_58072076_bc0b_11eb_ba75_0242ac1c0002row6_col6,#T_58072076_bc0b_11eb_ba75_0242ac1c0002row7_col0,#T_58072076_bc0b_11eb_ba75_0242ac1c0002row7_col1,#T_58072076_bc0b_11eb_ba75_0242ac1c0002row7_col2,#T_58072076_bc0b_11eb_ba75_0242ac1c0002row7_col3,#T_58072076_bc0b_11eb_ba75_0242ac1c0002row7_col4,#T_58072076_bc0b_11eb_ba75_0242ac1c0002row7_col5,#T_58072076_bc0b_11eb_ba75_0242ac1c0002row7_col6{\n",
              "            background-color:  yellow;\n",
              "        }#T_58072076_bc0b_11eb_ba75_0242ac1c0002row3_col0,#T_58072076_bc0b_11eb_ba75_0242ac1c0002row3_col1,#T_58072076_bc0b_11eb_ba75_0242ac1c0002row3_col2,#T_58072076_bc0b_11eb_ba75_0242ac1c0002row3_col3,#T_58072076_bc0b_11eb_ba75_0242ac1c0002row3_col4,#T_58072076_bc0b_11eb_ba75_0242ac1c0002row3_col5,#T_58072076_bc0b_11eb_ba75_0242ac1c0002row3_col6,#T_58072076_bc0b_11eb_ba75_0242ac1c0002row4_col0,#T_58072076_bc0b_11eb_ba75_0242ac1c0002row4_col1,#T_58072076_bc0b_11eb_ba75_0242ac1c0002row4_col2,#T_58072076_bc0b_11eb_ba75_0242ac1c0002row4_col3,#T_58072076_bc0b_11eb_ba75_0242ac1c0002row4_col4,#T_58072076_bc0b_11eb_ba75_0242ac1c0002row4_col5,#T_58072076_bc0b_11eb_ba75_0242ac1c0002row4_col6,#T_58072076_bc0b_11eb_ba75_0242ac1c0002row8_col0,#T_58072076_bc0b_11eb_ba75_0242ac1c0002row8_col1,#T_58072076_bc0b_11eb_ba75_0242ac1c0002row8_col2,#T_58072076_bc0b_11eb_ba75_0242ac1c0002row8_col3,#T_58072076_bc0b_11eb_ba75_0242ac1c0002row8_col4,#T_58072076_bc0b_11eb_ba75_0242ac1c0002row8_col5,#T_58072076_bc0b_11eb_ba75_0242ac1c0002row8_col6,#T_58072076_bc0b_11eb_ba75_0242ac1c0002row9_col0,#T_58072076_bc0b_11eb_ba75_0242ac1c0002row9_col1,#T_58072076_bc0b_11eb_ba75_0242ac1c0002row9_col2,#T_58072076_bc0b_11eb_ba75_0242ac1c0002row9_col3,#T_58072076_bc0b_11eb_ba75_0242ac1c0002row9_col4,#T_58072076_bc0b_11eb_ba75_0242ac1c0002row9_col5,#T_58072076_bc0b_11eb_ba75_0242ac1c0002row9_col6,#T_58072076_bc0b_11eb_ba75_0242ac1c0002row10_col0,#T_58072076_bc0b_11eb_ba75_0242ac1c0002row10_col1,#T_58072076_bc0b_11eb_ba75_0242ac1c0002row10_col2,#T_58072076_bc0b_11eb_ba75_0242ac1c0002row10_col3,#T_58072076_bc0b_11eb_ba75_0242ac1c0002row10_col4,#T_58072076_bc0b_11eb_ba75_0242ac1c0002row10_col5,#T_58072076_bc0b_11eb_ba75_0242ac1c0002row10_col6,#T_58072076_bc0b_11eb_ba75_0242ac1c0002row11_col0,#T_58072076_bc0b_11eb_ba75_0242ac1c0002row11_col1,#T_58072076_bc0b_11eb_ba75_0242ac1c0002row11_col2,#T_58072076_bc0b_11eb_ba75_0242ac1c0002row11_col3,#T_58072076_bc0b_11eb_ba75_0242ac1c0002row11_col4,#T_58072076_bc0b_11eb_ba75_0242ac1c0002row11_col5,#T_58072076_bc0b_11eb_ba75_0242ac1c0002row11_col6{\n",
              "            background-color:  white;\n",
              "        }</style><table id=\"T_58072076_bc0b_11eb_ba75_0242ac1c0002\" ><thead>    <tr>        <th class=\"blank level0\" ></th>        <th class=\"col_heading level0 col0\" >SubID</th>        <th class=\"col_heading level0 col1\" >Role</th>        <th class=\"col_heading level0 col2\" >Match</th>        <th class=\"col_heading level0 col3\" >TreatyLength</th>        <th class=\"col_heading level0 col4\" >TreatyEndingReason</th>        <th class=\"col_heading level0 col5\" >LandSplit</th>        <th class=\"col_heading level0 col6\" >Payment</th>    </tr></thead><tbody>\n",
              "                <tr>\n",
              "                        <th id=\"T_58072076_bc0b_11eb_ba75_0242ac1c0002level0_row0\" class=\"row_heading level0 row0\" >0</th>\n",
              "                        <td id=\"T_58072076_bc0b_11eb_ba75_0242ac1c0002row0_col0\" class=\"data row0 col0\" >101</td>\n",
              "                        <td id=\"T_58072076_bc0b_11eb_ba75_0242ac1c0002row0_col1\" class=\"data row0 col1\" >Settler</td>\n",
              "                        <td id=\"T_58072076_bc0b_11eb_ba75_0242ac1c0002row0_col2\" class=\"data row0 col2\" >Match1</td>\n",
              "                        <td id=\"T_58072076_bc0b_11eb_ba75_0242ac1c0002row0_col3\" class=\"data row0 col3\" >3</td>\n",
              "                        <td id=\"T_58072076_bc0b_11eb_ba75_0242ac1c0002row0_col4\" class=\"data row0 col4\" >NativeEnding</td>\n",
              "                        <td id=\"T_58072076_bc0b_11eb_ba75_0242ac1c0002row0_col5\" class=\"data row0 col5\" >42</td>\n",
              "                        <td id=\"T_58072076_bc0b_11eb_ba75_0242ac1c0002row0_col6\" class=\"data row0 col6\" >272</td>\n",
              "            </tr>\n",
              "            <tr>\n",
              "                        <th id=\"T_58072076_bc0b_11eb_ba75_0242ac1c0002level0_row1\" class=\"row_heading level0 row1\" >1</th>\n",
              "                        <td id=\"T_58072076_bc0b_11eb_ba75_0242ac1c0002row1_col0\" class=\"data row1 col0\" >101</td>\n",
              "                        <td id=\"T_58072076_bc0b_11eb_ba75_0242ac1c0002row1_col1\" class=\"data row1 col1\" >Settler</td>\n",
              "                        <td id=\"T_58072076_bc0b_11eb_ba75_0242ac1c0002row1_col2\" class=\"data row1 col2\" >Match1</td>\n",
              "                        <td id=\"T_58072076_bc0b_11eb_ba75_0242ac1c0002row1_col3\" class=\"data row1 col3\" >4</td>\n",
              "                        <td id=\"T_58072076_bc0b_11eb_ba75_0242ac1c0002row1_col4\" class=\"data row1 col4\" >NativeEnding</td>\n",
              "                        <td id=\"T_58072076_bc0b_11eb_ba75_0242ac1c0002row1_col5\" class=\"data row1 col5\" >39</td>\n",
              "                        <td id=\"T_58072076_bc0b_11eb_ba75_0242ac1c0002row1_col6\" class=\"data row1 col6\" >202</td>\n",
              "            </tr>\n",
              "            <tr>\n",
              "                        <th id=\"T_58072076_bc0b_11eb_ba75_0242ac1c0002level0_row2\" class=\"row_heading level0 row2\" >2</th>\n",
              "                        <td id=\"T_58072076_bc0b_11eb_ba75_0242ac1c0002row2_col0\" class=\"data row2 col0\" >101</td>\n",
              "                        <td id=\"T_58072076_bc0b_11eb_ba75_0242ac1c0002row2_col1\" class=\"data row2 col1\" >Settler</td>\n",
              "                        <td id=\"T_58072076_bc0b_11eb_ba75_0242ac1c0002row2_col2\" class=\"data row2 col2\" >Match1</td>\n",
              "                        <td id=\"T_58072076_bc0b_11eb_ba75_0242ac1c0002row2_col3\" class=\"data row2 col3\" >5</td>\n",
              "                        <td id=\"T_58072076_bc0b_11eb_ba75_0242ac1c0002row2_col4\" class=\"data row2 col4\" >NativeEnding</td>\n",
              "                        <td id=\"T_58072076_bc0b_11eb_ba75_0242ac1c0002row2_col5\" class=\"data row2 col5\" >43</td>\n",
              "                        <td id=\"T_58072076_bc0b_11eb_ba75_0242ac1c0002row2_col6\" class=\"data row2 col6\" >216</td>\n",
              "            </tr>\n",
              "            <tr>\n",
              "                        <th id=\"T_58072076_bc0b_11eb_ba75_0242ac1c0002level0_row3\" class=\"row_heading level0 row3\" >3</th>\n",
              "                        <td id=\"T_58072076_bc0b_11eb_ba75_0242ac1c0002row3_col0\" class=\"data row3 col0\" >101</td>\n",
              "                        <td id=\"T_58072076_bc0b_11eb_ba75_0242ac1c0002row3_col1\" class=\"data row3 col1\" >Settler</td>\n",
              "                        <td id=\"T_58072076_bc0b_11eb_ba75_0242ac1c0002row3_col2\" class=\"data row3 col2\" >Match2</td>\n",
              "                        <td id=\"T_58072076_bc0b_11eb_ba75_0242ac1c0002row3_col3\" class=\"data row3 col3\" >1</td>\n",
              "                        <td id=\"T_58072076_bc0b_11eb_ba75_0242ac1c0002row3_col4\" class=\"data row3 col4\" >SettlerEnding</td>\n",
              "                        <td id=\"T_58072076_bc0b_11eb_ba75_0242ac1c0002row3_col5\" class=\"data row3 col5\" >64</td>\n",
              "                        <td id=\"T_58072076_bc0b_11eb_ba75_0242ac1c0002row3_col6\" class=\"data row3 col6\" >244</td>\n",
              "            </tr>\n",
              "            <tr>\n",
              "                        <th id=\"T_58072076_bc0b_11eb_ba75_0242ac1c0002level0_row4\" class=\"row_heading level0 row4\" >4</th>\n",
              "                        <td id=\"T_58072076_bc0b_11eb_ba75_0242ac1c0002row4_col0\" class=\"data row4 col0\" >101</td>\n",
              "                        <td id=\"T_58072076_bc0b_11eb_ba75_0242ac1c0002row4_col1\" class=\"data row4 col1\" >Settler</td>\n",
              "                        <td id=\"T_58072076_bc0b_11eb_ba75_0242ac1c0002row4_col2\" class=\"data row4 col2\" >Match2</td>\n",
              "                        <td id=\"T_58072076_bc0b_11eb_ba75_0242ac1c0002row4_col3\" class=\"data row4 col3\" >2</td>\n",
              "                        <td id=\"T_58072076_bc0b_11eb_ba75_0242ac1c0002row4_col4\" class=\"data row4 col4\" >SettlerEnding</td>\n",
              "                        <td id=\"T_58072076_bc0b_11eb_ba75_0242ac1c0002row4_col5\" class=\"data row4 col5\" >56</td>\n",
              "                        <td id=\"T_58072076_bc0b_11eb_ba75_0242ac1c0002row4_col6\" class=\"data row4 col6\" >224</td>\n",
              "            </tr>\n",
              "            <tr>\n",
              "                        <th id=\"T_58072076_bc0b_11eb_ba75_0242ac1c0002level0_row5\" class=\"row_heading level0 row5\" >5</th>\n",
              "                        <td id=\"T_58072076_bc0b_11eb_ba75_0242ac1c0002row5_col0\" class=\"data row5 col0\" >102</td>\n",
              "                        <td id=\"T_58072076_bc0b_11eb_ba75_0242ac1c0002row5_col1\" class=\"data row5 col1\" >Native</td>\n",
              "                        <td id=\"T_58072076_bc0b_11eb_ba75_0242ac1c0002row5_col2\" class=\"data row5 col2\" >Match1</td>\n",
              "                        <td id=\"T_58072076_bc0b_11eb_ba75_0242ac1c0002row5_col3\" class=\"data row5 col3\" >3</td>\n",
              "                        <td id=\"T_58072076_bc0b_11eb_ba75_0242ac1c0002row5_col4\" class=\"data row5 col4\" >NativeEnding</td>\n",
              "                        <td id=\"T_58072076_bc0b_11eb_ba75_0242ac1c0002row5_col5\" class=\"data row5 col5\" >42</td>\n",
              "                        <td id=\"T_58072076_bc0b_11eb_ba75_0242ac1c0002row5_col6\" class=\"data row5 col6\" >272</td>\n",
              "            </tr>\n",
              "            <tr>\n",
              "                        <th id=\"T_58072076_bc0b_11eb_ba75_0242ac1c0002level0_row6\" class=\"row_heading level0 row6\" >6</th>\n",
              "                        <td id=\"T_58072076_bc0b_11eb_ba75_0242ac1c0002row6_col0\" class=\"data row6 col0\" >102</td>\n",
              "                        <td id=\"T_58072076_bc0b_11eb_ba75_0242ac1c0002row6_col1\" class=\"data row6 col1\" >Native</td>\n",
              "                        <td id=\"T_58072076_bc0b_11eb_ba75_0242ac1c0002row6_col2\" class=\"data row6 col2\" >Match1</td>\n",
              "                        <td id=\"T_58072076_bc0b_11eb_ba75_0242ac1c0002row6_col3\" class=\"data row6 col3\" >4</td>\n",
              "                        <td id=\"T_58072076_bc0b_11eb_ba75_0242ac1c0002row6_col4\" class=\"data row6 col4\" >NativeEnding</td>\n",
              "                        <td id=\"T_58072076_bc0b_11eb_ba75_0242ac1c0002row6_col5\" class=\"data row6 col5\" >39</td>\n",
              "                        <td id=\"T_58072076_bc0b_11eb_ba75_0242ac1c0002row6_col6\" class=\"data row6 col6\" >202</td>\n",
              "            </tr>\n",
              "            <tr>\n",
              "                        <th id=\"T_58072076_bc0b_11eb_ba75_0242ac1c0002level0_row7\" class=\"row_heading level0 row7\" >7</th>\n",
              "                        <td id=\"T_58072076_bc0b_11eb_ba75_0242ac1c0002row7_col0\" class=\"data row7 col0\" >102</td>\n",
              "                        <td id=\"T_58072076_bc0b_11eb_ba75_0242ac1c0002row7_col1\" class=\"data row7 col1\" >Native</td>\n",
              "                        <td id=\"T_58072076_bc0b_11eb_ba75_0242ac1c0002row7_col2\" class=\"data row7 col2\" >Match1</td>\n",
              "                        <td id=\"T_58072076_bc0b_11eb_ba75_0242ac1c0002row7_col3\" class=\"data row7 col3\" >5</td>\n",
              "                        <td id=\"T_58072076_bc0b_11eb_ba75_0242ac1c0002row7_col4\" class=\"data row7 col4\" >NativeEnding</td>\n",
              "                        <td id=\"T_58072076_bc0b_11eb_ba75_0242ac1c0002row7_col5\" class=\"data row7 col5\" >43</td>\n",
              "                        <td id=\"T_58072076_bc0b_11eb_ba75_0242ac1c0002row7_col6\" class=\"data row7 col6\" >216</td>\n",
              "            </tr>\n",
              "            <tr>\n",
              "                        <th id=\"T_58072076_bc0b_11eb_ba75_0242ac1c0002level0_row8\" class=\"row_heading level0 row8\" >8</th>\n",
              "                        <td id=\"T_58072076_bc0b_11eb_ba75_0242ac1c0002row8_col0\" class=\"data row8 col0\" >102</td>\n",
              "                        <td id=\"T_58072076_bc0b_11eb_ba75_0242ac1c0002row8_col1\" class=\"data row8 col1\" >Native</td>\n",
              "                        <td id=\"T_58072076_bc0b_11eb_ba75_0242ac1c0002row8_col2\" class=\"data row8 col2\" >Match2</td>\n",
              "                        <td id=\"T_58072076_bc0b_11eb_ba75_0242ac1c0002row8_col3\" class=\"data row8 col3\" >3</td>\n",
              "                        <td id=\"T_58072076_bc0b_11eb_ba75_0242ac1c0002row8_col4\" class=\"data row8 col4\" >NativeEnding</td>\n",
              "                        <td id=\"T_58072076_bc0b_11eb_ba75_0242ac1c0002row8_col5\" class=\"data row8 col5\" >30</td>\n",
              "                        <td id=\"T_58072076_bc0b_11eb_ba75_0242ac1c0002row8_col6\" class=\"data row8 col6\" >279</td>\n",
              "            </tr>\n",
              "            <tr>\n",
              "                        <th id=\"T_58072076_bc0b_11eb_ba75_0242ac1c0002level0_row9\" class=\"row_heading level0 row9\" >9</th>\n",
              "                        <td id=\"T_58072076_bc0b_11eb_ba75_0242ac1c0002row9_col0\" class=\"data row9 col0\" >102</td>\n",
              "                        <td id=\"T_58072076_bc0b_11eb_ba75_0242ac1c0002row9_col1\" class=\"data row9 col1\" >Native</td>\n",
              "                        <td id=\"T_58072076_bc0b_11eb_ba75_0242ac1c0002row9_col2\" class=\"data row9 col2\" >Match2</td>\n",
              "                        <td id=\"T_58072076_bc0b_11eb_ba75_0242ac1c0002row9_col3\" class=\"data row9 col3\" >3</td>\n",
              "                        <td id=\"T_58072076_bc0b_11eb_ba75_0242ac1c0002row9_col4\" class=\"data row9 col4\" >SettlerEnding</td>\n",
              "                        <td id=\"T_58072076_bc0b_11eb_ba75_0242ac1c0002row9_col5\" class=\"data row9 col5\" >34</td>\n",
              "                        <td id=\"T_58072076_bc0b_11eb_ba75_0242ac1c0002row9_col6\" class=\"data row9 col6\" >267</td>\n",
              "            </tr>\n",
              "            <tr>\n",
              "                        <th id=\"T_58072076_bc0b_11eb_ba75_0242ac1c0002level0_row10\" class=\"row_heading level0 row10\" >10</th>\n",
              "                        <td id=\"T_58072076_bc0b_11eb_ba75_0242ac1c0002row10_col0\" class=\"data row10 col0\" >102</td>\n",
              "                        <td id=\"T_58072076_bc0b_11eb_ba75_0242ac1c0002row10_col1\" class=\"data row10 col1\" >Native</td>\n",
              "                        <td id=\"T_58072076_bc0b_11eb_ba75_0242ac1c0002row10_col2\" class=\"data row10 col2\" >Match2</td>\n",
              "                        <td id=\"T_58072076_bc0b_11eb_ba75_0242ac1c0002row10_col3\" class=\"data row10 col3\" >1</td>\n",
              "                        <td id=\"T_58072076_bc0b_11eb_ba75_0242ac1c0002row10_col4\" class=\"data row10 col4\" >SettlerEnding</td>\n",
              "                        <td id=\"T_58072076_bc0b_11eb_ba75_0242ac1c0002row10_col5\" class=\"data row10 col5\" >34</td>\n",
              "                        <td id=\"T_58072076_bc0b_11eb_ba75_0242ac1c0002row10_col6\" class=\"data row10 col6\" >246</td>\n",
              "            </tr>\n",
              "            <tr>\n",
              "                        <th id=\"T_58072076_bc0b_11eb_ba75_0242ac1c0002level0_row11\" class=\"row_heading level0 row11\" >11</th>\n",
              "                        <td id=\"T_58072076_bc0b_11eb_ba75_0242ac1c0002row11_col0\" class=\"data row11 col0\" >102</td>\n",
              "                        <td id=\"T_58072076_bc0b_11eb_ba75_0242ac1c0002row11_col1\" class=\"data row11 col1\" >Native</td>\n",
              "                        <td id=\"T_58072076_bc0b_11eb_ba75_0242ac1c0002row11_col2\" class=\"data row11 col2\" >Match2</td>\n",
              "                        <td id=\"T_58072076_bc0b_11eb_ba75_0242ac1c0002row11_col3\" class=\"data row11 col3\" >1</td>\n",
              "                        <td id=\"T_58072076_bc0b_11eb_ba75_0242ac1c0002row11_col4\" class=\"data row11 col4\" >NativeEnding</td>\n",
              "                        <td id=\"T_58072076_bc0b_11eb_ba75_0242ac1c0002row11_col5\" class=\"data row11 col5\" >30</td>\n",
              "                        <td id=\"T_58072076_bc0b_11eb_ba75_0242ac1c0002row11_col6\" class=\"data row11 col6\" >298</td>\n",
              "            </tr>\n",
              "    </tbody></table>"
            ],
            "text/plain": [
              "<pandas.io.formats.style.Styler at 0x7f4b9b1bd350>"
            ]
          },
          "metadata": {
            "tags": []
          },
          "execution_count": 78
        }
      ]
    },
    {
      "cell_type": "code",
      "metadata": {
        "colab": {
          "base_uri": "https://localhost:8080/",
          "height": 254
        },
        "id": "pI7qlypb4LMd",
        "outputId": "455a8960-41a7-4131-f0af-d945c5c83923"
      },
      "source": [
        "sample.loc[sample.Role.str[0] == sample.TreatyEndingReason.str[0], ]"
      ],
      "execution_count": null,
      "outputs": [
        {
          "output_type": "execute_result",
          "data": {
            "text/html": [
              "<div>\n",
              "<style scoped>\n",
              "    .dataframe tbody tr th:only-of-type {\n",
              "        vertical-align: middle;\n",
              "    }\n",
              "\n",
              "    .dataframe tbody tr th {\n",
              "        vertical-align: top;\n",
              "    }\n",
              "\n",
              "    .dataframe thead th {\n",
              "        text-align: right;\n",
              "    }\n",
              "</style>\n",
              "<table border=\"1\" class=\"dataframe\">\n",
              "  <thead>\n",
              "    <tr style=\"text-align: right;\">\n",
              "      <th></th>\n",
              "      <th>SubID</th>\n",
              "      <th>Role</th>\n",
              "      <th>Match</th>\n",
              "      <th>TreatyLength</th>\n",
              "      <th>TreatyEndingReason</th>\n",
              "      <th>LandSplit</th>\n",
              "      <th>Payment</th>\n",
              "    </tr>\n",
              "  </thead>\n",
              "  <tbody>\n",
              "    <tr>\n",
              "      <th>3</th>\n",
              "      <td>101</td>\n",
              "      <td>Settler</td>\n",
              "      <td>Match2</td>\n",
              "      <td>1</td>\n",
              "      <td>SettlerEnding</td>\n",
              "      <td>64</td>\n",
              "      <td>244</td>\n",
              "    </tr>\n",
              "    <tr>\n",
              "      <th>4</th>\n",
              "      <td>101</td>\n",
              "      <td>Settler</td>\n",
              "      <td>Match2</td>\n",
              "      <td>2</td>\n",
              "      <td>SettlerEnding</td>\n",
              "      <td>56</td>\n",
              "      <td>224</td>\n",
              "    </tr>\n",
              "    <tr>\n",
              "      <th>5</th>\n",
              "      <td>102</td>\n",
              "      <td>Native</td>\n",
              "      <td>Match1</td>\n",
              "      <td>3</td>\n",
              "      <td>NativeEnding</td>\n",
              "      <td>42</td>\n",
              "      <td>272</td>\n",
              "    </tr>\n",
              "    <tr>\n",
              "      <th>6</th>\n",
              "      <td>102</td>\n",
              "      <td>Native</td>\n",
              "      <td>Match1</td>\n",
              "      <td>4</td>\n",
              "      <td>NativeEnding</td>\n",
              "      <td>39</td>\n",
              "      <td>202</td>\n",
              "    </tr>\n",
              "    <tr>\n",
              "      <th>7</th>\n",
              "      <td>102</td>\n",
              "      <td>Native</td>\n",
              "      <td>Match1</td>\n",
              "      <td>5</td>\n",
              "      <td>NativeEnding</td>\n",
              "      <td>43</td>\n",
              "      <td>216</td>\n",
              "    </tr>\n",
              "    <tr>\n",
              "      <th>8</th>\n",
              "      <td>102</td>\n",
              "      <td>Native</td>\n",
              "      <td>Match2</td>\n",
              "      <td>3</td>\n",
              "      <td>NativeEnding</td>\n",
              "      <td>30</td>\n",
              "      <td>279</td>\n",
              "    </tr>\n",
              "    <tr>\n",
              "      <th>11</th>\n",
              "      <td>102</td>\n",
              "      <td>Native</td>\n",
              "      <td>Match2</td>\n",
              "      <td>1</td>\n",
              "      <td>NativeEnding</td>\n",
              "      <td>30</td>\n",
              "      <td>298</td>\n",
              "    </tr>\n",
              "  </tbody>\n",
              "</table>\n",
              "</div>"
            ],
            "text/plain": [
              "    SubID     Role   Match  TreatyLength TreatyEndingReason  LandSplit  Payment\n",
              "3     101  Settler  Match2             1      SettlerEnding         64      244\n",
              "4     101  Settler  Match2             2      SettlerEnding         56      224\n",
              "5     102   Native  Match1             3       NativeEnding         42      272\n",
              "6     102   Native  Match1             4       NativeEnding         39      202\n",
              "7     102   Native  Match1             5       NativeEnding         43      216\n",
              "8     102   Native  Match2             3       NativeEnding         30      279\n",
              "11    102   Native  Match2             1       NativeEnding         30      298"
            ]
          },
          "metadata": {
            "tags": []
          },
          "execution_count": 79
        }
      ]
    },
    {
      "cell_type": "markdown",
      "metadata": {
        "id": "3t7lLTG98mr1"
      },
      "source": [
        "### What does the lab data look like after this consideration?\n",
        "Let's leave variables Landsplit and Payment in a side. "
      ]
    },
    {
      "cell_type": "code",
      "metadata": {
        "id": "LH6rl-VP-U-6"
      },
      "source": [
        "n_sub = 4; n_matchs = 4; n_treaty = 4\n",
        "n_obs = n_sub * n_matchs\n",
        "SubID = np.repeat([101, 102, 103, 104], n_matchs)\n",
        "Role = np.repeat(['Settler', 'Native', 'Settler', 'Native'], n_matchs)\n",
        "Match = np.tile(['Match'+str(i+1) for i in range(n_matchs)], n_sub)\n",
        "Institution = np.repeat(['Annuity', 'LumpSum'], n_obs/2)\n",
        "\n",
        "TreatyLength = np.random.randint(1, 7, size=(n_obs, n_treaty))"
      ],
      "execution_count": null,
      "outputs": []
    },
    {
      "cell_type": "code",
      "metadata": {
        "id": "x2NKARdYG81W"
      },
      "source": [
        "d1 = pd.DataFrame(zip(SubID, Role, Match, Institution), columns=['SubID', 'Role', 'Match', 'Institution'])\n",
        "d2 = pd.DataFrame(TreatyLength, columns=['Treaty'+str(i+1) for i in range(n_treaty)])\n",
        "d = pd.concat((d1, d2), axis=1)"
      ],
      "execution_count": null,
      "outputs": []
    },
    {
      "cell_type": "markdown",
      "metadata": {
        "id": "W21Bh_sXLAst"
      },
      "source": [
        "The data set will look like a (long) panel data (think of Treaties as time since there is a learning effect). "
      ]
    },
    {
      "cell_type": "code",
      "metadata": {
        "colab": {
          "base_uri": "https://localhost:8080/",
          "height": 550
        },
        "id": "UWNDjoQVG9oF",
        "outputId": "27a45990-e17f-44d1-8820-33fe3315546d"
      },
      "source": [
        "d.set_index(['SubID', 'Match'])"
      ],
      "execution_count": null,
      "outputs": [
        {
          "output_type": "execute_result",
          "data": {
            "text/html": [
              "<div>\n",
              "<style scoped>\n",
              "    .dataframe tbody tr th:only-of-type {\n",
              "        vertical-align: middle;\n",
              "    }\n",
              "\n",
              "    .dataframe tbody tr th {\n",
              "        vertical-align: top;\n",
              "    }\n",
              "\n",
              "    .dataframe thead th {\n",
              "        text-align: right;\n",
              "    }\n",
              "</style>\n",
              "<table border=\"1\" class=\"dataframe\">\n",
              "  <thead>\n",
              "    <tr style=\"text-align: right;\">\n",
              "      <th></th>\n",
              "      <th></th>\n",
              "      <th>Role</th>\n",
              "      <th>Institution</th>\n",
              "      <th>Treaty1</th>\n",
              "      <th>Treaty2</th>\n",
              "      <th>Treaty3</th>\n",
              "      <th>Treaty4</th>\n",
              "    </tr>\n",
              "    <tr>\n",
              "      <th>SubID</th>\n",
              "      <th>Match</th>\n",
              "      <th></th>\n",
              "      <th></th>\n",
              "      <th></th>\n",
              "      <th></th>\n",
              "      <th></th>\n",
              "      <th></th>\n",
              "    </tr>\n",
              "  </thead>\n",
              "  <tbody>\n",
              "    <tr>\n",
              "      <th rowspan=\"4\" valign=\"top\">101</th>\n",
              "      <th>Match1</th>\n",
              "      <td>Settler</td>\n",
              "      <td>Annuity</td>\n",
              "      <td>3</td>\n",
              "      <td>3</td>\n",
              "      <td>6</td>\n",
              "      <td>5</td>\n",
              "    </tr>\n",
              "    <tr>\n",
              "      <th>Match2</th>\n",
              "      <td>Settler</td>\n",
              "      <td>Annuity</td>\n",
              "      <td>3</td>\n",
              "      <td>2</td>\n",
              "      <td>4</td>\n",
              "      <td>4</td>\n",
              "    </tr>\n",
              "    <tr>\n",
              "      <th>Match3</th>\n",
              "      <td>Settler</td>\n",
              "      <td>Annuity</td>\n",
              "      <td>6</td>\n",
              "      <td>1</td>\n",
              "      <td>6</td>\n",
              "      <td>2</td>\n",
              "    </tr>\n",
              "    <tr>\n",
              "      <th>Match4</th>\n",
              "      <td>Settler</td>\n",
              "      <td>Annuity</td>\n",
              "      <td>3</td>\n",
              "      <td>6</td>\n",
              "      <td>4</td>\n",
              "      <td>2</td>\n",
              "    </tr>\n",
              "    <tr>\n",
              "      <th rowspan=\"4\" valign=\"top\">102</th>\n",
              "      <th>Match1</th>\n",
              "      <td>Native</td>\n",
              "      <td>Annuity</td>\n",
              "      <td>4</td>\n",
              "      <td>1</td>\n",
              "      <td>3</td>\n",
              "      <td>6</td>\n",
              "    </tr>\n",
              "    <tr>\n",
              "      <th>Match2</th>\n",
              "      <td>Native</td>\n",
              "      <td>Annuity</td>\n",
              "      <td>1</td>\n",
              "      <td>4</td>\n",
              "      <td>6</td>\n",
              "      <td>3</td>\n",
              "    </tr>\n",
              "    <tr>\n",
              "      <th>Match3</th>\n",
              "      <td>Native</td>\n",
              "      <td>Annuity</td>\n",
              "      <td>3</td>\n",
              "      <td>4</td>\n",
              "      <td>5</td>\n",
              "      <td>2</td>\n",
              "    </tr>\n",
              "    <tr>\n",
              "      <th>Match4</th>\n",
              "      <td>Native</td>\n",
              "      <td>Annuity</td>\n",
              "      <td>1</td>\n",
              "      <td>5</td>\n",
              "      <td>3</td>\n",
              "      <td>3</td>\n",
              "    </tr>\n",
              "    <tr>\n",
              "      <th rowspan=\"4\" valign=\"top\">103</th>\n",
              "      <th>Match1</th>\n",
              "      <td>Settler</td>\n",
              "      <td>LumpSum</td>\n",
              "      <td>4</td>\n",
              "      <td>2</td>\n",
              "      <td>1</td>\n",
              "      <td>6</td>\n",
              "    </tr>\n",
              "    <tr>\n",
              "      <th>Match2</th>\n",
              "      <td>Settler</td>\n",
              "      <td>LumpSum</td>\n",
              "      <td>2</td>\n",
              "      <td>5</td>\n",
              "      <td>6</td>\n",
              "      <td>6</td>\n",
              "    </tr>\n",
              "    <tr>\n",
              "      <th>Match3</th>\n",
              "      <td>Settler</td>\n",
              "      <td>LumpSum</td>\n",
              "      <td>4</td>\n",
              "      <td>3</td>\n",
              "      <td>5</td>\n",
              "      <td>1</td>\n",
              "    </tr>\n",
              "    <tr>\n",
              "      <th>Match4</th>\n",
              "      <td>Settler</td>\n",
              "      <td>LumpSum</td>\n",
              "      <td>3</td>\n",
              "      <td>5</td>\n",
              "      <td>2</td>\n",
              "      <td>3</td>\n",
              "    </tr>\n",
              "    <tr>\n",
              "      <th rowspan=\"4\" valign=\"top\">104</th>\n",
              "      <th>Match1</th>\n",
              "      <td>Native</td>\n",
              "      <td>LumpSum</td>\n",
              "      <td>6</td>\n",
              "      <td>5</td>\n",
              "      <td>4</td>\n",
              "      <td>6</td>\n",
              "    </tr>\n",
              "    <tr>\n",
              "      <th>Match2</th>\n",
              "      <td>Native</td>\n",
              "      <td>LumpSum</td>\n",
              "      <td>4</td>\n",
              "      <td>1</td>\n",
              "      <td>6</td>\n",
              "      <td>2</td>\n",
              "    </tr>\n",
              "    <tr>\n",
              "      <th>Match3</th>\n",
              "      <td>Native</td>\n",
              "      <td>LumpSum</td>\n",
              "      <td>2</td>\n",
              "      <td>2</td>\n",
              "      <td>3</td>\n",
              "      <td>3</td>\n",
              "    </tr>\n",
              "    <tr>\n",
              "      <th>Match4</th>\n",
              "      <td>Native</td>\n",
              "      <td>LumpSum</td>\n",
              "      <td>2</td>\n",
              "      <td>2</td>\n",
              "      <td>2</td>\n",
              "      <td>6</td>\n",
              "    </tr>\n",
              "  </tbody>\n",
              "</table>\n",
              "</div>"
            ],
            "text/plain": [
              "                 Role Institution  Treaty1  Treaty2  Treaty3  Treaty4\n",
              "SubID Match                                                          \n",
              "101   Match1  Settler     Annuity        3        3        6        5\n",
              "      Match2  Settler     Annuity        3        2        4        4\n",
              "      Match3  Settler     Annuity        6        1        6        2\n",
              "      Match4  Settler     Annuity        3        6        4        2\n",
              "102   Match1   Native     Annuity        4        1        3        6\n",
              "      Match2   Native     Annuity        1        4        6        3\n",
              "      Match3   Native     Annuity        3        4        5        2\n",
              "      Match4   Native     Annuity        1        5        3        3\n",
              "103   Match1  Settler     LumpSum        4        2        1        6\n",
              "      Match2  Settler     LumpSum        2        5        6        6\n",
              "      Match3  Settler     LumpSum        4        3        5        1\n",
              "      Match4  Settler     LumpSum        3        5        2        3\n",
              "104   Match1   Native     LumpSum        6        5        4        6\n",
              "      Match2   Native     LumpSum        4        1        6        2\n",
              "      Match3   Native     LumpSum        2        2        3        3\n",
              "      Match4   Native     LumpSum        2        2        2        6"
            ]
          },
          "metadata": {
            "tags": []
          },
          "execution_count": 130
        }
      ]
    },
    {
      "cell_type": "code",
      "metadata": {
        "id": "SQx129tyG-Lh"
      },
      "source": [
        "for i in range(n_obs):\n",
        "    d.iloc[i, 5+np.random.randint(n_treaty):] = np.NaN"
      ],
      "execution_count": null,
      "outputs": []
    },
    {
      "cell_type": "markdown",
      "metadata": {
        "id": "k1qRQo_ZOQQx"
      },
      "source": [
        "Unfortunately, the data set will not be a balanced panel. More likely, the data will look like this."
      ]
    },
    {
      "cell_type": "code",
      "metadata": {
        "colab": {
          "base_uri": "https://localhost:8080/",
          "height": 462
        },
        "id": "X1LA0uPlMNK9",
        "outputId": "d8ce46d6-5d10-4157-cfa7-ce09de85afbb"
      },
      "source": [
        "d.drop(labels=np.random.randint(n_obs, size=4)).set_index(['SubID', 'Match'])"
      ],
      "execution_count": null,
      "outputs": [
        {
          "output_type": "execute_result",
          "data": {
            "text/html": [
              "<div>\n",
              "<style scoped>\n",
              "    .dataframe tbody tr th:only-of-type {\n",
              "        vertical-align: middle;\n",
              "    }\n",
              "\n",
              "    .dataframe tbody tr th {\n",
              "        vertical-align: top;\n",
              "    }\n",
              "\n",
              "    .dataframe thead th {\n",
              "        text-align: right;\n",
              "    }\n",
              "</style>\n",
              "<table border=\"1\" class=\"dataframe\">\n",
              "  <thead>\n",
              "    <tr style=\"text-align: right;\">\n",
              "      <th></th>\n",
              "      <th></th>\n",
              "      <th>Role</th>\n",
              "      <th>Institution</th>\n",
              "      <th>Treaty1</th>\n",
              "      <th>Treaty2</th>\n",
              "      <th>Treaty3</th>\n",
              "      <th>Treaty4</th>\n",
              "    </tr>\n",
              "    <tr>\n",
              "      <th>SubID</th>\n",
              "      <th>Match</th>\n",
              "      <th></th>\n",
              "      <th></th>\n",
              "      <th></th>\n",
              "      <th></th>\n",
              "      <th></th>\n",
              "      <th></th>\n",
              "    </tr>\n",
              "  </thead>\n",
              "  <tbody>\n",
              "    <tr>\n",
              "      <th rowspan=\"4\" valign=\"top\">101</th>\n",
              "      <th>Match1</th>\n",
              "      <td>Settler</td>\n",
              "      <td>Annuity</td>\n",
              "      <td>3</td>\n",
              "      <td>3</td>\n",
              "      <td>6</td>\n",
              "      <td>5</td>\n",
              "    </tr>\n",
              "    <tr>\n",
              "      <th>Match2</th>\n",
              "      <td>Settler</td>\n",
              "      <td>Annuity</td>\n",
              "      <td>3</td>\n",
              "      <td>nan</td>\n",
              "      <td>nan</td>\n",
              "      <td>nan</td>\n",
              "    </tr>\n",
              "    <tr>\n",
              "      <th>Match3</th>\n",
              "      <td>Settler</td>\n",
              "      <td>Annuity</td>\n",
              "      <td>6</td>\n",
              "      <td>1</td>\n",
              "      <td>6</td>\n",
              "      <td>2</td>\n",
              "    </tr>\n",
              "    <tr>\n",
              "      <th>Match4</th>\n",
              "      <td>Settler</td>\n",
              "      <td>Annuity</td>\n",
              "      <td>3</td>\n",
              "      <td>6</td>\n",
              "      <td>4</td>\n",
              "      <td>2</td>\n",
              "    </tr>\n",
              "    <tr>\n",
              "      <th rowspan=\"3\" valign=\"top\">102</th>\n",
              "      <th>Match1</th>\n",
              "      <td>Native</td>\n",
              "      <td>Annuity</td>\n",
              "      <td>4</td>\n",
              "      <td>1</td>\n",
              "      <td>3</td>\n",
              "      <td>nan</td>\n",
              "    </tr>\n",
              "    <tr>\n",
              "      <th>Match2</th>\n",
              "      <td>Native</td>\n",
              "      <td>Annuity</td>\n",
              "      <td>1</td>\n",
              "      <td>4</td>\n",
              "      <td>6</td>\n",
              "      <td>3</td>\n",
              "    </tr>\n",
              "    <tr>\n",
              "      <th>Match3</th>\n",
              "      <td>Native</td>\n",
              "      <td>Annuity</td>\n",
              "      <td>3</td>\n",
              "      <td>4</td>\n",
              "      <td>nan</td>\n",
              "      <td>nan</td>\n",
              "    </tr>\n",
              "    <tr>\n",
              "      <th rowspan=\"3\" valign=\"top\">103</th>\n",
              "      <th>Match1</th>\n",
              "      <td>Settler</td>\n",
              "      <td>LumpSum</td>\n",
              "      <td>4</td>\n",
              "      <td>2</td>\n",
              "      <td>1</td>\n",
              "      <td>nan</td>\n",
              "    </tr>\n",
              "    <tr>\n",
              "      <th>Match3</th>\n",
              "      <td>Settler</td>\n",
              "      <td>LumpSum</td>\n",
              "      <td>4</td>\n",
              "      <td>nan</td>\n",
              "      <td>nan</td>\n",
              "      <td>nan</td>\n",
              "    </tr>\n",
              "    <tr>\n",
              "      <th>Match4</th>\n",
              "      <td>Settler</td>\n",
              "      <td>LumpSum</td>\n",
              "      <td>3</td>\n",
              "      <td>5</td>\n",
              "      <td>2</td>\n",
              "      <td>3</td>\n",
              "    </tr>\n",
              "    <tr>\n",
              "      <th rowspan=\"3\" valign=\"top\">104</th>\n",
              "      <th>Match1</th>\n",
              "      <td>Native</td>\n",
              "      <td>LumpSum</td>\n",
              "      <td>6</td>\n",
              "      <td>5</td>\n",
              "      <td>nan</td>\n",
              "      <td>nan</td>\n",
              "    </tr>\n",
              "    <tr>\n",
              "      <th>Match3</th>\n",
              "      <td>Native</td>\n",
              "      <td>LumpSum</td>\n",
              "      <td>2</td>\n",
              "      <td>2</td>\n",
              "      <td>nan</td>\n",
              "      <td>nan</td>\n",
              "    </tr>\n",
              "    <tr>\n",
              "      <th>Match4</th>\n",
              "      <td>Native</td>\n",
              "      <td>LumpSum</td>\n",
              "      <td>2</td>\n",
              "      <td>2</td>\n",
              "      <td>2</td>\n",
              "      <td>6</td>\n",
              "    </tr>\n",
              "  </tbody>\n",
              "</table>\n",
              "</div>"
            ],
            "text/plain": [
              "                 Role Institution  Treaty1  Treaty2  Treaty3  Treaty4\n",
              "SubID Match                                                          \n",
              "101   Match1  Settler     Annuity        3        3        6        5\n",
              "      Match2  Settler     Annuity        3      nan      nan      nan\n",
              "      Match3  Settler     Annuity        6        1        6        2\n",
              "      Match4  Settler     Annuity        3        6        4        2\n",
              "102   Match1   Native     Annuity        4        1        3      nan\n",
              "      Match2   Native     Annuity        1        4        6        3\n",
              "      Match3   Native     Annuity        3        4      nan      nan\n",
              "103   Match1  Settler     LumpSum        4        2        1      nan\n",
              "      Match3  Settler     LumpSum        4      nan      nan      nan\n",
              "      Match4  Settler     LumpSum        3        5        2        3\n",
              "104   Match1   Native     LumpSum        6        5      nan      nan\n",
              "      Match3   Native     LumpSum        2        2      nan      nan\n",
              "      Match4   Native     LumpSum        2        2        2        6"
            ]
          },
          "metadata": {
            "tags": []
          },
          "execution_count": 134
        }
      ]
    },
    {
      "cell_type": "markdown",
      "metadata": {
        "id": "w3d2dvHBN1gn"
      },
      "source": [
        "### What can and should we study?\n",
        "\n",
        "* Treatment effects. Intuitively, annuity treaty will be more stable and will last longer when compared to the lump-sum treaty.\n",
        "* Role effects. Different roles might hold different ability to maintain the treaty. For example, for a settler, who proposes the treaty, it's easy for her to  propose a new one when she figures out that there is more profitbale treaty for both her and her opponets. But this is not easy for a native, who might stick to the current treaty even enough she knows there is a more profitable treaty. \n",
        "* Session (match) effects. Subjects will learn how to make/recognize a 'good' treaty. Treaty will last longer as they have more experiences.\n",
        "* Time effects (or treaty effects). This is a more detailed version of session effects. The assumption is that subjects will do better when they propose/accept a new treaty. In this case, we are likely to get a more balanced pandel when we line up all treaties in different matches together.\n",
        "* Individual effects. The idea is that different individuals will have differing parameters to stick to a treaty. Some subjects are more easy to end the treaty early."
      ]
    },
    {
      "cell_type": "code",
      "metadata": {
        "id": "Z89LbssMPyNl"
      },
      "source": [
        "TreatyLength = np.random.randint(1, 7, size=(3, 16))\n",
        "d_line_up = pd.DataFrame(data=TreatyLength, columns=['Treaty'+str(i+1) for i in range(16)])\n",
        "d_line_up.iloc[0, 12:] = np.NaN\n",
        "d_line_up.iloc[1, 14:] = np.NaN\n",
        "d_line_up.insert(0, 'SubID', [101, 102, 103])\n",
        "d_line_up.insert(1, 'Institution', ['Annuity', 'LupSum', 'Annuity'])\n",
        "d_line_up.insert(2, 'Role', ['Native', 'Settler', 'Native'])"
      ],
      "execution_count": null,
      "outputs": []
    },
    {
      "cell_type": "code",
      "metadata": {
        "colab": {
          "base_uri": "https://localhost:8080/",
          "height": 136
        },
        "id": "fLA0lMjkT6Pf",
        "outputId": "638b617c-2a61-4e9c-93d5-982d4b51717a"
      },
      "source": [
        "d_line_up"
      ],
      "execution_count": null,
      "outputs": [
        {
          "output_type": "execute_result",
          "data": {
            "text/html": [
              "<div>\n",
              "<style scoped>\n",
              "    .dataframe tbody tr th:only-of-type {\n",
              "        vertical-align: middle;\n",
              "    }\n",
              "\n",
              "    .dataframe tbody tr th {\n",
              "        vertical-align: top;\n",
              "    }\n",
              "\n",
              "    .dataframe thead th {\n",
              "        text-align: right;\n",
              "    }\n",
              "</style>\n",
              "<table border=\"1\" class=\"dataframe\">\n",
              "  <thead>\n",
              "    <tr style=\"text-align: right;\">\n",
              "      <th></th>\n",
              "      <th>SubID</th>\n",
              "      <th>Institution</th>\n",
              "      <th>Role</th>\n",
              "      <th>Treaty1</th>\n",
              "      <th>Treaty2</th>\n",
              "      <th>Treaty3</th>\n",
              "      <th>Treaty4</th>\n",
              "      <th>Treaty5</th>\n",
              "      <th>Treaty6</th>\n",
              "      <th>Treaty7</th>\n",
              "      <th>Treaty8</th>\n",
              "      <th>Treaty9</th>\n",
              "      <th>Treaty10</th>\n",
              "      <th>Treaty11</th>\n",
              "      <th>Treaty12</th>\n",
              "      <th>Treaty13</th>\n",
              "      <th>Treaty14</th>\n",
              "      <th>Treaty15</th>\n",
              "      <th>Treaty16</th>\n",
              "    </tr>\n",
              "  </thead>\n",
              "  <tbody>\n",
              "    <tr>\n",
              "      <th>0</th>\n",
              "      <td>101</td>\n",
              "      <td>Annuity</td>\n",
              "      <td>Native</td>\n",
              "      <td>1</td>\n",
              "      <td>2</td>\n",
              "      <td>1</td>\n",
              "      <td>6</td>\n",
              "      <td>3</td>\n",
              "      <td>2</td>\n",
              "      <td>4</td>\n",
              "      <td>1</td>\n",
              "      <td>3</td>\n",
              "      <td>4</td>\n",
              "      <td>4</td>\n",
              "      <td>6</td>\n",
              "      <td>nan</td>\n",
              "      <td>nan</td>\n",
              "      <td>nan</td>\n",
              "      <td>nan</td>\n",
              "    </tr>\n",
              "    <tr>\n",
              "      <th>1</th>\n",
              "      <td>102</td>\n",
              "      <td>LupSum</td>\n",
              "      <td>Settler</td>\n",
              "      <td>4</td>\n",
              "      <td>5</td>\n",
              "      <td>6</td>\n",
              "      <td>1</td>\n",
              "      <td>3</td>\n",
              "      <td>6</td>\n",
              "      <td>3</td>\n",
              "      <td>1</td>\n",
              "      <td>6</td>\n",
              "      <td>4</td>\n",
              "      <td>6</td>\n",
              "      <td>1</td>\n",
              "      <td>4</td>\n",
              "      <td>6</td>\n",
              "      <td>nan</td>\n",
              "      <td>nan</td>\n",
              "    </tr>\n",
              "    <tr>\n",
              "      <th>2</th>\n",
              "      <td>103</td>\n",
              "      <td>Annuity</td>\n",
              "      <td>Native</td>\n",
              "      <td>1</td>\n",
              "      <td>4</td>\n",
              "      <td>5</td>\n",
              "      <td>4</td>\n",
              "      <td>3</td>\n",
              "      <td>3</td>\n",
              "      <td>3</td>\n",
              "      <td>3</td>\n",
              "      <td>3</td>\n",
              "      <td>1</td>\n",
              "      <td>2</td>\n",
              "      <td>2</td>\n",
              "      <td>4</td>\n",
              "      <td>4</td>\n",
              "      <td>6</td>\n",
              "      <td>1</td>\n",
              "    </tr>\n",
              "  </tbody>\n",
              "</table>\n",
              "</div>"
            ],
            "text/plain": [
              "   SubID Institution     Role  Treaty1  ...  Treaty13  Treaty14  Treaty15  Treaty16\n",
              "0    101     Annuity   Native        1  ...       nan       nan       nan       nan\n",
              "1    102      LupSum  Settler        4  ...         4         6       nan       nan\n",
              "2    103     Annuity   Native        1  ...         4         4         6         1\n",
              "\n",
              "[3 rows x 19 columns]"
            ]
          },
          "metadata": {
            "tags": []
          },
          "execution_count": 148
        }
      ]
    },
    {
      "cell_type": "code",
      "metadata": {
        "id": "ZlwMtkb5T7E3"
      },
      "source": [
        ""
      ],
      "execution_count": null,
      "outputs": []
    },
    {
      "cell_type": "code",
      "metadata": {
        "id": "yQjjBHajxAoo"
      },
      "source": [
        ""
      ],
      "execution_count": null,
      "outputs": []
    }
  ]
}